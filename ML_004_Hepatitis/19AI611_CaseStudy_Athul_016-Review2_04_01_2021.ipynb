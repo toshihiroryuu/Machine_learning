{
 "cells": [
  {
   "cell_type": "markdown",
   "metadata": {},
   "source": [
    "## Liver Faliure (Hepatitis C) - Prediction."
   ]
  },
  {
   "cell_type": "markdown",
   "metadata": {},
   "source": [
    "Hepatitis C"
   ]
  },
  {
   "cell_type": "markdown",
   "metadata": {},
   "source": [
    "An infection caused by a virus that attacks the liver and leads to inflammation."
   ]
  },
  {
   "cell_type": "markdown",
   "metadata": {},
   "source": [
    "The virus is spread by contact with contaminated blood; for example, from sharing needles or from unsterile tattoo equipment.\n",
    "Most people have no symptoms. Those who do develop symptoms may have fatigue, nausea, loss of appetite and yellowing of the eyes and skin"
   ]
  },
  {
   "cell_type": "markdown",
   "metadata": {},
   "source": [
    "Data set url : http://archive.ics.uci.edu/ml/datasets/HCV+data"
   ]
  },
  {
   "cell_type": "markdown",
   "metadata": {},
   "source": [
    "GitHub Repo Of this Analysis and Dataset in case of any faliure: \n",
    "https://github.com/toshihiroryuu/Machine_learning/tree/master/ML_004_Hepatitis"
   ]
  },
  {
   "cell_type": "markdown",
   "metadata": {},
   "source": [
    "The target attribute for classification is Category (blood donors vs. Hepatitis C (including its progress ('just' Hepatitis C, Fibrosis, Cirrhosis)"
   ]
  },
  {
   "cell_type": "markdown",
   "metadata": {},
   "source": [
    "## Attribute Information:"
   ]
  },
  {
   "cell_type": "markdown",
   "metadata": {},
   "source": [
    "14 attributes - Data set from UCI (UNIVERSITY OF CALIFORNIA)- Irwin Machine Learning Reository"
   ]
  },
  {
   "cell_type": "markdown",
   "metadata": {},
   "source": [
    "All attributes except Category and Sex are numerical. The laboratory data are the attributes 5-14."
   ]
  },
  {
   "cell_type": "markdown",
   "metadata": {},
   "source": [
    "Category (diagnosis) (values: '0=Blood Donor', '0s=suspect Blood Donor', '1=Hepatitis', '2=Fibrosis', '3=Cirrhosis')"
   ]
  },
  {
   "cell_type": "markdown",
   "metadata": {},
   "source": [
    "X (Patient ID/No., \n",
    "Age - age (in years), \n",
    "Sex - male or female(f,m), \n",
    "ALB - Albumin, \n",
    "ALP - Alkaline phosphatase, \n",
    "ALT - Alanine transaminase, \n",
    "AST - Aspartate aminotransferase, \n",
    "BIL - Bilirubin, \n",
    "CHE - cholinesterase, \n",
    "CHOL - Cholesterol, \n",
    "CREA - Creatine, \n",
    "GGT - Gamma-glutamyl transferase, \n",
    "PROT - Protien in urine, "
   ]
  },
  {
   "cell_type": "code",
   "execution_count": 1,
   "metadata": {},
   "outputs": [
    {
     "data": {
      "text/html": [
       "<div>\n",
       "<style scoped>\n",
       "    .dataframe tbody tr th:only-of-type {\n",
       "        vertical-align: middle;\n",
       "    }\n",
       "\n",
       "    .dataframe tbody tr th {\n",
       "        vertical-align: top;\n",
       "    }\n",
       "\n",
       "    .dataframe thead th {\n",
       "        text-align: right;\n",
       "    }\n",
       "</style>\n",
       "<table border=\"1\" class=\"dataframe\">\n",
       "  <thead>\n",
       "    <tr style=\"text-align: right;\">\n",
       "      <th></th>\n",
       "      <th>Unnamed: 0</th>\n",
       "      <th>Category</th>\n",
       "      <th>Age</th>\n",
       "      <th>Sex</th>\n",
       "      <th>ALB</th>\n",
       "      <th>ALP</th>\n",
       "      <th>ALT</th>\n",
       "      <th>AST</th>\n",
       "      <th>BIL</th>\n",
       "      <th>CHE</th>\n",
       "      <th>CHOL</th>\n",
       "      <th>CREA</th>\n",
       "      <th>GGT</th>\n",
       "      <th>PROT</th>\n",
       "    </tr>\n",
       "  </thead>\n",
       "  <tbody>\n",
       "    <tr>\n",
       "      <th>0</th>\n",
       "      <td>1</td>\n",
       "      <td>0=Blood Donor</td>\n",
       "      <td>32</td>\n",
       "      <td>m</td>\n",
       "      <td>38.5</td>\n",
       "      <td>52.5</td>\n",
       "      <td>7.7</td>\n",
       "      <td>22.1</td>\n",
       "      <td>7.5</td>\n",
       "      <td>6.93</td>\n",
       "      <td>3.23</td>\n",
       "      <td>106.0</td>\n",
       "      <td>12.1</td>\n",
       "      <td>69.0</td>\n",
       "    </tr>\n",
       "    <tr>\n",
       "      <th>1</th>\n",
       "      <td>2</td>\n",
       "      <td>0=Blood Donor</td>\n",
       "      <td>32</td>\n",
       "      <td>m</td>\n",
       "      <td>38.5</td>\n",
       "      <td>70.3</td>\n",
       "      <td>18.0</td>\n",
       "      <td>24.7</td>\n",
       "      <td>3.9</td>\n",
       "      <td>11.17</td>\n",
       "      <td>4.80</td>\n",
       "      <td>74.0</td>\n",
       "      <td>15.6</td>\n",
       "      <td>76.5</td>\n",
       "    </tr>\n",
       "    <tr>\n",
       "      <th>2</th>\n",
       "      <td>3</td>\n",
       "      <td>0=Blood Donor</td>\n",
       "      <td>32</td>\n",
       "      <td>m</td>\n",
       "      <td>46.9</td>\n",
       "      <td>74.7</td>\n",
       "      <td>36.2</td>\n",
       "      <td>52.6</td>\n",
       "      <td>6.1</td>\n",
       "      <td>8.84</td>\n",
       "      <td>5.20</td>\n",
       "      <td>86.0</td>\n",
       "      <td>33.2</td>\n",
       "      <td>79.3</td>\n",
       "    </tr>\n",
       "    <tr>\n",
       "      <th>3</th>\n",
       "      <td>4</td>\n",
       "      <td>0=Blood Donor</td>\n",
       "      <td>32</td>\n",
       "      <td>m</td>\n",
       "      <td>43.2</td>\n",
       "      <td>52.0</td>\n",
       "      <td>30.6</td>\n",
       "      <td>22.6</td>\n",
       "      <td>18.9</td>\n",
       "      <td>7.33</td>\n",
       "      <td>4.74</td>\n",
       "      <td>80.0</td>\n",
       "      <td>33.8</td>\n",
       "      <td>75.7</td>\n",
       "    </tr>\n",
       "    <tr>\n",
       "      <th>4</th>\n",
       "      <td>5</td>\n",
       "      <td>0=Blood Donor</td>\n",
       "      <td>32</td>\n",
       "      <td>m</td>\n",
       "      <td>39.2</td>\n",
       "      <td>74.1</td>\n",
       "      <td>32.6</td>\n",
       "      <td>24.8</td>\n",
       "      <td>9.6</td>\n",
       "      <td>9.15</td>\n",
       "      <td>4.32</td>\n",
       "      <td>76.0</td>\n",
       "      <td>29.9</td>\n",
       "      <td>68.7</td>\n",
       "    </tr>\n",
       "  </tbody>\n",
       "</table>\n",
       "</div>"
      ],
      "text/plain": [
       "   Unnamed: 0       Category  Age Sex   ALB   ALP   ALT   AST   BIL    CHE  \\\n",
       "0           1  0=Blood Donor   32   m  38.5  52.5   7.7  22.1   7.5   6.93   \n",
       "1           2  0=Blood Donor   32   m  38.5  70.3  18.0  24.7   3.9  11.17   \n",
       "2           3  0=Blood Donor   32   m  46.9  74.7  36.2  52.6   6.1   8.84   \n",
       "3           4  0=Blood Donor   32   m  43.2  52.0  30.6  22.6  18.9   7.33   \n",
       "4           5  0=Blood Donor   32   m  39.2  74.1  32.6  24.8   9.6   9.15   \n",
       "\n",
       "   CHOL   CREA   GGT  PROT  \n",
       "0  3.23  106.0  12.1  69.0  \n",
       "1  4.80   74.0  15.6  76.5  \n",
       "2  5.20   86.0  33.2  79.3  \n",
       "3  4.74   80.0  33.8  75.7  \n",
       "4  4.32   76.0  29.9  68.7  "
      ]
     },
     "execution_count": 1,
     "metadata": {},
     "output_type": "execute_result"
    }
   ],
   "source": [
    "import pandas as pd\n",
    "import numpy as np\n",
    "\n",
    "import seaborn as sns\n",
    "import matplotlib.pyplot as plt\n",
    "\n",
    "import missingno as msno\n",
    "# ! pip install missingno\n",
    "\n",
    "url = \"https://raw.githubusercontent.com/toshihiroryuu/Machine_learning/master/ML_004_Hepatitis/hcv.csv?token=ALRYHUDW5YYDYJDGFGNI6LS7VZWES\"\n",
    "# read hepatitis data set. \n",
    "df = pd.read_csv(url)\n",
    "\n",
    "df.head()"
   ]
  },
  {
   "cell_type": "code",
   "execution_count": 2,
   "metadata": {},
   "outputs": [
    {
     "name": "stdout",
     "output_type": "stream",
     "text": [
      "Size of the data frame is 8610\n",
      "Shape of the data frame is (615, 14)\n",
      "No of Rows =  615\n",
      "No of Columns =  14\n",
      "Dimentions(axis) of the data frame is 2\n"
     ]
    },
    {
     "data": {
      "text/html": [
       "<div>\n",
       "<style scoped>\n",
       "    .dataframe tbody tr th:only-of-type {\n",
       "        vertical-align: middle;\n",
       "    }\n",
       "\n",
       "    .dataframe tbody tr th {\n",
       "        vertical-align: top;\n",
       "    }\n",
       "\n",
       "    .dataframe thead th {\n",
       "        text-align: right;\n",
       "    }\n",
       "</style>\n",
       "<table border=\"1\" class=\"dataframe\">\n",
       "  <thead>\n",
       "    <tr style=\"text-align: right;\">\n",
       "      <th></th>\n",
       "      <th>Unnamed: 0</th>\n",
       "      <th>Age</th>\n",
       "      <th>ALB</th>\n",
       "      <th>ALP</th>\n",
       "      <th>ALT</th>\n",
       "      <th>AST</th>\n",
       "      <th>BIL</th>\n",
       "      <th>CHE</th>\n",
       "      <th>CHOL</th>\n",
       "      <th>CREA</th>\n",
       "      <th>GGT</th>\n",
       "      <th>PROT</th>\n",
       "    </tr>\n",
       "  </thead>\n",
       "  <tbody>\n",
       "    <tr>\n",
       "      <th>count</th>\n",
       "      <td>615.000000</td>\n",
       "      <td>615.000000</td>\n",
       "      <td>614.000000</td>\n",
       "      <td>597.000000</td>\n",
       "      <td>614.000000</td>\n",
       "      <td>615.000000</td>\n",
       "      <td>615.000000</td>\n",
       "      <td>615.000000</td>\n",
       "      <td>605.000000</td>\n",
       "      <td>615.000000</td>\n",
       "      <td>615.000000</td>\n",
       "      <td>614.000000</td>\n",
       "    </tr>\n",
       "    <tr>\n",
       "      <th>mean</th>\n",
       "      <td>308.000000</td>\n",
       "      <td>47.408130</td>\n",
       "      <td>41.620195</td>\n",
       "      <td>68.283920</td>\n",
       "      <td>28.450814</td>\n",
       "      <td>34.786341</td>\n",
       "      <td>11.396748</td>\n",
       "      <td>8.196634</td>\n",
       "      <td>5.368099</td>\n",
       "      <td>81.287805</td>\n",
       "      <td>39.533171</td>\n",
       "      <td>72.044137</td>\n",
       "    </tr>\n",
       "    <tr>\n",
       "      <th>std</th>\n",
       "      <td>177.679487</td>\n",
       "      <td>10.055105</td>\n",
       "      <td>5.780629</td>\n",
       "      <td>26.028315</td>\n",
       "      <td>25.469689</td>\n",
       "      <td>33.090690</td>\n",
       "      <td>19.673150</td>\n",
       "      <td>2.205657</td>\n",
       "      <td>1.132728</td>\n",
       "      <td>49.756166</td>\n",
       "      <td>54.661071</td>\n",
       "      <td>5.402636</td>\n",
       "    </tr>\n",
       "    <tr>\n",
       "      <th>min</th>\n",
       "      <td>1.000000</td>\n",
       "      <td>19.000000</td>\n",
       "      <td>14.900000</td>\n",
       "      <td>11.300000</td>\n",
       "      <td>0.900000</td>\n",
       "      <td>10.600000</td>\n",
       "      <td>0.800000</td>\n",
       "      <td>1.420000</td>\n",
       "      <td>1.430000</td>\n",
       "      <td>8.000000</td>\n",
       "      <td>4.500000</td>\n",
       "      <td>44.800000</td>\n",
       "    </tr>\n",
       "    <tr>\n",
       "      <th>25%</th>\n",
       "      <td>154.500000</td>\n",
       "      <td>39.000000</td>\n",
       "      <td>38.800000</td>\n",
       "      <td>52.500000</td>\n",
       "      <td>16.400000</td>\n",
       "      <td>21.600000</td>\n",
       "      <td>5.300000</td>\n",
       "      <td>6.935000</td>\n",
       "      <td>4.610000</td>\n",
       "      <td>67.000000</td>\n",
       "      <td>15.700000</td>\n",
       "      <td>69.300000</td>\n",
       "    </tr>\n",
       "    <tr>\n",
       "      <th>50%</th>\n",
       "      <td>308.000000</td>\n",
       "      <td>47.000000</td>\n",
       "      <td>41.950000</td>\n",
       "      <td>66.200000</td>\n",
       "      <td>23.000000</td>\n",
       "      <td>25.900000</td>\n",
       "      <td>7.300000</td>\n",
       "      <td>8.260000</td>\n",
       "      <td>5.300000</td>\n",
       "      <td>77.000000</td>\n",
       "      <td>23.300000</td>\n",
       "      <td>72.200000</td>\n",
       "    </tr>\n",
       "    <tr>\n",
       "      <th>75%</th>\n",
       "      <td>461.500000</td>\n",
       "      <td>54.000000</td>\n",
       "      <td>45.200000</td>\n",
       "      <td>80.100000</td>\n",
       "      <td>33.075000</td>\n",
       "      <td>32.900000</td>\n",
       "      <td>11.200000</td>\n",
       "      <td>9.590000</td>\n",
       "      <td>6.060000</td>\n",
       "      <td>88.000000</td>\n",
       "      <td>40.200000</td>\n",
       "      <td>75.400000</td>\n",
       "    </tr>\n",
       "    <tr>\n",
       "      <th>max</th>\n",
       "      <td>615.000000</td>\n",
       "      <td>77.000000</td>\n",
       "      <td>82.200000</td>\n",
       "      <td>416.600000</td>\n",
       "      <td>325.300000</td>\n",
       "      <td>324.000000</td>\n",
       "      <td>254.000000</td>\n",
       "      <td>16.410000</td>\n",
       "      <td>9.670000</td>\n",
       "      <td>1079.100000</td>\n",
       "      <td>650.900000</td>\n",
       "      <td>90.000000</td>\n",
       "    </tr>\n",
       "  </tbody>\n",
       "</table>\n",
       "</div>"
      ],
      "text/plain": [
       "       Unnamed: 0         Age         ALB         ALP         ALT         AST  \\\n",
       "count  615.000000  615.000000  614.000000  597.000000  614.000000  615.000000   \n",
       "mean   308.000000   47.408130   41.620195   68.283920   28.450814   34.786341   \n",
       "std    177.679487   10.055105    5.780629   26.028315   25.469689   33.090690   \n",
       "min      1.000000   19.000000   14.900000   11.300000    0.900000   10.600000   \n",
       "25%    154.500000   39.000000   38.800000   52.500000   16.400000   21.600000   \n",
       "50%    308.000000   47.000000   41.950000   66.200000   23.000000   25.900000   \n",
       "75%    461.500000   54.000000   45.200000   80.100000   33.075000   32.900000   \n",
       "max    615.000000   77.000000   82.200000  416.600000  325.300000  324.000000   \n",
       "\n",
       "              BIL         CHE        CHOL         CREA         GGT        PROT  \n",
       "count  615.000000  615.000000  605.000000   615.000000  615.000000  614.000000  \n",
       "mean    11.396748    8.196634    5.368099    81.287805   39.533171   72.044137  \n",
       "std     19.673150    2.205657    1.132728    49.756166   54.661071    5.402636  \n",
       "min      0.800000    1.420000    1.430000     8.000000    4.500000   44.800000  \n",
       "25%      5.300000    6.935000    4.610000    67.000000   15.700000   69.300000  \n",
       "50%      7.300000    8.260000    5.300000    77.000000   23.300000   72.200000  \n",
       "75%     11.200000    9.590000    6.060000    88.000000   40.200000   75.400000  \n",
       "max    254.000000   16.410000    9.670000  1079.100000  650.900000   90.000000  "
      ]
     },
     "execution_count": 2,
     "metadata": {},
     "output_type": "execute_result"
    }
   ],
   "source": [
    "# identify the size of data frame\n",
    "print(\"Size of the data frame is\",df.size)\n",
    "\n",
    "# identify the shape of the data frame \n",
    "print(\"Shape of the data frame is\",df.shape)\n",
    "print(\"No of Rows = \", df.shape[0])\n",
    "print(\"No of Columns = \", df.shape[1])\n",
    "  \n",
    "# identify the number of dimensions of your df\n",
    "print(\"Dimentions(axis) of the data frame is\",df.ndim)\n",
    "\n",
    "df.describe()"
   ]
  },
  {
   "cell_type": "markdown",
   "metadata": {},
   "source": [
    "## Preprocessing\n",
    "Change Category values"
   ]
  },
  {
   "cell_type": "code",
   "execution_count": 3,
   "metadata": {},
   "outputs": [
    {
     "data": {
      "text/html": [
       "<div>\n",
       "<style scoped>\n",
       "    .dataframe tbody tr th:only-of-type {\n",
       "        vertical-align: middle;\n",
       "    }\n",
       "\n",
       "    .dataframe tbody tr th {\n",
       "        vertical-align: top;\n",
       "    }\n",
       "\n",
       "    .dataframe thead th {\n",
       "        text-align: right;\n",
       "    }\n",
       "</style>\n",
       "<table border=\"1\" class=\"dataframe\">\n",
       "  <thead>\n",
       "    <tr style=\"text-align: right;\">\n",
       "      <th></th>\n",
       "      <th>Category</th>\n",
       "      <th>Age</th>\n",
       "      <th>Sex</th>\n",
       "      <th>ALB</th>\n",
       "      <th>ALP</th>\n",
       "      <th>ALT</th>\n",
       "      <th>AST</th>\n",
       "      <th>BIL</th>\n",
       "      <th>CHE</th>\n",
       "      <th>CHOL</th>\n",
       "      <th>CREA</th>\n",
       "      <th>GGT</th>\n",
       "      <th>PROT</th>\n",
       "    </tr>\n",
       "  </thead>\n",
       "  <tbody>\n",
       "    <tr>\n",
       "      <th>0</th>\n",
       "      <td>Blood Donor</td>\n",
       "      <td>32</td>\n",
       "      <td>m</td>\n",
       "      <td>38.5</td>\n",
       "      <td>52.5</td>\n",
       "      <td>7.7</td>\n",
       "      <td>22.1</td>\n",
       "      <td>7.5</td>\n",
       "      <td>6.93</td>\n",
       "      <td>3.23</td>\n",
       "      <td>106.0</td>\n",
       "      <td>12.1</td>\n",
       "      <td>69.0</td>\n",
       "    </tr>\n",
       "    <tr>\n",
       "      <th>1</th>\n",
       "      <td>Blood Donor</td>\n",
       "      <td>32</td>\n",
       "      <td>m</td>\n",
       "      <td>38.5</td>\n",
       "      <td>70.3</td>\n",
       "      <td>18.0</td>\n",
       "      <td>24.7</td>\n",
       "      <td>3.9</td>\n",
       "      <td>11.17</td>\n",
       "      <td>4.80</td>\n",
       "      <td>74.0</td>\n",
       "      <td>15.6</td>\n",
       "      <td>76.5</td>\n",
       "    </tr>\n",
       "    <tr>\n",
       "      <th>2</th>\n",
       "      <td>Blood Donor</td>\n",
       "      <td>32</td>\n",
       "      <td>m</td>\n",
       "      <td>46.9</td>\n",
       "      <td>74.7</td>\n",
       "      <td>36.2</td>\n",
       "      <td>52.6</td>\n",
       "      <td>6.1</td>\n",
       "      <td>8.84</td>\n",
       "      <td>5.20</td>\n",
       "      <td>86.0</td>\n",
       "      <td>33.2</td>\n",
       "      <td>79.3</td>\n",
       "    </tr>\n",
       "    <tr>\n",
       "      <th>3</th>\n",
       "      <td>Blood Donor</td>\n",
       "      <td>32</td>\n",
       "      <td>m</td>\n",
       "      <td>43.2</td>\n",
       "      <td>52.0</td>\n",
       "      <td>30.6</td>\n",
       "      <td>22.6</td>\n",
       "      <td>18.9</td>\n",
       "      <td>7.33</td>\n",
       "      <td>4.74</td>\n",
       "      <td>80.0</td>\n",
       "      <td>33.8</td>\n",
       "      <td>75.7</td>\n",
       "    </tr>\n",
       "    <tr>\n",
       "      <th>4</th>\n",
       "      <td>Blood Donor</td>\n",
       "      <td>32</td>\n",
       "      <td>m</td>\n",
       "      <td>39.2</td>\n",
       "      <td>74.1</td>\n",
       "      <td>32.6</td>\n",
       "      <td>24.8</td>\n",
       "      <td>9.6</td>\n",
       "      <td>9.15</td>\n",
       "      <td>4.32</td>\n",
       "      <td>76.0</td>\n",
       "      <td>29.9</td>\n",
       "      <td>68.7</td>\n",
       "    </tr>\n",
       "    <tr>\n",
       "      <th>...</th>\n",
       "      <td>...</td>\n",
       "      <td>...</td>\n",
       "      <td>...</td>\n",
       "      <td>...</td>\n",
       "      <td>...</td>\n",
       "      <td>...</td>\n",
       "      <td>...</td>\n",
       "      <td>...</td>\n",
       "      <td>...</td>\n",
       "      <td>...</td>\n",
       "      <td>...</td>\n",
       "      <td>...</td>\n",
       "      <td>...</td>\n",
       "    </tr>\n",
       "    <tr>\n",
       "      <th>610</th>\n",
       "      <td>Cirrhosis</td>\n",
       "      <td>62</td>\n",
       "      <td>f</td>\n",
       "      <td>32.0</td>\n",
       "      <td>416.6</td>\n",
       "      <td>5.9</td>\n",
       "      <td>110.3</td>\n",
       "      <td>50.0</td>\n",
       "      <td>5.57</td>\n",
       "      <td>6.30</td>\n",
       "      <td>55.7</td>\n",
       "      <td>650.9</td>\n",
       "      <td>68.5</td>\n",
       "    </tr>\n",
       "    <tr>\n",
       "      <th>611</th>\n",
       "      <td>Cirrhosis</td>\n",
       "      <td>64</td>\n",
       "      <td>f</td>\n",
       "      <td>24.0</td>\n",
       "      <td>102.8</td>\n",
       "      <td>2.9</td>\n",
       "      <td>44.4</td>\n",
       "      <td>20.0</td>\n",
       "      <td>1.54</td>\n",
       "      <td>3.02</td>\n",
       "      <td>63.0</td>\n",
       "      <td>35.9</td>\n",
       "      <td>71.3</td>\n",
       "    </tr>\n",
       "    <tr>\n",
       "      <th>612</th>\n",
       "      <td>Cirrhosis</td>\n",
       "      <td>64</td>\n",
       "      <td>f</td>\n",
       "      <td>29.0</td>\n",
       "      <td>87.3</td>\n",
       "      <td>3.5</td>\n",
       "      <td>99.0</td>\n",
       "      <td>48.0</td>\n",
       "      <td>1.66</td>\n",
       "      <td>3.63</td>\n",
       "      <td>66.7</td>\n",
       "      <td>64.2</td>\n",
       "      <td>82.0</td>\n",
       "    </tr>\n",
       "    <tr>\n",
       "      <th>613</th>\n",
       "      <td>Cirrhosis</td>\n",
       "      <td>46</td>\n",
       "      <td>f</td>\n",
       "      <td>33.0</td>\n",
       "      <td>NaN</td>\n",
       "      <td>39.0</td>\n",
       "      <td>62.0</td>\n",
       "      <td>20.0</td>\n",
       "      <td>3.56</td>\n",
       "      <td>4.20</td>\n",
       "      <td>52.0</td>\n",
       "      <td>50.0</td>\n",
       "      <td>71.0</td>\n",
       "    </tr>\n",
       "    <tr>\n",
       "      <th>614</th>\n",
       "      <td>Cirrhosis</td>\n",
       "      <td>59</td>\n",
       "      <td>f</td>\n",
       "      <td>36.0</td>\n",
       "      <td>NaN</td>\n",
       "      <td>100.0</td>\n",
       "      <td>80.0</td>\n",
       "      <td>12.0</td>\n",
       "      <td>9.07</td>\n",
       "      <td>5.30</td>\n",
       "      <td>67.0</td>\n",
       "      <td>34.0</td>\n",
       "      <td>68.0</td>\n",
       "    </tr>\n",
       "  </tbody>\n",
       "</table>\n",
       "<p>615 rows × 13 columns</p>\n",
       "</div>"
      ],
      "text/plain": [
       "        Category  Age Sex   ALB    ALP    ALT    AST   BIL    CHE  CHOL  \\\n",
       "0    Blood Donor   32   m  38.5   52.5    7.7   22.1   7.5   6.93  3.23   \n",
       "1    Blood Donor   32   m  38.5   70.3   18.0   24.7   3.9  11.17  4.80   \n",
       "2    Blood Donor   32   m  46.9   74.7   36.2   52.6   6.1   8.84  5.20   \n",
       "3    Blood Donor   32   m  43.2   52.0   30.6   22.6  18.9   7.33  4.74   \n",
       "4    Blood Donor   32   m  39.2   74.1   32.6   24.8   9.6   9.15  4.32   \n",
       "..           ...  ...  ..   ...    ...    ...    ...   ...    ...   ...   \n",
       "610    Cirrhosis   62   f  32.0  416.6    5.9  110.3  50.0   5.57  6.30   \n",
       "611    Cirrhosis   64   f  24.0  102.8    2.9   44.4  20.0   1.54  3.02   \n",
       "612    Cirrhosis   64   f  29.0   87.3    3.5   99.0  48.0   1.66  3.63   \n",
       "613    Cirrhosis   46   f  33.0    NaN   39.0   62.0  20.0   3.56  4.20   \n",
       "614    Cirrhosis   59   f  36.0    NaN  100.0   80.0  12.0   9.07  5.30   \n",
       "\n",
       "      CREA    GGT  PROT  \n",
       "0    106.0   12.1  69.0  \n",
       "1     74.0   15.6  76.5  \n",
       "2     86.0   33.2  79.3  \n",
       "3     80.0   33.8  75.7  \n",
       "4     76.0   29.9  68.7  \n",
       "..     ...    ...   ...  \n",
       "610   55.7  650.9  68.5  \n",
       "611   63.0   35.9  71.3  \n",
       "612   66.7   64.2  82.0  \n",
       "613   52.0   50.0  71.0  \n",
       "614   67.0   34.0  68.0  \n",
       "\n",
       "[615 rows x 13 columns]"
      ]
     },
     "execution_count": 3,
     "metadata": {},
     "output_type": "execute_result"
    }
   ],
   "source": [
    "# Replace Category with meaning full entries.\n",
    "df['Category'] = df['Category'].replace(['0=Blood Donor'],'Blood Donor')\n",
    "df['Category'] = df['Category'].replace(['0s=suspect Blood Donor'],'Suspect Blood Donor')\n",
    "df['Category'] = df['Category'].replace(['1=Hepatitis'],'Hepatitis')\n",
    "df['Category'] = df['Category'].replace(['2=Fibrosis'],'Fibrosis')\n",
    "df['Category'] = df['Category'].replace(['3=Cirrhosis'],'Cirrhosis')\n",
    "\n",
    "df = df.drop(['Unnamed: 0'], axis=1)\n",
    "\n",
    "df"
   ]
  },
  {
   "cell_type": "markdown",
   "metadata": {},
   "source": [
    "## Preprocessing\n",
    "Change labels to categorical values"
   ]
  },
  {
   "cell_type": "markdown",
   "metadata": {},
   "source": [
    "Replace male, female (Sex) to categorical values.\n",
    "Male(m) to 1, Female(f) to 0"
   ]
  },
  {
   "cell_type": "code",
   "execution_count": 4,
   "metadata": {
    "scrolled": true
   },
   "outputs": [
    {
     "data": {
      "text/html": [
       "<div>\n",
       "<style scoped>\n",
       "    .dataframe tbody tr th:only-of-type {\n",
       "        vertical-align: middle;\n",
       "    }\n",
       "\n",
       "    .dataframe tbody tr th {\n",
       "        vertical-align: top;\n",
       "    }\n",
       "\n",
       "    .dataframe thead th {\n",
       "        text-align: right;\n",
       "    }\n",
       "</style>\n",
       "<table border=\"1\" class=\"dataframe\">\n",
       "  <thead>\n",
       "    <tr style=\"text-align: right;\">\n",
       "      <th></th>\n",
       "      <th>Category</th>\n",
       "      <th>Age</th>\n",
       "      <th>Sex</th>\n",
       "      <th>ALB</th>\n",
       "      <th>ALP</th>\n",
       "      <th>ALT</th>\n",
       "      <th>AST</th>\n",
       "      <th>BIL</th>\n",
       "      <th>CHE</th>\n",
       "      <th>CHOL</th>\n",
       "      <th>CREA</th>\n",
       "      <th>GGT</th>\n",
       "      <th>PROT</th>\n",
       "    </tr>\n",
       "  </thead>\n",
       "  <tbody>\n",
       "    <tr>\n",
       "      <th>0</th>\n",
       "      <td>Blood Donor</td>\n",
       "      <td>32</td>\n",
       "      <td>1</td>\n",
       "      <td>38.5</td>\n",
       "      <td>52.5</td>\n",
       "      <td>7.7</td>\n",
       "      <td>22.1</td>\n",
       "      <td>7.5</td>\n",
       "      <td>6.93</td>\n",
       "      <td>3.23</td>\n",
       "      <td>106.0</td>\n",
       "      <td>12.1</td>\n",
       "      <td>69.0</td>\n",
       "    </tr>\n",
       "    <tr>\n",
       "      <th>1</th>\n",
       "      <td>Blood Donor</td>\n",
       "      <td>32</td>\n",
       "      <td>1</td>\n",
       "      <td>38.5</td>\n",
       "      <td>70.3</td>\n",
       "      <td>18.0</td>\n",
       "      <td>24.7</td>\n",
       "      <td>3.9</td>\n",
       "      <td>11.17</td>\n",
       "      <td>4.80</td>\n",
       "      <td>74.0</td>\n",
       "      <td>15.6</td>\n",
       "      <td>76.5</td>\n",
       "    </tr>\n",
       "    <tr>\n",
       "      <th>2</th>\n",
       "      <td>Blood Donor</td>\n",
       "      <td>32</td>\n",
       "      <td>1</td>\n",
       "      <td>46.9</td>\n",
       "      <td>74.7</td>\n",
       "      <td>36.2</td>\n",
       "      <td>52.6</td>\n",
       "      <td>6.1</td>\n",
       "      <td>8.84</td>\n",
       "      <td>5.20</td>\n",
       "      <td>86.0</td>\n",
       "      <td>33.2</td>\n",
       "      <td>79.3</td>\n",
       "    </tr>\n",
       "    <tr>\n",
       "      <th>3</th>\n",
       "      <td>Blood Donor</td>\n",
       "      <td>32</td>\n",
       "      <td>1</td>\n",
       "      <td>43.2</td>\n",
       "      <td>52.0</td>\n",
       "      <td>30.6</td>\n",
       "      <td>22.6</td>\n",
       "      <td>18.9</td>\n",
       "      <td>7.33</td>\n",
       "      <td>4.74</td>\n",
       "      <td>80.0</td>\n",
       "      <td>33.8</td>\n",
       "      <td>75.7</td>\n",
       "    </tr>\n",
       "    <tr>\n",
       "      <th>4</th>\n",
       "      <td>Blood Donor</td>\n",
       "      <td>32</td>\n",
       "      <td>1</td>\n",
       "      <td>39.2</td>\n",
       "      <td>74.1</td>\n",
       "      <td>32.6</td>\n",
       "      <td>24.8</td>\n",
       "      <td>9.6</td>\n",
       "      <td>9.15</td>\n",
       "      <td>4.32</td>\n",
       "      <td>76.0</td>\n",
       "      <td>29.9</td>\n",
       "      <td>68.7</td>\n",
       "    </tr>\n",
       "    <tr>\n",
       "      <th>...</th>\n",
       "      <td>...</td>\n",
       "      <td>...</td>\n",
       "      <td>...</td>\n",
       "      <td>...</td>\n",
       "      <td>...</td>\n",
       "      <td>...</td>\n",
       "      <td>...</td>\n",
       "      <td>...</td>\n",
       "      <td>...</td>\n",
       "      <td>...</td>\n",
       "      <td>...</td>\n",
       "      <td>...</td>\n",
       "      <td>...</td>\n",
       "    </tr>\n",
       "    <tr>\n",
       "      <th>610</th>\n",
       "      <td>Cirrhosis</td>\n",
       "      <td>62</td>\n",
       "      <td>0</td>\n",
       "      <td>32.0</td>\n",
       "      <td>416.6</td>\n",
       "      <td>5.9</td>\n",
       "      <td>110.3</td>\n",
       "      <td>50.0</td>\n",
       "      <td>5.57</td>\n",
       "      <td>6.30</td>\n",
       "      <td>55.7</td>\n",
       "      <td>650.9</td>\n",
       "      <td>68.5</td>\n",
       "    </tr>\n",
       "    <tr>\n",
       "      <th>611</th>\n",
       "      <td>Cirrhosis</td>\n",
       "      <td>64</td>\n",
       "      <td>0</td>\n",
       "      <td>24.0</td>\n",
       "      <td>102.8</td>\n",
       "      <td>2.9</td>\n",
       "      <td>44.4</td>\n",
       "      <td>20.0</td>\n",
       "      <td>1.54</td>\n",
       "      <td>3.02</td>\n",
       "      <td>63.0</td>\n",
       "      <td>35.9</td>\n",
       "      <td>71.3</td>\n",
       "    </tr>\n",
       "    <tr>\n",
       "      <th>612</th>\n",
       "      <td>Cirrhosis</td>\n",
       "      <td>64</td>\n",
       "      <td>0</td>\n",
       "      <td>29.0</td>\n",
       "      <td>87.3</td>\n",
       "      <td>3.5</td>\n",
       "      <td>99.0</td>\n",
       "      <td>48.0</td>\n",
       "      <td>1.66</td>\n",
       "      <td>3.63</td>\n",
       "      <td>66.7</td>\n",
       "      <td>64.2</td>\n",
       "      <td>82.0</td>\n",
       "    </tr>\n",
       "    <tr>\n",
       "      <th>613</th>\n",
       "      <td>Cirrhosis</td>\n",
       "      <td>46</td>\n",
       "      <td>0</td>\n",
       "      <td>33.0</td>\n",
       "      <td>NaN</td>\n",
       "      <td>39.0</td>\n",
       "      <td>62.0</td>\n",
       "      <td>20.0</td>\n",
       "      <td>3.56</td>\n",
       "      <td>4.20</td>\n",
       "      <td>52.0</td>\n",
       "      <td>50.0</td>\n",
       "      <td>71.0</td>\n",
       "    </tr>\n",
       "    <tr>\n",
       "      <th>614</th>\n",
       "      <td>Cirrhosis</td>\n",
       "      <td>59</td>\n",
       "      <td>0</td>\n",
       "      <td>36.0</td>\n",
       "      <td>NaN</td>\n",
       "      <td>100.0</td>\n",
       "      <td>80.0</td>\n",
       "      <td>12.0</td>\n",
       "      <td>9.07</td>\n",
       "      <td>5.30</td>\n",
       "      <td>67.0</td>\n",
       "      <td>34.0</td>\n",
       "      <td>68.0</td>\n",
       "    </tr>\n",
       "  </tbody>\n",
       "</table>\n",
       "<p>615 rows × 13 columns</p>\n",
       "</div>"
      ],
      "text/plain": [
       "        Category  Age  Sex   ALB    ALP    ALT    AST   BIL    CHE  CHOL  \\\n",
       "0    Blood Donor   32    1  38.5   52.5    7.7   22.1   7.5   6.93  3.23   \n",
       "1    Blood Donor   32    1  38.5   70.3   18.0   24.7   3.9  11.17  4.80   \n",
       "2    Blood Donor   32    1  46.9   74.7   36.2   52.6   6.1   8.84  5.20   \n",
       "3    Blood Donor   32    1  43.2   52.0   30.6   22.6  18.9   7.33  4.74   \n",
       "4    Blood Donor   32    1  39.2   74.1   32.6   24.8   9.6   9.15  4.32   \n",
       "..           ...  ...  ...   ...    ...    ...    ...   ...    ...   ...   \n",
       "610    Cirrhosis   62    0  32.0  416.6    5.9  110.3  50.0   5.57  6.30   \n",
       "611    Cirrhosis   64    0  24.0  102.8    2.9   44.4  20.0   1.54  3.02   \n",
       "612    Cirrhosis   64    0  29.0   87.3    3.5   99.0  48.0   1.66  3.63   \n",
       "613    Cirrhosis   46    0  33.0    NaN   39.0   62.0  20.0   3.56  4.20   \n",
       "614    Cirrhosis   59    0  36.0    NaN  100.0   80.0  12.0   9.07  5.30   \n",
       "\n",
       "      CREA    GGT  PROT  \n",
       "0    106.0   12.1  69.0  \n",
       "1     74.0   15.6  76.5  \n",
       "2     86.0   33.2  79.3  \n",
       "3     80.0   33.8  75.7  \n",
       "4     76.0   29.9  68.7  \n",
       "..     ...    ...   ...  \n",
       "610   55.7  650.9  68.5  \n",
       "611   63.0   35.9  71.3  \n",
       "612   66.7   64.2  82.0  \n",
       "613   52.0   50.0  71.0  \n",
       "614   67.0   34.0  68.0  \n",
       "\n",
       "[615 rows x 13 columns]"
      ]
     },
     "execution_count": 4,
     "metadata": {},
     "output_type": "execute_result"
    }
   ],
   "source": [
    "df['Sex'] = np.where(df['Sex'] == 'f', 0, 1)\n",
    "df"
   ]
  },
  {
   "cell_type": "markdown",
   "metadata": {},
   "source": [
    "Encode Category to 0, 1, 2, 3, 4"
   ]
  },
  {
   "cell_type": "code",
   "execution_count": 5,
   "metadata": {},
   "outputs": [
    {
     "data": {
      "text/html": [
       "<div>\n",
       "<style scoped>\n",
       "    .dataframe tbody tr th:only-of-type {\n",
       "        vertical-align: middle;\n",
       "    }\n",
       "\n",
       "    .dataframe tbody tr th {\n",
       "        vertical-align: top;\n",
       "    }\n",
       "\n",
       "    .dataframe thead th {\n",
       "        text-align: right;\n",
       "    }\n",
       "</style>\n",
       "<table border=\"1\" class=\"dataframe\">\n",
       "  <thead>\n",
       "    <tr style=\"text-align: right;\">\n",
       "      <th></th>\n",
       "      <th>Category</th>\n",
       "      <th>Age</th>\n",
       "      <th>Sex</th>\n",
       "      <th>ALB</th>\n",
       "      <th>ALP</th>\n",
       "      <th>ALT</th>\n",
       "      <th>AST</th>\n",
       "      <th>BIL</th>\n",
       "      <th>CHE</th>\n",
       "      <th>CHOL</th>\n",
       "      <th>CREA</th>\n",
       "      <th>GGT</th>\n",
       "      <th>PROT</th>\n",
       "      <th>category</th>\n",
       "    </tr>\n",
       "  </thead>\n",
       "  <tbody>\n",
       "    <tr>\n",
       "      <th>564</th>\n",
       "      <td>Fibrosis</td>\n",
       "      <td>29</td>\n",
       "      <td>1</td>\n",
       "      <td>41.0</td>\n",
       "      <td>43.1</td>\n",
       "      <td>2.4</td>\n",
       "      <td>83.5</td>\n",
       "      <td>6.0</td>\n",
       "      <td>11.49</td>\n",
       "      <td>5.42</td>\n",
       "      <td>55.2</td>\n",
       "      <td>130.0</td>\n",
       "      <td>66.5</td>\n",
       "      <td>2</td>\n",
       "    </tr>\n",
       "    <tr>\n",
       "      <th>565</th>\n",
       "      <td>Fibrosis</td>\n",
       "      <td>40</td>\n",
       "      <td>1</td>\n",
       "      <td>39.0</td>\n",
       "      <td>43.1</td>\n",
       "      <td>23.8</td>\n",
       "      <td>114.7</td>\n",
       "      <td>11.0</td>\n",
       "      <td>9.64</td>\n",
       "      <td>4.20</td>\n",
       "      <td>70.9</td>\n",
       "      <td>127.3</td>\n",
       "      <td>81.3</td>\n",
       "      <td>2</td>\n",
       "    </tr>\n",
       "    <tr>\n",
       "      <th>566</th>\n",
       "      <td>Fibrosis</td>\n",
       "      <td>46</td>\n",
       "      <td>1</td>\n",
       "      <td>45.0</td>\n",
       "      <td>26.9</td>\n",
       "      <td>23.1</td>\n",
       "      <td>125.0</td>\n",
       "      <td>17.0</td>\n",
       "      <td>6.97</td>\n",
       "      <td>4.01</td>\n",
       "      <td>60.5</td>\n",
       "      <td>72.2</td>\n",
       "      <td>73.0</td>\n",
       "      <td>2</td>\n",
       "    </tr>\n",
       "    <tr>\n",
       "      <th>567</th>\n",
       "      <td>Fibrosis</td>\n",
       "      <td>48</td>\n",
       "      <td>1</td>\n",
       "      <td>49.0</td>\n",
       "      <td>45.2</td>\n",
       "      <td>19.3</td>\n",
       "      <td>69.1</td>\n",
       "      <td>30.0</td>\n",
       "      <td>7.76</td>\n",
       "      <td>4.22</td>\n",
       "      <td>76.7</td>\n",
       "      <td>28.4</td>\n",
       "      <td>72.3</td>\n",
       "      <td>2</td>\n",
       "    </tr>\n",
       "    <tr>\n",
       "      <th>568</th>\n",
       "      <td>Fibrosis</td>\n",
       "      <td>49</td>\n",
       "      <td>1</td>\n",
       "      <td>39.0</td>\n",
       "      <td>NaN</td>\n",
       "      <td>118.0</td>\n",
       "      <td>62.0</td>\n",
       "      <td>10.0</td>\n",
       "      <td>7.28</td>\n",
       "      <td>3.50</td>\n",
       "      <td>72.0</td>\n",
       "      <td>74.0</td>\n",
       "      <td>81.0</td>\n",
       "      <td>2</td>\n",
       "    </tr>\n",
       "  </tbody>\n",
       "</table>\n",
       "</div>"
      ],
      "text/plain": [
       "     Category  Age  Sex   ALB   ALP    ALT    AST   BIL    CHE  CHOL  CREA  \\\n",
       "564  Fibrosis   29    1  41.0  43.1    2.4   83.5   6.0  11.49  5.42  55.2   \n",
       "565  Fibrosis   40    1  39.0  43.1   23.8  114.7  11.0   9.64  4.20  70.9   \n",
       "566  Fibrosis   46    1  45.0  26.9   23.1  125.0  17.0   6.97  4.01  60.5   \n",
       "567  Fibrosis   48    1  49.0  45.2   19.3   69.1  30.0   7.76  4.22  76.7   \n",
       "568  Fibrosis   49    1  39.0   NaN  118.0   62.0  10.0   7.28  3.50  72.0   \n",
       "\n",
       "       GGT  PROT  category  \n",
       "564  130.0  66.5         2  \n",
       "565  127.3  81.3         2  \n",
       "566   72.2  73.0         2  \n",
       "567   28.4  72.3         2  \n",
       "568   74.0  81.0         2  "
      ]
     },
     "execution_count": 5,
     "metadata": {},
     "output_type": "execute_result"
    }
   ],
   "source": [
    "from sklearn.preprocessing import LabelEncoder\n",
    "\n",
    "lb_make = LabelEncoder()\n",
    "df[\"category\"] = lb_make.fit_transform(df[\"Category\"])\n",
    "\n",
    "# 0 - Blood donor\n",
    "# 1 - Cirrhosis\n",
    "# 2 - Fibrosis\n",
    "# 3 - Hepatits\n",
    "# 4 - Suspect Blood Donor\n",
    "\n",
    "df[df[\"category\"] == 2].head()"
   ]
  },
  {
   "cell_type": "markdown",
   "metadata": {},
   "source": [
    "## Handle outliers using Scatter plots"
   ]
  },
  {
   "cell_type": "code",
   "execution_count": 6,
   "metadata": {},
   "outputs": [
    {
     "data": {
      "image/png": "[encoded data removed]",
      "text/plain": [
       "<Figure size 936x1440 with 8 Axes>"
      ]
     },
     "metadata": {
      "needs_background": "light"
     },
     "output_type": "display_data"
    }
   ],
   "source": [
    "import seaborn as sns\n",
    "import matplotlib.pyplot as plt\n",
    "\n",
    "fig, ax = plt.subplots(4,2,figsize=(13,20))\n",
    "plt.suptitle('Scatter plots', fontsize=20)\n",
    "plt.tight_layout(4)\n",
    "\n",
    "sns.scatterplot(data=df, x='Age', y='ALB',ax=ax[0][0])\n",
    "sns.scatterplot(data=df, x='Age', y='ALP',ax=ax[0][1])\n",
    "sns.scatterplot(data=df, x='Age', y='AST', ax=ax[1][0])\n",
    "sns.scatterplot(data=df, x='Age', y='BIL', ax=ax[1][1])\n",
    "sns.scatterplot(data=df, x='Age', y='CHE', ax=ax[2][0])\n",
    "sns.scatterplot(data=df, x='Age', y='CHOL', ax=ax[2][1])\n",
    "sns.scatterplot(data=df, x='Age', y='CREA', ax=ax[3][0])\n",
    "sns.scatterplot(data=df, x='Age', y='GGT', ax=ax[3][1])\n",
    "\n",
    "plt.show()"
   ]
  },
  {
   "cell_type": "code",
   "execution_count": 7,
   "metadata": {},
   "outputs": [
    {
     "name": "stdout",
     "output_type": "stream",
     "text": [
      "ALBUMIN\n",
      "No of rows to be dropped 1\n",
      "ALP\n",
      "No of rows to be dropped 1\n",
      "AST\n",
      "No of rows to be dropped 4\n",
      "Bilirumin -BIL\n",
      "No of rows to be dropped 6\n",
      "Creatine -CREA\n",
      "No of rows to be dropped 3\n",
      "GGT\n",
      "No of rows to be dropped 4\n",
      "Shape of the dataset after removing outliers (596, 14)\n"
     ]
    },
    {
     "data": {
      "text/html": [
       "<div>\n",
       "<style scoped>\n",
       "    .dataframe tbody tr th:only-of-type {\n",
       "        vertical-align: middle;\n",
       "    }\n",
       "\n",
       "    .dataframe tbody tr th {\n",
       "        vertical-align: top;\n",
       "    }\n",
       "\n",
       "    .dataframe thead th {\n",
       "        text-align: right;\n",
       "    }\n",
       "</style>\n",
       "<table border=\"1\" class=\"dataframe\">\n",
       "  <thead>\n",
       "    <tr style=\"text-align: right;\">\n",
       "      <th></th>\n",
       "      <th>Category</th>\n",
       "      <th>Age</th>\n",
       "      <th>Sex</th>\n",
       "      <th>ALB</th>\n",
       "      <th>ALP</th>\n",
       "      <th>ALT</th>\n",
       "      <th>AST</th>\n",
       "      <th>BIL</th>\n",
       "      <th>CHE</th>\n",
       "      <th>CHOL</th>\n",
       "      <th>CREA</th>\n",
       "      <th>GGT</th>\n",
       "      <th>PROT</th>\n",
       "      <th>category</th>\n",
       "    </tr>\n",
       "  </thead>\n",
       "  <tbody>\n",
       "    <tr>\n",
       "      <th>0</th>\n",
       "      <td>Blood Donor</td>\n",
       "      <td>32</td>\n",
       "      <td>1</td>\n",
       "      <td>38.5</td>\n",
       "      <td>52.5</td>\n",
       "      <td>7.7</td>\n",
       "      <td>22.1</td>\n",
       "      <td>7.5</td>\n",
       "      <td>6.93</td>\n",
       "      <td>3.23</td>\n",
       "      <td>106.0</td>\n",
       "      <td>12.1</td>\n",
       "      <td>69.0</td>\n",
       "      <td>0</td>\n",
       "    </tr>\n",
       "    <tr>\n",
       "      <th>1</th>\n",
       "      <td>Blood Donor</td>\n",
       "      <td>32</td>\n",
       "      <td>1</td>\n",
       "      <td>38.5</td>\n",
       "      <td>70.3</td>\n",
       "      <td>18.0</td>\n",
       "      <td>24.7</td>\n",
       "      <td>3.9</td>\n",
       "      <td>11.17</td>\n",
       "      <td>4.80</td>\n",
       "      <td>74.0</td>\n",
       "      <td>15.6</td>\n",
       "      <td>76.5</td>\n",
       "      <td>0</td>\n",
       "    </tr>\n",
       "    <tr>\n",
       "      <th>2</th>\n",
       "      <td>Blood Donor</td>\n",
       "      <td>32</td>\n",
       "      <td>1</td>\n",
       "      <td>46.9</td>\n",
       "      <td>74.7</td>\n",
       "      <td>36.2</td>\n",
       "      <td>52.6</td>\n",
       "      <td>6.1</td>\n",
       "      <td>8.84</td>\n",
       "      <td>5.20</td>\n",
       "      <td>86.0</td>\n",
       "      <td>33.2</td>\n",
       "      <td>79.3</td>\n",
       "      <td>0</td>\n",
       "    </tr>\n",
       "    <tr>\n",
       "      <th>3</th>\n",
       "      <td>Blood Donor</td>\n",
       "      <td>32</td>\n",
       "      <td>1</td>\n",
       "      <td>43.2</td>\n",
       "      <td>52.0</td>\n",
       "      <td>30.6</td>\n",
       "      <td>22.6</td>\n",
       "      <td>18.9</td>\n",
       "      <td>7.33</td>\n",
       "      <td>4.74</td>\n",
       "      <td>80.0</td>\n",
       "      <td>33.8</td>\n",
       "      <td>75.7</td>\n",
       "      <td>0</td>\n",
       "    </tr>\n",
       "    <tr>\n",
       "      <th>4</th>\n",
       "      <td>Blood Donor</td>\n",
       "      <td>32</td>\n",
       "      <td>1</td>\n",
       "      <td>39.2</td>\n",
       "      <td>74.1</td>\n",
       "      <td>32.6</td>\n",
       "      <td>24.8</td>\n",
       "      <td>9.6</td>\n",
       "      <td>9.15</td>\n",
       "      <td>4.32</td>\n",
       "      <td>76.0</td>\n",
       "      <td>29.9</td>\n",
       "      <td>68.7</td>\n",
       "      <td>0</td>\n",
       "    </tr>\n",
       "    <tr>\n",
       "      <th>...</th>\n",
       "      <td>...</td>\n",
       "      <td>...</td>\n",
       "      <td>...</td>\n",
       "      <td>...</td>\n",
       "      <td>...</td>\n",
       "      <td>...</td>\n",
       "      <td>...</td>\n",
       "      <td>...</td>\n",
       "      <td>...</td>\n",
       "      <td>...</td>\n",
       "      <td>...</td>\n",
       "      <td>...</td>\n",
       "      <td>...</td>\n",
       "      <td>...</td>\n",
       "    </tr>\n",
       "    <tr>\n",
       "      <th>608</th>\n",
       "      <td>Cirrhosis</td>\n",
       "      <td>58</td>\n",
       "      <td>0</td>\n",
       "      <td>34.0</td>\n",
       "      <td>46.4</td>\n",
       "      <td>15.0</td>\n",
       "      <td>150.0</td>\n",
       "      <td>8.0</td>\n",
       "      <td>6.26</td>\n",
       "      <td>3.98</td>\n",
       "      <td>56.0</td>\n",
       "      <td>49.7</td>\n",
       "      <td>80.6</td>\n",
       "      <td>1</td>\n",
       "    </tr>\n",
       "    <tr>\n",
       "      <th>611</th>\n",
       "      <td>Cirrhosis</td>\n",
       "      <td>64</td>\n",
       "      <td>0</td>\n",
       "      <td>24.0</td>\n",
       "      <td>102.8</td>\n",
       "      <td>2.9</td>\n",
       "      <td>44.4</td>\n",
       "      <td>20.0</td>\n",
       "      <td>1.54</td>\n",
       "      <td>3.02</td>\n",
       "      <td>63.0</td>\n",
       "      <td>35.9</td>\n",
       "      <td>71.3</td>\n",
       "      <td>1</td>\n",
       "    </tr>\n",
       "    <tr>\n",
       "      <th>612</th>\n",
       "      <td>Cirrhosis</td>\n",
       "      <td>64</td>\n",
       "      <td>0</td>\n",
       "      <td>29.0</td>\n",
       "      <td>87.3</td>\n",
       "      <td>3.5</td>\n",
       "      <td>99.0</td>\n",
       "      <td>48.0</td>\n",
       "      <td>1.66</td>\n",
       "      <td>3.63</td>\n",
       "      <td>66.7</td>\n",
       "      <td>64.2</td>\n",
       "      <td>82.0</td>\n",
       "      <td>1</td>\n",
       "    </tr>\n",
       "    <tr>\n",
       "      <th>613</th>\n",
       "      <td>Cirrhosis</td>\n",
       "      <td>46</td>\n",
       "      <td>0</td>\n",
       "      <td>33.0</td>\n",
       "      <td>NaN</td>\n",
       "      <td>39.0</td>\n",
       "      <td>62.0</td>\n",
       "      <td>20.0</td>\n",
       "      <td>3.56</td>\n",
       "      <td>4.20</td>\n",
       "      <td>52.0</td>\n",
       "      <td>50.0</td>\n",
       "      <td>71.0</td>\n",
       "      <td>1</td>\n",
       "    </tr>\n",
       "    <tr>\n",
       "      <th>614</th>\n",
       "      <td>Cirrhosis</td>\n",
       "      <td>59</td>\n",
       "      <td>0</td>\n",
       "      <td>36.0</td>\n",
       "      <td>NaN</td>\n",
       "      <td>100.0</td>\n",
       "      <td>80.0</td>\n",
       "      <td>12.0</td>\n",
       "      <td>9.07</td>\n",
       "      <td>5.30</td>\n",
       "      <td>67.0</td>\n",
       "      <td>34.0</td>\n",
       "      <td>68.0</td>\n",
       "      <td>1</td>\n",
       "    </tr>\n",
       "  </tbody>\n",
       "</table>\n",
       "<p>596 rows × 14 columns</p>\n",
       "</div>"
      ],
      "text/plain": [
       "        Category  Age  Sex   ALB    ALP    ALT    AST   BIL    CHE  CHOL  \\\n",
       "0    Blood Donor   32    1  38.5   52.5    7.7   22.1   7.5   6.93  3.23   \n",
       "1    Blood Donor   32    1  38.5   70.3   18.0   24.7   3.9  11.17  4.80   \n",
       "2    Blood Donor   32    1  46.9   74.7   36.2   52.6   6.1   8.84  5.20   \n",
       "3    Blood Donor   32    1  43.2   52.0   30.6   22.6  18.9   7.33  4.74   \n",
       "4    Blood Donor   32    1  39.2   74.1   32.6   24.8   9.6   9.15  4.32   \n",
       "..           ...  ...  ...   ...    ...    ...    ...   ...    ...   ...   \n",
       "608    Cirrhosis   58    0  34.0   46.4   15.0  150.0   8.0   6.26  3.98   \n",
       "611    Cirrhosis   64    0  24.0  102.8    2.9   44.4  20.0   1.54  3.02   \n",
       "612    Cirrhosis   64    0  29.0   87.3    3.5   99.0  48.0   1.66  3.63   \n",
       "613    Cirrhosis   46    0  33.0    NaN   39.0   62.0  20.0   3.56  4.20   \n",
       "614    Cirrhosis   59    0  36.0    NaN  100.0   80.0  12.0   9.07  5.30   \n",
       "\n",
       "      CREA   GGT  PROT  category  \n",
       "0    106.0  12.1  69.0         0  \n",
       "1     74.0  15.6  76.5         0  \n",
       "2     86.0  33.2  79.3         0  \n",
       "3     80.0  33.8  75.7         0  \n",
       "4     76.0  29.9  68.7         0  \n",
       "..     ...   ...   ...       ...  \n",
       "608   56.0  49.7  80.6         1  \n",
       "611   63.0  35.9  71.3         1  \n",
       "612   66.7  64.2  82.0         1  \n",
       "613   52.0  50.0  71.0         1  \n",
       "614   67.0  34.0  68.0         1  \n",
       "\n",
       "[596 rows x 14 columns]"
      ]
     },
     "execution_count": 7,
     "metadata": {},
     "output_type": "execute_result"
    }
   ],
   "source": [
    "print(\"ALBUMIN\")\n",
    "df_out = df[df['ALB'] > 80]\n",
    "print(\"No of rows to be dropped\", df_out.shape[0])\n",
    "df = df[~(df['ALB'] > 80)]\n",
    "\n",
    "print(\"ALP\")\n",
    "df_out = df[df['ALP'] > 250]\n",
    "print(\"No of rows to be dropped\", df_out.shape[0])\n",
    "df = df[~(df['ALP'] > 250)]\n",
    "\n",
    "print(\"AST\")\n",
    "df_out = df[df['AST'] > 200]\n",
    "print(\"No of rows to be dropped\", df_out.shape[0])\n",
    "df = df[~(df['AST'] > 200)]\n",
    "\n",
    "print(\"Bilirumin -BIL\")\n",
    "df_out = df[df['BIL'] > 100]\n",
    "print(\"No of rows to be dropped\", df_out.shape[0])\n",
    "df = df[~(df['BIL'] > 100)]\n",
    "\n",
    "print(\"Creatine -CREA\")\n",
    "df_out = df[df['CREA'] > 400]\n",
    "print(\"No of rows to be dropped\", df_out.shape[0])\n",
    "df = df[~(df['CREA'] > 400)]\n",
    "\n",
    "print(\"GGT\")\n",
    "df_out = df[df['GGT'] > 300]\n",
    "print(\"No of rows to be dropped\", df_out.shape[0])\n",
    "df = df[~(df['GGT'] > 300)]\n",
    "\n",
    "print(\"Shape of the dataset after removing outliers\", df.shape)\n",
    "\n",
    "df"
   ]
  },
  {
   "cell_type": "markdown",
   "metadata": {},
   "source": [
    "## Handle missing values"
   ]
  },
  {
   "cell_type": "code",
   "execution_count": 8,
   "metadata": {},
   "outputs": [
    {
     "name": "stdout",
     "output_type": "stream",
     "text": [
      "<class 'pandas.core.frame.DataFrame'>\n",
      "Int64Index: 596 entries, 0 to 614\n",
      "Data columns (total 14 columns):\n",
      " #   Column    Non-Null Count  Dtype  \n",
      "---  ------    --------------  -----  \n",
      " 0   Category  596 non-null    object \n",
      " 1   Age       596 non-null    int64  \n",
      " 2   Sex       596 non-null    int32  \n",
      " 3   ALB       595 non-null    float64\n",
      " 4   ALP       579 non-null    float64\n",
      " 5   ALT       595 non-null    float64\n",
      " 6   AST       596 non-null    float64\n",
      " 7   BIL       596 non-null    float64\n",
      " 8   CHE       596 non-null    float64\n",
      " 9   CHOL      587 non-null    float64\n",
      " 10  CREA      596 non-null    float64\n",
      " 11  GGT       596 non-null    float64\n",
      " 12  PROT      596 non-null    float64\n",
      " 13  category  596 non-null    int32  \n",
      "dtypes: float64(10), int32(2), int64(1), object(1)\n",
      "memory usage: 65.2+ KB\n"
     ]
    }
   ],
   "source": [
    "df.info()"
   ]
  },
  {
   "cell_type": "markdown",
   "metadata": {},
   "source": [
    "Total number of rows in this dataset is 596 after outlier removal."
   ]
  },
  {
   "cell_type": "code",
   "execution_count": 9,
   "metadata": {},
   "outputs": [
    {
     "name": "stdout",
     "output_type": "stream",
     "text": [
      "No of missing values is 28\n"
     ]
    }
   ],
   "source": [
    "miss_count = df.isnull().sum().sum()\n",
    "\n",
    "print(\"No of missing values is\",miss_count)"
   ]
  },
  {
   "cell_type": "code",
   "execution_count": 10,
   "metadata": {},
   "outputs": [
    {
     "data": {
      "text/html": [
       "<div>\n",
       "<style scoped>\n",
       "    .dataframe tbody tr th:only-of-type {\n",
       "        vertical-align: middle;\n",
       "    }\n",
       "\n",
       "    .dataframe tbody tr th {\n",
       "        vertical-align: top;\n",
       "    }\n",
       "\n",
       "    .dataframe thead th {\n",
       "        text-align: right;\n",
       "    }\n",
       "</style>\n",
       "<table border=\"1\" class=\"dataframe\">\n",
       "  <thead>\n",
       "    <tr style=\"text-align: right;\">\n",
       "      <th></th>\n",
       "      <th>Category</th>\n",
       "      <th>Age</th>\n",
       "      <th>Sex</th>\n",
       "      <th>ALB</th>\n",
       "      <th>ALP</th>\n",
       "      <th>ALT</th>\n",
       "      <th>AST</th>\n",
       "      <th>BIL</th>\n",
       "      <th>CHE</th>\n",
       "      <th>CHOL</th>\n",
       "      <th>CREA</th>\n",
       "      <th>GGT</th>\n",
       "      <th>PROT</th>\n",
       "      <th>category</th>\n",
       "    </tr>\n",
       "  </thead>\n",
       "  <tbody>\n",
       "    <tr>\n",
       "      <th>121</th>\n",
       "      <td>Blood Donor</td>\n",
       "      <td>43</td>\n",
       "      <td>1</td>\n",
       "      <td>48.6</td>\n",
       "      <td>45.0</td>\n",
       "      <td>10.5</td>\n",
       "      <td>40.5</td>\n",
       "      <td>5.3</td>\n",
       "      <td>7.09</td>\n",
       "      <td>NaN</td>\n",
       "      <td>63.0</td>\n",
       "      <td>25.1</td>\n",
       "      <td>70.0</td>\n",
       "      <td>0</td>\n",
       "    </tr>\n",
       "    <tr>\n",
       "      <th>319</th>\n",
       "      <td>Blood Donor</td>\n",
       "      <td>32</td>\n",
       "      <td>0</td>\n",
       "      <td>47.4</td>\n",
       "      <td>52.5</td>\n",
       "      <td>19.1</td>\n",
       "      <td>17.1</td>\n",
       "      <td>4.6</td>\n",
       "      <td>10.19</td>\n",
       "      <td>NaN</td>\n",
       "      <td>63.0</td>\n",
       "      <td>23.0</td>\n",
       "      <td>72.2</td>\n",
       "      <td>0</td>\n",
       "    </tr>\n",
       "    <tr>\n",
       "      <th>329</th>\n",
       "      <td>Blood Donor</td>\n",
       "      <td>33</td>\n",
       "      <td>0</td>\n",
       "      <td>42.4</td>\n",
       "      <td>137.2</td>\n",
       "      <td>14.2</td>\n",
       "      <td>13.1</td>\n",
       "      <td>3.4</td>\n",
       "      <td>8.23</td>\n",
       "      <td>NaN</td>\n",
       "      <td>48.0</td>\n",
       "      <td>25.7</td>\n",
       "      <td>74.4</td>\n",
       "      <td>0</td>\n",
       "    </tr>\n",
       "    <tr>\n",
       "      <th>413</th>\n",
       "      <td>Blood Donor</td>\n",
       "      <td>46</td>\n",
       "      <td>0</td>\n",
       "      <td>42.9</td>\n",
       "      <td>55.1</td>\n",
       "      <td>15.2</td>\n",
       "      <td>29.8</td>\n",
       "      <td>3.6</td>\n",
       "      <td>8.37</td>\n",
       "      <td>NaN</td>\n",
       "      <td>61.0</td>\n",
       "      <td>29.0</td>\n",
       "      <td>71.9</td>\n",
       "      <td>0</td>\n",
       "    </tr>\n",
       "    <tr>\n",
       "      <th>424</th>\n",
       "      <td>Blood Donor</td>\n",
       "      <td>48</td>\n",
       "      <td>0</td>\n",
       "      <td>45.6</td>\n",
       "      <td>107.2</td>\n",
       "      <td>24.4</td>\n",
       "      <td>39.0</td>\n",
       "      <td>13.8</td>\n",
       "      <td>9.77</td>\n",
       "      <td>NaN</td>\n",
       "      <td>88.0</td>\n",
       "      <td>38.0</td>\n",
       "      <td>75.1</td>\n",
       "      <td>0</td>\n",
       "    </tr>\n",
       "    <tr>\n",
       "      <th>433</th>\n",
       "      <td>Blood Donor</td>\n",
       "      <td>48</td>\n",
       "      <td>0</td>\n",
       "      <td>46.8</td>\n",
       "      <td>93.3</td>\n",
       "      <td>10.0</td>\n",
       "      <td>23.2</td>\n",
       "      <td>4.3</td>\n",
       "      <td>12.41</td>\n",
       "      <td>NaN</td>\n",
       "      <td>52.0</td>\n",
       "      <td>23.9</td>\n",
       "      <td>72.4</td>\n",
       "      <td>0</td>\n",
       "    </tr>\n",
       "    <tr>\n",
       "      <th>498</th>\n",
       "      <td>Blood Donor</td>\n",
       "      <td>57</td>\n",
       "      <td>0</td>\n",
       "      <td>48.4</td>\n",
       "      <td>94.4</td>\n",
       "      <td>2.5</td>\n",
       "      <td>39.6</td>\n",
       "      <td>2.3</td>\n",
       "      <td>8.84</td>\n",
       "      <td>NaN</td>\n",
       "      <td>82.0</td>\n",
       "      <td>6.4</td>\n",
       "      <td>76.8</td>\n",
       "      <td>0</td>\n",
       "    </tr>\n",
       "    <tr>\n",
       "      <th>540</th>\n",
       "      <td>Hepatitis</td>\n",
       "      <td>38</td>\n",
       "      <td>1</td>\n",
       "      <td>45.0</td>\n",
       "      <td>56.3</td>\n",
       "      <td>NaN</td>\n",
       "      <td>33.1</td>\n",
       "      <td>7.0</td>\n",
       "      <td>9.58</td>\n",
       "      <td>6.0</td>\n",
       "      <td>77.9</td>\n",
       "      <td>18.9</td>\n",
       "      <td>63.0</td>\n",
       "      <td>3</td>\n",
       "    </tr>\n",
       "    <tr>\n",
       "      <th>541</th>\n",
       "      <td>Hepatitis</td>\n",
       "      <td>19</td>\n",
       "      <td>1</td>\n",
       "      <td>41.0</td>\n",
       "      <td>NaN</td>\n",
       "      <td>87.0</td>\n",
       "      <td>67.0</td>\n",
       "      <td>12.0</td>\n",
       "      <td>7.55</td>\n",
       "      <td>3.9</td>\n",
       "      <td>62.0</td>\n",
       "      <td>65.0</td>\n",
       "      <td>75.0</td>\n",
       "      <td>3</td>\n",
       "    </tr>\n",
       "    <tr>\n",
       "      <th>545</th>\n",
       "      <td>Hepatitis</td>\n",
       "      <td>29</td>\n",
       "      <td>1</td>\n",
       "      <td>49.0</td>\n",
       "      <td>NaN</td>\n",
       "      <td>53.0</td>\n",
       "      <td>39.0</td>\n",
       "      <td>15.0</td>\n",
       "      <td>8.79</td>\n",
       "      <td>3.6</td>\n",
       "      <td>79.0</td>\n",
       "      <td>37.0</td>\n",
       "      <td>90.0</td>\n",
       "      <td>3</td>\n",
       "    </tr>\n",
       "    <tr>\n",
       "      <th>546</th>\n",
       "      <td>Hepatitis</td>\n",
       "      <td>30</td>\n",
       "      <td>1</td>\n",
       "      <td>45.0</td>\n",
       "      <td>NaN</td>\n",
       "      <td>66.0</td>\n",
       "      <td>45.0</td>\n",
       "      <td>14.0</td>\n",
       "      <td>12.16</td>\n",
       "      <td>6.1</td>\n",
       "      <td>86.0</td>\n",
       "      <td>43.0</td>\n",
       "      <td>77.0</td>\n",
       "      <td>3</td>\n",
       "    </tr>\n",
       "    <tr>\n",
       "      <th>568</th>\n",
       "      <td>Fibrosis</td>\n",
       "      <td>49</td>\n",
       "      <td>1</td>\n",
       "      <td>39.0</td>\n",
       "      <td>NaN</td>\n",
       "      <td>118.0</td>\n",
       "      <td>62.0</td>\n",
       "      <td>10.0</td>\n",
       "      <td>7.28</td>\n",
       "      <td>3.5</td>\n",
       "      <td>72.0</td>\n",
       "      <td>74.0</td>\n",
       "      <td>81.0</td>\n",
       "      <td>2</td>\n",
       "    </tr>\n",
       "    <tr>\n",
       "      <th>569</th>\n",
       "      <td>Fibrosis</td>\n",
       "      <td>49</td>\n",
       "      <td>1</td>\n",
       "      <td>46.0</td>\n",
       "      <td>NaN</td>\n",
       "      <td>114.0</td>\n",
       "      <td>75.0</td>\n",
       "      <td>16.0</td>\n",
       "      <td>10.43</td>\n",
       "      <td>5.2</td>\n",
       "      <td>72.0</td>\n",
       "      <td>59.0</td>\n",
       "      <td>82.0</td>\n",
       "      <td>2</td>\n",
       "    </tr>\n",
       "    <tr>\n",
       "      <th>570</th>\n",
       "      <td>Fibrosis</td>\n",
       "      <td>50</td>\n",
       "      <td>1</td>\n",
       "      <td>42.0</td>\n",
       "      <td>NaN</td>\n",
       "      <td>258.0</td>\n",
       "      <td>106.0</td>\n",
       "      <td>15.0</td>\n",
       "      <td>8.74</td>\n",
       "      <td>4.7</td>\n",
       "      <td>77.0</td>\n",
       "      <td>80.0</td>\n",
       "      <td>84.0</td>\n",
       "      <td>2</td>\n",
       "    </tr>\n",
       "    <tr>\n",
       "      <th>571</th>\n",
       "      <td>Fibrosis</td>\n",
       "      <td>53</td>\n",
       "      <td>1</td>\n",
       "      <td>46.0</td>\n",
       "      <td>NaN</td>\n",
       "      <td>34.0</td>\n",
       "      <td>43.0</td>\n",
       "      <td>14.0</td>\n",
       "      <td>8.77</td>\n",
       "      <td>4.0</td>\n",
       "      <td>112.0</td>\n",
       "      <td>203.0</td>\n",
       "      <td>76.0</td>\n",
       "      <td>2</td>\n",
       "    </tr>\n",
       "    <tr>\n",
       "      <th>576</th>\n",
       "      <td>Fibrosis</td>\n",
       "      <td>71</td>\n",
       "      <td>1</td>\n",
       "      <td>37.0</td>\n",
       "      <td>NaN</td>\n",
       "      <td>130.0</td>\n",
       "      <td>90.0</td>\n",
       "      <td>15.0</td>\n",
       "      <td>9.92</td>\n",
       "      <td>4.7</td>\n",
       "      <td>79.0</td>\n",
       "      <td>77.0</td>\n",
       "      <td>76.0</td>\n",
       "      <td>2</td>\n",
       "    </tr>\n",
       "    <tr>\n",
       "      <th>581</th>\n",
       "      <td>Fibrosis</td>\n",
       "      <td>49</td>\n",
       "      <td>0</td>\n",
       "      <td>39.0</td>\n",
       "      <td>NaN</td>\n",
       "      <td>46.0</td>\n",
       "      <td>39.0</td>\n",
       "      <td>9.0</td>\n",
       "      <td>10.21</td>\n",
       "      <td>3.1</td>\n",
       "      <td>89.0</td>\n",
       "      <td>53.0</td>\n",
       "      <td>79.0</td>\n",
       "      <td>2</td>\n",
       "    </tr>\n",
       "    <tr>\n",
       "      <th>582</th>\n",
       "      <td>Fibrosis</td>\n",
       "      <td>51</td>\n",
       "      <td>0</td>\n",
       "      <td>37.0</td>\n",
       "      <td>NaN</td>\n",
       "      <td>164.0</td>\n",
       "      <td>70.0</td>\n",
       "      <td>9.0</td>\n",
       "      <td>3.99</td>\n",
       "      <td>4.2</td>\n",
       "      <td>67.0</td>\n",
       "      <td>43.0</td>\n",
       "      <td>72.0</td>\n",
       "      <td>2</td>\n",
       "    </tr>\n",
       "    <tr>\n",
       "      <th>583</th>\n",
       "      <td>Fibrosis</td>\n",
       "      <td>56</td>\n",
       "      <td>0</td>\n",
       "      <td>39.0</td>\n",
       "      <td>NaN</td>\n",
       "      <td>42.0</td>\n",
       "      <td>34.0</td>\n",
       "      <td>10.0</td>\n",
       "      <td>7.75</td>\n",
       "      <td>5.0</td>\n",
       "      <td>80.0</td>\n",
       "      <td>84.0</td>\n",
       "      <td>78.0</td>\n",
       "      <td>2</td>\n",
       "    </tr>\n",
       "    <tr>\n",
       "      <th>584</th>\n",
       "      <td>Fibrosis</td>\n",
       "      <td>75</td>\n",
       "      <td>0</td>\n",
       "      <td>36.0</td>\n",
       "      <td>NaN</td>\n",
       "      <td>114.0</td>\n",
       "      <td>125.0</td>\n",
       "      <td>14.0</td>\n",
       "      <td>6.65</td>\n",
       "      <td>NaN</td>\n",
       "      <td>57.0</td>\n",
       "      <td>177.0</td>\n",
       "      <td>72.0</td>\n",
       "      <td>2</td>\n",
       "    </tr>\n",
       "    <tr>\n",
       "      <th>585</th>\n",
       "      <td>Cirrhosis</td>\n",
       "      <td>38</td>\n",
       "      <td>1</td>\n",
       "      <td>44.0</td>\n",
       "      <td>NaN</td>\n",
       "      <td>94.0</td>\n",
       "      <td>60.0</td>\n",
       "      <td>12.0</td>\n",
       "      <td>4.37</td>\n",
       "      <td>3.2</td>\n",
       "      <td>61.0</td>\n",
       "      <td>99.0</td>\n",
       "      <td>77.0</td>\n",
       "      <td>1</td>\n",
       "    </tr>\n",
       "    <tr>\n",
       "      <th>592</th>\n",
       "      <td>Cirrhosis</td>\n",
       "      <td>47</td>\n",
       "      <td>1</td>\n",
       "      <td>42.0</td>\n",
       "      <td>NaN</td>\n",
       "      <td>159.0</td>\n",
       "      <td>102.0</td>\n",
       "      <td>11.0</td>\n",
       "      <td>6.29</td>\n",
       "      <td>5.5</td>\n",
       "      <td>58.0</td>\n",
       "      <td>201.0</td>\n",
       "      <td>79.0</td>\n",
       "      <td>1</td>\n",
       "    </tr>\n",
       "    <tr>\n",
       "      <th>603</th>\n",
       "      <td>Cirrhosis</td>\n",
       "      <td>65</td>\n",
       "      <td>1</td>\n",
       "      <td>NaN</td>\n",
       "      <td>NaN</td>\n",
       "      <td>40.0</td>\n",
       "      <td>54.0</td>\n",
       "      <td>13.0</td>\n",
       "      <td>7.50</td>\n",
       "      <td>NaN</td>\n",
       "      <td>70.0</td>\n",
       "      <td>107.0</td>\n",
       "      <td>79.0</td>\n",
       "      <td>1</td>\n",
       "    </tr>\n",
       "    <tr>\n",
       "      <th>613</th>\n",
       "      <td>Cirrhosis</td>\n",
       "      <td>46</td>\n",
       "      <td>0</td>\n",
       "      <td>33.0</td>\n",
       "      <td>NaN</td>\n",
       "      <td>39.0</td>\n",
       "      <td>62.0</td>\n",
       "      <td>20.0</td>\n",
       "      <td>3.56</td>\n",
       "      <td>4.2</td>\n",
       "      <td>52.0</td>\n",
       "      <td>50.0</td>\n",
       "      <td>71.0</td>\n",
       "      <td>1</td>\n",
       "    </tr>\n",
       "    <tr>\n",
       "      <th>614</th>\n",
       "      <td>Cirrhosis</td>\n",
       "      <td>59</td>\n",
       "      <td>0</td>\n",
       "      <td>36.0</td>\n",
       "      <td>NaN</td>\n",
       "      <td>100.0</td>\n",
       "      <td>80.0</td>\n",
       "      <td>12.0</td>\n",
       "      <td>9.07</td>\n",
       "      <td>5.3</td>\n",
       "      <td>67.0</td>\n",
       "      <td>34.0</td>\n",
       "      <td>68.0</td>\n",
       "      <td>1</td>\n",
       "    </tr>\n",
       "  </tbody>\n",
       "</table>\n",
       "</div>"
      ],
      "text/plain": [
       "        Category  Age  Sex   ALB    ALP    ALT    AST   BIL    CHE  CHOL  \\\n",
       "121  Blood Donor   43    1  48.6   45.0   10.5   40.5   5.3   7.09   NaN   \n",
       "319  Blood Donor   32    0  47.4   52.5   19.1   17.1   4.6  10.19   NaN   \n",
       "329  Blood Donor   33    0  42.4  137.2   14.2   13.1   3.4   8.23   NaN   \n",
       "413  Blood Donor   46    0  42.9   55.1   15.2   29.8   3.6   8.37   NaN   \n",
       "424  Blood Donor   48    0  45.6  107.2   24.4   39.0  13.8   9.77   NaN   \n",
       "433  Blood Donor   48    0  46.8   93.3   10.0   23.2   4.3  12.41   NaN   \n",
       "498  Blood Donor   57    0  48.4   94.4    2.5   39.6   2.3   8.84   NaN   \n",
       "540    Hepatitis   38    1  45.0   56.3    NaN   33.1   7.0   9.58   6.0   \n",
       "541    Hepatitis   19    1  41.0    NaN   87.0   67.0  12.0   7.55   3.9   \n",
       "545    Hepatitis   29    1  49.0    NaN   53.0   39.0  15.0   8.79   3.6   \n",
       "546    Hepatitis   30    1  45.0    NaN   66.0   45.0  14.0  12.16   6.1   \n",
       "568     Fibrosis   49    1  39.0    NaN  118.0   62.0  10.0   7.28   3.5   \n",
       "569     Fibrosis   49    1  46.0    NaN  114.0   75.0  16.0  10.43   5.2   \n",
       "570     Fibrosis   50    1  42.0    NaN  258.0  106.0  15.0   8.74   4.7   \n",
       "571     Fibrosis   53    1  46.0    NaN   34.0   43.0  14.0   8.77   4.0   \n",
       "576     Fibrosis   71    1  37.0    NaN  130.0   90.0  15.0   9.92   4.7   \n",
       "581     Fibrosis   49    0  39.0    NaN   46.0   39.0   9.0  10.21   3.1   \n",
       "582     Fibrosis   51    0  37.0    NaN  164.0   70.0   9.0   3.99   4.2   \n",
       "583     Fibrosis   56    0  39.0    NaN   42.0   34.0  10.0   7.75   5.0   \n",
       "584     Fibrosis   75    0  36.0    NaN  114.0  125.0  14.0   6.65   NaN   \n",
       "585    Cirrhosis   38    1  44.0    NaN   94.0   60.0  12.0   4.37   3.2   \n",
       "592    Cirrhosis   47    1  42.0    NaN  159.0  102.0  11.0   6.29   5.5   \n",
       "603    Cirrhosis   65    1   NaN    NaN   40.0   54.0  13.0   7.50   NaN   \n",
       "613    Cirrhosis   46    0  33.0    NaN   39.0   62.0  20.0   3.56   4.2   \n",
       "614    Cirrhosis   59    0  36.0    NaN  100.0   80.0  12.0   9.07   5.3   \n",
       "\n",
       "      CREA    GGT  PROT  category  \n",
       "121   63.0   25.1  70.0         0  \n",
       "319   63.0   23.0  72.2         0  \n",
       "329   48.0   25.7  74.4         0  \n",
       "413   61.0   29.0  71.9         0  \n",
       "424   88.0   38.0  75.1         0  \n",
       "433   52.0   23.9  72.4         0  \n",
       "498   82.0    6.4  76.8         0  \n",
       "540   77.9   18.9  63.0         3  \n",
       "541   62.0   65.0  75.0         3  \n",
       "545   79.0   37.0  90.0         3  \n",
       "546   86.0   43.0  77.0         3  \n",
       "568   72.0   74.0  81.0         2  \n",
       "569   72.0   59.0  82.0         2  \n",
       "570   77.0   80.0  84.0         2  \n",
       "571  112.0  203.0  76.0         2  \n",
       "576   79.0   77.0  76.0         2  \n",
       "581   89.0   53.0  79.0         2  \n",
       "582   67.0   43.0  72.0         2  \n",
       "583   80.0   84.0  78.0         2  \n",
       "584   57.0  177.0  72.0         2  \n",
       "585   61.0   99.0  77.0         1  \n",
       "592   58.0  201.0  79.0         1  \n",
       "603   70.0  107.0  79.0         1  \n",
       "613   52.0   50.0  71.0         1  \n",
       "614   67.0   34.0  68.0         1  "
      ]
     },
     "execution_count": 10,
     "metadata": {},
     "output_type": "execute_result"
    }
   ],
   "source": [
    "# Get rows where the data is missing\n",
    "null_data = df[df.isnull().any(axis=1)]\n",
    "null_data"
   ]
  },
  {
   "cell_type": "markdown",
   "metadata": {},
   "source": [
    "Plot bar graph to visualise the per column missing values.\n",
    "We are using missingno library for this. Use pip install missingno if module not installed."
   ]
  },
  {
   "cell_type": "code",
   "execution_count": 11,
   "metadata": {},
   "outputs": [
    {
     "name": "stdout",
     "output_type": "stream",
     "text": [
      "AxesSubplot(0.125,0.125;0.775x0.755)\n"
     ]
    },
    {
     "data": {
      "image/png": "[encoded data removed]",
      "text/plain": [
       "<Figure size 864x432 with 3 Axes>"
      ]
     },
     "metadata": {
      "needs_background": "light"
     },
     "output_type": "display_data"
    }
   ],
   "source": [
    "missing_bar  = msno.bar(df, figsize=(12, 6), fontsize=12, color='steelblue')\n",
    "\n",
    "print(missing_bar)"
   ]
  },
  {
   "cell_type": "markdown",
   "metadata": {},
   "source": [
    "Find the correlation between data to determine suitable method to handle missing data."
   ]
  },
  {
   "cell_type": "code",
   "execution_count": 12,
   "metadata": {},
   "outputs": [
    {
     "name": "stdout",
     "output_type": "stream",
     "text": [
      "AxesSubplot(0.125,0.125;0.62x0.755)\n"
     ]
    },
    {
     "data": {
      "image/png": "[encoded data removed]",
      "text/plain": [
       "<Figure size 864x432 with 2 Axes>"
      ]
     },
     "metadata": {
      "needs_background": "light"
     },
     "output_type": "display_data"
    }
   ],
   "source": [
    "print(msno.heatmap(df, figsize=(12, 6), fontsize=12))"
   ]
  },
  {
   "cell_type": "markdown",
   "metadata": {},
   "source": [
    "We can either drop the corresponding columns or replace it with mean."
   ]
  },
  {
   "cell_type": "code",
   "execution_count": 13,
   "metadata": {},
   "outputs": [
    {
     "data": {
      "text/plain": [
       "(66.93575129533683, 66.9357512953368)"
      ]
     },
     "execution_count": 13,
     "metadata": {},
     "output_type": "execute_result"
    }
   ],
   "source": [
    "# Compute mean with and without mean replacement of missing data.\n",
    "df['ALP'].mean(), df['ALP'].fillna(df['ALP'].mean()).mean()"
   ]
  },
  {
   "cell_type": "code",
   "execution_count": 14,
   "metadata": {},
   "outputs": [
    {
     "data": {
      "text/plain": [
       "(5.399522998296421, 5.399522998296423)"
      ]
     },
     "execution_count": 14,
     "metadata": {},
     "output_type": "execute_result"
    }
   ],
   "source": [
    "df['CHOL'].mean(), df['CHOL'].fillna(df['CHOL'].mean()).mean()"
   ]
  },
  {
   "cell_type": "code",
   "execution_count": 15,
   "metadata": {},
   "outputs": [
    {
     "data": {
      "text/plain": [
       "(41.82201680672269, 41.82201680672269)"
      ]
     },
     "execution_count": 15,
     "metadata": {},
     "output_type": "execute_result"
    }
   ],
   "source": [
    "df['ALB'].mean(), df['ALB'].fillna(df['ALB'].mean()).mean()"
   ]
  },
  {
   "cell_type": "code",
   "execution_count": 16,
   "metadata": {},
   "outputs": [
    {
     "data": {
      "text/plain": [
       "(28.754453781512584, 28.75445378151258)"
      ]
     },
     "execution_count": 16,
     "metadata": {},
     "output_type": "execute_result"
    }
   ],
   "source": [
    "df['ALT'].mean(), df['ALT'].fillna(df['ALT'].mean()).mean()"
   ]
  },
  {
   "cell_type": "code",
   "execution_count": 17,
   "metadata": {},
   "outputs": [
    {
     "data": {
      "text/plain": [
       "(72.1986577181209, 72.1986577181209)"
      ]
     },
     "execution_count": 17,
     "metadata": {},
     "output_type": "execute_result"
    }
   ],
   "source": [
    "df['PROT'].mean(), df['PROT'].fillna(df['PROT'].mean()).mean()"
   ]
  },
  {
   "cell_type": "markdown",
   "metadata": {},
   "source": [
    "Mean computed before and after replacing null values with mean differ minutely.\n",
    "Therefore missing values are replaced with corresponding mean."
   ]
  },
  {
   "cell_type": "code",
   "execution_count": 18,
   "metadata": {},
   "outputs": [
    {
     "name": "stdout",
     "output_type": "stream",
     "text": [
      "No of missing values is 0\n"
     ]
    }
   ],
   "source": [
    "df['ALP'].fillna(df['ALP'].mean(), inplace=True)\n",
    "df['CHOL'].fillna(df['CHOL'].mean(), inplace=True)\n",
    "df['ALB'].fillna(df['ALB'].mean(), inplace=True)\n",
    "df['ALT'].fillna(df['ALT'].mean(), inplace=True)\n",
    "df['PROT'].fillna(df['PROT'].mean(), inplace=True)\n",
    "                  \n",
    "miss_count = df.isnull().sum().sum()\n",
    "\n",
    "print(\"No of missing values is\",miss_count)"
   ]
  },
  {
   "cell_type": "markdown",
   "metadata": {},
   "source": [
    "## Dummy variables"
   ]
  },
  {
   "cell_type": "code",
   "execution_count": 19,
   "metadata": {},
   "outputs": [
    {
     "data": {
      "text/html": [
       "<div>\n",
       "<style scoped>\n",
       "    .dataframe tbody tr th:only-of-type {\n",
       "        vertical-align: middle;\n",
       "    }\n",
       "\n",
       "    .dataframe tbody tr th {\n",
       "        vertical-align: top;\n",
       "    }\n",
       "\n",
       "    .dataframe thead th {\n",
       "        text-align: right;\n",
       "    }\n",
       "</style>\n",
       "<table border=\"1\" class=\"dataframe\">\n",
       "  <thead>\n",
       "    <tr style=\"text-align: right;\">\n",
       "      <th></th>\n",
       "      <th>Blood Donor</th>\n",
       "      <th>Cirrhosis</th>\n",
       "      <th>Fibrosis</th>\n",
       "      <th>Hepatitis</th>\n",
       "      <th>Suspect Blood Donor</th>\n",
       "    </tr>\n",
       "  </thead>\n",
       "  <tbody>\n",
       "    <tr>\n",
       "      <th>0</th>\n",
       "      <td>1</td>\n",
       "      <td>0</td>\n",
       "      <td>0</td>\n",
       "      <td>0</td>\n",
       "      <td>0</td>\n",
       "    </tr>\n",
       "    <tr>\n",
       "      <th>1</th>\n",
       "      <td>1</td>\n",
       "      <td>0</td>\n",
       "      <td>0</td>\n",
       "      <td>0</td>\n",
       "      <td>0</td>\n",
       "    </tr>\n",
       "    <tr>\n",
       "      <th>2</th>\n",
       "      <td>1</td>\n",
       "      <td>0</td>\n",
       "      <td>0</td>\n",
       "      <td>0</td>\n",
       "      <td>0</td>\n",
       "    </tr>\n",
       "    <tr>\n",
       "      <th>3</th>\n",
       "      <td>1</td>\n",
       "      <td>0</td>\n",
       "      <td>0</td>\n",
       "      <td>0</td>\n",
       "      <td>0</td>\n",
       "    </tr>\n",
       "    <tr>\n",
       "      <th>4</th>\n",
       "      <td>1</td>\n",
       "      <td>0</td>\n",
       "      <td>0</td>\n",
       "      <td>0</td>\n",
       "      <td>0</td>\n",
       "    </tr>\n",
       "    <tr>\n",
       "      <th>...</th>\n",
       "      <td>...</td>\n",
       "      <td>...</td>\n",
       "      <td>...</td>\n",
       "      <td>...</td>\n",
       "      <td>...</td>\n",
       "    </tr>\n",
       "    <tr>\n",
       "      <th>608</th>\n",
       "      <td>0</td>\n",
       "      <td>1</td>\n",
       "      <td>0</td>\n",
       "      <td>0</td>\n",
       "      <td>0</td>\n",
       "    </tr>\n",
       "    <tr>\n",
       "      <th>611</th>\n",
       "      <td>0</td>\n",
       "      <td>1</td>\n",
       "      <td>0</td>\n",
       "      <td>0</td>\n",
       "      <td>0</td>\n",
       "    </tr>\n",
       "    <tr>\n",
       "      <th>612</th>\n",
       "      <td>0</td>\n",
       "      <td>1</td>\n",
       "      <td>0</td>\n",
       "      <td>0</td>\n",
       "      <td>0</td>\n",
       "    </tr>\n",
       "    <tr>\n",
       "      <th>613</th>\n",
       "      <td>0</td>\n",
       "      <td>1</td>\n",
       "      <td>0</td>\n",
       "      <td>0</td>\n",
       "      <td>0</td>\n",
       "    </tr>\n",
       "    <tr>\n",
       "      <th>614</th>\n",
       "      <td>0</td>\n",
       "      <td>1</td>\n",
       "      <td>0</td>\n",
       "      <td>0</td>\n",
       "      <td>0</td>\n",
       "    </tr>\n",
       "  </tbody>\n",
       "</table>\n",
       "<p>596 rows × 5 columns</p>\n",
       "</div>"
      ],
      "text/plain": [
       "     Blood Donor  Cirrhosis  Fibrosis  Hepatitis  Suspect Blood Donor\n",
       "0              1          0         0          0                    0\n",
       "1              1          0         0          0                    0\n",
       "2              1          0         0          0                    0\n",
       "3              1          0         0          0                    0\n",
       "4              1          0         0          0                    0\n",
       "..           ...        ...       ...        ...                  ...\n",
       "608            0          1         0          0                    0\n",
       "611            0          1         0          0                    0\n",
       "612            0          1         0          0                    0\n",
       "613            0          1         0          0                    0\n",
       "614            0          1         0          0                    0\n",
       "\n",
       "[596 rows x 5 columns]"
      ]
     },
     "execution_count": 19,
     "metadata": {},
     "output_type": "execute_result"
    }
   ],
   "source": [
    "# We have 5 labels inside category like hepatitis, fibrosis..etc\n",
    "# One hot encoding\n",
    "df_new = pd.get_dummies(df.Category)\n",
    "\n",
    "df_new"
   ]
  },
  {
   "cell_type": "code",
   "execution_count": 20,
   "metadata": {},
   "outputs": [],
   "source": [
    "#Concat new rows with original data frame.\n",
    "df = pd.concat([df_new, df], axis=1)\n",
    "# Drop category after one hot encoding.\n",
    "df = df.drop(['Category'], axis=1)"
   ]
  },
  {
   "cell_type": "code",
   "execution_count": 21,
   "metadata": {},
   "outputs": [
    {
     "data": {
      "text/html": [
       "<div>\n",
       "<style scoped>\n",
       "    .dataframe tbody tr th:only-of-type {\n",
       "        vertical-align: middle;\n",
       "    }\n",
       "\n",
       "    .dataframe tbody tr th {\n",
       "        vertical-align: top;\n",
       "    }\n",
       "\n",
       "    .dataframe thead th {\n",
       "        text-align: right;\n",
       "    }\n",
       "</style>\n",
       "<table border=\"1\" class=\"dataframe\">\n",
       "  <thead>\n",
       "    <tr style=\"text-align: right;\">\n",
       "      <th></th>\n",
       "      <th>Blood Donor</th>\n",
       "      <th>Cirrhosis</th>\n",
       "      <th>Fibrosis</th>\n",
       "      <th>Hepatitis</th>\n",
       "      <th>Suspect Blood Donor</th>\n",
       "      <th>Age</th>\n",
       "      <th>Sex</th>\n",
       "      <th>ALB</th>\n",
       "      <th>ALP</th>\n",
       "      <th>ALT</th>\n",
       "      <th>AST</th>\n",
       "      <th>BIL</th>\n",
       "      <th>CHE</th>\n",
       "      <th>CHOL</th>\n",
       "      <th>CREA</th>\n",
       "      <th>GGT</th>\n",
       "      <th>PROT</th>\n",
       "      <th>category</th>\n",
       "    </tr>\n",
       "  </thead>\n",
       "  <tbody>\n",
       "    <tr>\n",
       "      <th>608</th>\n",
       "      <td>0</td>\n",
       "      <td>1</td>\n",
       "      <td>0</td>\n",
       "      <td>0</td>\n",
       "      <td>0</td>\n",
       "      <td>58</td>\n",
       "      <td>0</td>\n",
       "      <td>34.0</td>\n",
       "      <td>46.400000</td>\n",
       "      <td>15.0</td>\n",
       "      <td>150.0</td>\n",
       "      <td>8.0</td>\n",
       "      <td>6.26</td>\n",
       "      <td>3.98</td>\n",
       "      <td>56.0</td>\n",
       "      <td>49.7</td>\n",
       "      <td>80.6</td>\n",
       "      <td>1</td>\n",
       "    </tr>\n",
       "    <tr>\n",
       "      <th>611</th>\n",
       "      <td>0</td>\n",
       "      <td>1</td>\n",
       "      <td>0</td>\n",
       "      <td>0</td>\n",
       "      <td>0</td>\n",
       "      <td>64</td>\n",
       "      <td>0</td>\n",
       "      <td>24.0</td>\n",
       "      <td>102.800000</td>\n",
       "      <td>2.9</td>\n",
       "      <td>44.4</td>\n",
       "      <td>20.0</td>\n",
       "      <td>1.54</td>\n",
       "      <td>3.02</td>\n",
       "      <td>63.0</td>\n",
       "      <td>35.9</td>\n",
       "      <td>71.3</td>\n",
       "      <td>1</td>\n",
       "    </tr>\n",
       "    <tr>\n",
       "      <th>612</th>\n",
       "      <td>0</td>\n",
       "      <td>1</td>\n",
       "      <td>0</td>\n",
       "      <td>0</td>\n",
       "      <td>0</td>\n",
       "      <td>64</td>\n",
       "      <td>0</td>\n",
       "      <td>29.0</td>\n",
       "      <td>87.300000</td>\n",
       "      <td>3.5</td>\n",
       "      <td>99.0</td>\n",
       "      <td>48.0</td>\n",
       "      <td>1.66</td>\n",
       "      <td>3.63</td>\n",
       "      <td>66.7</td>\n",
       "      <td>64.2</td>\n",
       "      <td>82.0</td>\n",
       "      <td>1</td>\n",
       "    </tr>\n",
       "    <tr>\n",
       "      <th>613</th>\n",
       "      <td>0</td>\n",
       "      <td>1</td>\n",
       "      <td>0</td>\n",
       "      <td>0</td>\n",
       "      <td>0</td>\n",
       "      <td>46</td>\n",
       "      <td>0</td>\n",
       "      <td>33.0</td>\n",
       "      <td>66.935751</td>\n",
       "      <td>39.0</td>\n",
       "      <td>62.0</td>\n",
       "      <td>20.0</td>\n",
       "      <td>3.56</td>\n",
       "      <td>4.20</td>\n",
       "      <td>52.0</td>\n",
       "      <td>50.0</td>\n",
       "      <td>71.0</td>\n",
       "      <td>1</td>\n",
       "    </tr>\n",
       "    <tr>\n",
       "      <th>614</th>\n",
       "      <td>0</td>\n",
       "      <td>1</td>\n",
       "      <td>0</td>\n",
       "      <td>0</td>\n",
       "      <td>0</td>\n",
       "      <td>59</td>\n",
       "      <td>0</td>\n",
       "      <td>36.0</td>\n",
       "      <td>66.935751</td>\n",
       "      <td>100.0</td>\n",
       "      <td>80.0</td>\n",
       "      <td>12.0</td>\n",
       "      <td>9.07</td>\n",
       "      <td>5.30</td>\n",
       "      <td>67.0</td>\n",
       "      <td>34.0</td>\n",
       "      <td>68.0</td>\n",
       "      <td>1</td>\n",
       "    </tr>\n",
       "  </tbody>\n",
       "</table>\n",
       "</div>"
      ],
      "text/plain": [
       "     Blood Donor  Cirrhosis  Fibrosis  Hepatitis  Suspect Blood Donor  Age  \\\n",
       "608            0          1         0          0                    0   58   \n",
       "611            0          1         0          0                    0   64   \n",
       "612            0          1         0          0                    0   64   \n",
       "613            0          1         0          0                    0   46   \n",
       "614            0          1         0          0                    0   59   \n",
       "\n",
       "     Sex   ALB         ALP    ALT    AST   BIL   CHE  CHOL  CREA   GGT  PROT  \\\n",
       "608    0  34.0   46.400000   15.0  150.0   8.0  6.26  3.98  56.0  49.7  80.6   \n",
       "611    0  24.0  102.800000    2.9   44.4  20.0  1.54  3.02  63.0  35.9  71.3   \n",
       "612    0  29.0   87.300000    3.5   99.0  48.0  1.66  3.63  66.7  64.2  82.0   \n",
       "613    0  33.0   66.935751   39.0   62.0  20.0  3.56  4.20  52.0  50.0  71.0   \n",
       "614    0  36.0   66.935751  100.0   80.0  12.0  9.07  5.30  67.0  34.0  68.0   \n",
       "\n",
       "     category  \n",
       "608         1  \n",
       "611         1  \n",
       "612         1  \n",
       "613         1  \n",
       "614         1  "
      ]
     },
     "execution_count": 21,
     "metadata": {},
     "output_type": "execute_result"
    }
   ],
   "source": [
    "df.tail()"
   ]
  },
  {
   "cell_type": "code",
   "execution_count": 22,
   "metadata": {},
   "outputs": [
    {
     "name": "stdout",
     "output_type": "stream",
     "text": [
      "<class 'pandas.core.frame.DataFrame'>\n",
      "Int64Index: 596 entries, 0 to 614\n",
      "Data columns (total 18 columns):\n",
      " #   Column               Non-Null Count  Dtype  \n",
      "---  ------               --------------  -----  \n",
      " 0   Blood Donor          596 non-null    uint8  \n",
      " 1   Cirrhosis            596 non-null    uint8  \n",
      " 2   Fibrosis             596 non-null    uint8  \n",
      " 3   Hepatitis            596 non-null    uint8  \n",
      " 4   Suspect Blood Donor  596 non-null    uint8  \n",
      " 5   Age                  596 non-null    int64  \n",
      " 6   Sex                  596 non-null    int32  \n",
      " 7   ALB                  596 non-null    float64\n",
      " 8   ALP                  596 non-null    float64\n",
      " 9   ALT                  596 non-null    float64\n",
      " 10  AST                  596 non-null    float64\n",
      " 11  BIL                  596 non-null    float64\n",
      " 12  CHE                  596 non-null    float64\n",
      " 13  CHOL                 596 non-null    float64\n",
      " 14  CREA                 596 non-null    float64\n",
      " 15  GGT                  596 non-null    float64\n",
      " 16  PROT                 596 non-null    float64\n",
      " 17  category             596 non-null    int32  \n",
      "dtypes: float64(10), int32(2), int64(1), uint8(5)\n",
      "memory usage: 63.4 KB\n"
     ]
    }
   ],
   "source": [
    "df.info()"
   ]
  },
  {
   "cell_type": "code",
   "execution_count": 23,
   "metadata": {},
   "outputs": [
    {
     "data": {
      "text/html": [
       "<div>\n",
       "<style scoped>\n",
       "    .dataframe tbody tr th:only-of-type {\n",
       "        vertical-align: middle;\n",
       "    }\n",
       "\n",
       "    .dataframe tbody tr th {\n",
       "        vertical-align: top;\n",
       "    }\n",
       "\n",
       "    .dataframe thead th {\n",
       "        text-align: right;\n",
       "    }\n",
       "</style>\n",
       "<table border=\"1\" class=\"dataframe\">\n",
       "  <thead>\n",
       "    <tr style=\"text-align: right;\">\n",
       "      <th></th>\n",
       "      <th>Blood Donor</th>\n",
       "      <th>Cirrhosis</th>\n",
       "      <th>Fibrosis</th>\n",
       "      <th>Hepatitis</th>\n",
       "      <th>Suspect Blood Donor</th>\n",
       "      <th>Age</th>\n",
       "      <th>Sex</th>\n",
       "      <th>ALB</th>\n",
       "      <th>ALP</th>\n",
       "      <th>ALT</th>\n",
       "      <th>AST</th>\n",
       "      <th>BIL</th>\n",
       "      <th>CHE</th>\n",
       "      <th>CHOL</th>\n",
       "      <th>CREA</th>\n",
       "      <th>GGT</th>\n",
       "      <th>PROT</th>\n",
       "      <th>category</th>\n",
       "    </tr>\n",
       "  </thead>\n",
       "  <tbody>\n",
       "    <tr>\n",
       "      <th>count</th>\n",
       "      <td>596.000000</td>\n",
       "      <td>596.000000</td>\n",
       "      <td>596.000000</td>\n",
       "      <td>596.000000</td>\n",
       "      <td>596.000000</td>\n",
       "      <td>596.000000</td>\n",
       "      <td>596.000000</td>\n",
       "      <td>596.000000</td>\n",
       "      <td>596.000000</td>\n",
       "      <td>596.000000</td>\n",
       "      <td>596.000000</td>\n",
       "      <td>596.000000</td>\n",
       "      <td>596.000000</td>\n",
       "      <td>596.000000</td>\n",
       "      <td>596.000000</td>\n",
       "      <td>596.000000</td>\n",
       "      <td>596.000000</td>\n",
       "      <td>596.000000</td>\n",
       "    </tr>\n",
       "    <tr>\n",
       "      <th>mean</th>\n",
       "      <td>0.892617</td>\n",
       "      <td>0.025168</td>\n",
       "      <td>0.035235</td>\n",
       "      <td>0.036913</td>\n",
       "      <td>0.010067</td>\n",
       "      <td>47.273490</td>\n",
       "      <td>0.607383</td>\n",
       "      <td>41.822017</td>\n",
       "      <td>66.935751</td>\n",
       "      <td>28.754454</td>\n",
       "      <td>31.993121</td>\n",
       "      <td>9.382383</td>\n",
       "      <td>8.324094</td>\n",
       "      <td>5.399523</td>\n",
       "      <td>77.946477</td>\n",
       "      <td>34.234564</td>\n",
       "      <td>72.198658</td>\n",
       "      <td>0.246644</td>\n",
       "    </tr>\n",
       "    <tr>\n",
       "      <th>std</th>\n",
       "      <td>0.309859</td>\n",
       "      <td>0.156766</td>\n",
       "      <td>0.184528</td>\n",
       "      <td>0.188706</td>\n",
       "      <td>0.099913</td>\n",
       "      <td>10.102202</td>\n",
       "      <td>0.488743</td>\n",
       "      <td>5.309456</td>\n",
       "      <td>20.511936</td>\n",
       "      <td>25.522502</td>\n",
       "      <td>23.637838</td>\n",
       "      <td>7.818905</td>\n",
       "      <td>2.078226</td>\n",
       "      <td>1.107767</td>\n",
       "      <td>15.459053</td>\n",
       "      <td>34.303697</td>\n",
       "      <td>5.283295</td>\n",
       "      <td>0.774318</td>\n",
       "    </tr>\n",
       "    <tr>\n",
       "      <th>min</th>\n",
       "      <td>0.000000</td>\n",
       "      <td>0.000000</td>\n",
       "      <td>0.000000</td>\n",
       "      <td>0.000000</td>\n",
       "      <td>0.000000</td>\n",
       "      <td>19.000000</td>\n",
       "      <td>0.000000</td>\n",
       "      <td>14.900000</td>\n",
       "      <td>11.300000</td>\n",
       "      <td>1.300000</td>\n",
       "      <td>10.600000</td>\n",
       "      <td>0.800000</td>\n",
       "      <td>1.540000</td>\n",
       "      <td>2.400000</td>\n",
       "      <td>8.000000</td>\n",
       "      <td>4.500000</td>\n",
       "      <td>44.800000</td>\n",
       "      <td>0.000000</td>\n",
       "    </tr>\n",
       "    <tr>\n",
       "      <th>25%</th>\n",
       "      <td>1.000000</td>\n",
       "      <td>0.000000</td>\n",
       "      <td>0.000000</td>\n",
       "      <td>0.000000</td>\n",
       "      <td>0.000000</td>\n",
       "      <td>39.000000</td>\n",
       "      <td>0.000000</td>\n",
       "      <td>39.000000</td>\n",
       "      <td>52.850000</td>\n",
       "      <td>16.600000</td>\n",
       "      <td>21.500000</td>\n",
       "      <td>5.200000</td>\n",
       "      <td>7.010000</td>\n",
       "      <td>4.640000</td>\n",
       "      <td>67.000000</td>\n",
       "      <td>15.600000</td>\n",
       "      <td>69.600000</td>\n",
       "      <td>0.000000</td>\n",
       "    </tr>\n",
       "    <tr>\n",
       "      <th>50%</th>\n",
       "      <td>1.000000</td>\n",
       "      <td>0.000000</td>\n",
       "      <td>0.000000</td>\n",
       "      <td>0.000000</td>\n",
       "      <td>0.000000</td>\n",
       "      <td>47.000000</td>\n",
       "      <td>1.000000</td>\n",
       "      <td>42.000000</td>\n",
       "      <td>66.300000</td>\n",
       "      <td>23.050000</td>\n",
       "      <td>25.700000</td>\n",
       "      <td>7.100000</td>\n",
       "      <td>8.325000</td>\n",
       "      <td>5.315000</td>\n",
       "      <td>76.450000</td>\n",
       "      <td>22.900000</td>\n",
       "      <td>72.300000</td>\n",
       "      <td>0.000000</td>\n",
       "    </tr>\n",
       "    <tr>\n",
       "      <th>75%</th>\n",
       "      <td>1.000000</td>\n",
       "      <td>0.000000</td>\n",
       "      <td>0.000000</td>\n",
       "      <td>0.000000</td>\n",
       "      <td>0.000000</td>\n",
       "      <td>54.000000</td>\n",
       "      <td>1.000000</td>\n",
       "      <td>45.300000</td>\n",
       "      <td>78.300000</td>\n",
       "      <td>33.100000</td>\n",
       "      <td>31.925000</td>\n",
       "      <td>10.925000</td>\n",
       "      <td>9.632500</td>\n",
       "      <td>6.060000</td>\n",
       "      <td>88.000000</td>\n",
       "      <td>37.075000</td>\n",
       "      <td>75.400000</td>\n",
       "      <td>0.000000</td>\n",
       "    </tr>\n",
       "    <tr>\n",
       "      <th>max</th>\n",
       "      <td>1.000000</td>\n",
       "      <td>1.000000</td>\n",
       "      <td>1.000000</td>\n",
       "      <td>1.000000</td>\n",
       "      <td>1.000000</td>\n",
       "      <td>77.000000</td>\n",
       "      <td>1.000000</td>\n",
       "      <td>62.900000</td>\n",
       "      <td>208.200000</td>\n",
       "      <td>325.300000</td>\n",
       "      <td>188.700000</td>\n",
       "      <td>91.000000</td>\n",
       "      <td>16.410000</td>\n",
       "      <td>9.670000</td>\n",
       "      <td>158.200000</td>\n",
       "      <td>295.600000</td>\n",
       "      <td>90.000000</td>\n",
       "      <td>4.000000</td>\n",
       "    </tr>\n",
       "  </tbody>\n",
       "</table>\n",
       "</div>"
      ],
      "text/plain": [
       "       Blood Donor   Cirrhosis    Fibrosis   Hepatitis  Suspect Blood Donor  \\\n",
       "count   596.000000  596.000000  596.000000  596.000000           596.000000   \n",
       "mean      0.892617    0.025168    0.035235    0.036913             0.010067   \n",
       "std       0.309859    0.156766    0.184528    0.188706             0.099913   \n",
       "min       0.000000    0.000000    0.000000    0.000000             0.000000   \n",
       "25%       1.000000    0.000000    0.000000    0.000000             0.000000   \n",
       "50%       1.000000    0.000000    0.000000    0.000000             0.000000   \n",
       "75%       1.000000    0.000000    0.000000    0.000000             0.000000   \n",
       "max       1.000000    1.000000    1.000000    1.000000             1.000000   \n",
       "\n",
       "              Age         Sex         ALB         ALP         ALT         AST  \\\n",
       "count  596.000000  596.000000  596.000000  596.000000  596.000000  596.000000   \n",
       "mean    47.273490    0.607383   41.822017   66.935751   28.754454   31.993121   \n",
       "std     10.102202    0.488743    5.309456   20.511936   25.522502   23.637838   \n",
       "min     19.000000    0.000000   14.900000   11.300000    1.300000   10.600000   \n",
       "25%     39.000000    0.000000   39.000000   52.850000   16.600000   21.500000   \n",
       "50%     47.000000    1.000000   42.000000   66.300000   23.050000   25.700000   \n",
       "75%     54.000000    1.000000   45.300000   78.300000   33.100000   31.925000   \n",
       "max     77.000000    1.000000   62.900000  208.200000  325.300000  188.700000   \n",
       "\n",
       "              BIL         CHE        CHOL        CREA         GGT        PROT  \\\n",
       "count  596.000000  596.000000  596.000000  596.000000  596.000000  596.000000   \n",
       "mean     9.382383    8.324094    5.399523   77.946477   34.234564   72.198658   \n",
       "std      7.818905    2.078226    1.107767   15.459053   34.303697    5.283295   \n",
       "min      0.800000    1.540000    2.400000    8.000000    4.500000   44.800000   \n",
       "25%      5.200000    7.010000    4.640000   67.000000   15.600000   69.600000   \n",
       "50%      7.100000    8.325000    5.315000   76.450000   22.900000   72.300000   \n",
       "75%     10.925000    9.632500    6.060000   88.000000   37.075000   75.400000   \n",
       "max     91.000000   16.410000    9.670000  158.200000  295.600000   90.000000   \n",
       "\n",
       "         category  \n",
       "count  596.000000  \n",
       "mean     0.246644  \n",
       "std      0.774318  \n",
       "min      0.000000  \n",
       "25%      0.000000  \n",
       "50%      0.000000  \n",
       "75%      0.000000  \n",
       "max      4.000000  "
      ]
     },
     "execution_count": 23,
     "metadata": {},
     "output_type": "execute_result"
    }
   ],
   "source": [
    "df.describe()"
   ]
  },
  {
   "cell_type": "code",
   "execution_count": 24,
   "metadata": {},
   "outputs": [],
   "source": [
    "df.to_csv(\"processed_unscaled_data\")"
   ]
  },
  {
   "cell_type": "markdown",
   "metadata": {},
   "source": [
    "## Data scaling"
   ]
  },
  {
   "cell_type": "code",
   "execution_count": 25,
   "metadata": {},
   "outputs": [
    {
     "data": {
      "text/html": [
       "<div>\n",
       "<style scoped>\n",
       "    .dataframe tbody tr th:only-of-type {\n",
       "        vertical-align: middle;\n",
       "    }\n",
       "\n",
       "    .dataframe tbody tr th {\n",
       "        vertical-align: top;\n",
       "    }\n",
       "\n",
       "    .dataframe thead th {\n",
       "        text-align: right;\n",
       "    }\n",
       "</style>\n",
       "<table border=\"1\" class=\"dataframe\">\n",
       "  <thead>\n",
       "    <tr style=\"text-align: right;\">\n",
       "      <th></th>\n",
       "      <th>Blood Donor</th>\n",
       "      <th>Cirrhosis</th>\n",
       "      <th>Fibrosis</th>\n",
       "      <th>Hepatitis</th>\n",
       "      <th>Suspect Blood Donor</th>\n",
       "      <th>Age</th>\n",
       "      <th>Sex</th>\n",
       "      <th>ALB</th>\n",
       "      <th>ALP</th>\n",
       "      <th>ALT</th>\n",
       "      <th>AST</th>\n",
       "      <th>BIL</th>\n",
       "      <th>CHE</th>\n",
       "      <th>CHOL</th>\n",
       "      <th>CREA</th>\n",
       "      <th>GGT</th>\n",
       "      <th>PROT</th>\n",
       "      <th>category</th>\n",
       "    </tr>\n",
       "  </thead>\n",
       "  <tbody>\n",
       "    <tr>\n",
       "      <th>count</th>\n",
       "      <td>596.000000</td>\n",
       "      <td>596.000000</td>\n",
       "      <td>596.000000</td>\n",
       "      <td>596.000000</td>\n",
       "      <td>596.000000</td>\n",
       "      <td>596.000000</td>\n",
       "      <td>596.000000</td>\n",
       "      <td>585.000000</td>\n",
       "      <td>585.000000</td>\n",
       "      <td>585.000000</td>\n",
       "      <td>585.000000</td>\n",
       "      <td>585.000000</td>\n",
       "      <td>585.000000</td>\n",
       "      <td>585.000000</td>\n",
       "      <td>585.000000</td>\n",
       "      <td>585.000000</td>\n",
       "      <td>585.000000</td>\n",
       "      <td>596.000000</td>\n",
       "    </tr>\n",
       "    <tr>\n",
       "      <th>mean</th>\n",
       "      <td>0.892617</td>\n",
       "      <td>0.025168</td>\n",
       "      <td>0.035235</td>\n",
       "      <td>0.036913</td>\n",
       "      <td>0.010067</td>\n",
       "      <td>47.273490</td>\n",
       "      <td>0.607383</td>\n",
       "      <td>0.666591</td>\n",
       "      <td>0.322039</td>\n",
       "      <td>0.088802</td>\n",
       "      <td>0.164565</td>\n",
       "      <td>0.100612</td>\n",
       "      <td>0.509983</td>\n",
       "      <td>0.560510</td>\n",
       "      <td>0.492583</td>\n",
       "      <td>0.112336</td>\n",
       "      <td>0.801897</td>\n",
       "      <td>0.246644</td>\n",
       "    </tr>\n",
       "    <tr>\n",
       "      <th>std</th>\n",
       "      <td>0.309859</td>\n",
       "      <td>0.156766</td>\n",
       "      <td>0.184528</td>\n",
       "      <td>0.188706</td>\n",
       "      <td>0.099913</td>\n",
       "      <td>10.102202</td>\n",
       "      <td>0.488743</td>\n",
       "      <td>0.082857</td>\n",
       "      <td>0.097297</td>\n",
       "      <td>0.078305</td>\n",
       "      <td>0.114934</td>\n",
       "      <td>0.080498</td>\n",
       "      <td>0.124307</td>\n",
       "      <td>0.114034</td>\n",
       "      <td>0.095128</td>\n",
       "      <td>0.108863</td>\n",
       "      <td>0.056721</td>\n",
       "      <td>0.774318</td>\n",
       "    </tr>\n",
       "    <tr>\n",
       "      <th>min</th>\n",
       "      <td>0.000000</td>\n",
       "      <td>0.000000</td>\n",
       "      <td>0.000000</td>\n",
       "      <td>0.000000</td>\n",
       "      <td>0.000000</td>\n",
       "      <td>19.000000</td>\n",
       "      <td>0.000000</td>\n",
       "      <td>0.236884</td>\n",
       "      <td>0.054275</td>\n",
       "      <td>0.006456</td>\n",
       "      <td>0.063593</td>\n",
       "      <td>0.008791</td>\n",
       "      <td>0.093845</td>\n",
       "      <td>0.248190</td>\n",
       "      <td>0.050569</td>\n",
       "      <td>0.015223</td>\n",
       "      <td>0.522222</td>\n",
       "      <td>0.000000</td>\n",
       "    </tr>\n",
       "    <tr>\n",
       "      <th>25%</th>\n",
       "      <td>1.000000</td>\n",
       "      <td>0.000000</td>\n",
       "      <td>0.000000</td>\n",
       "      <td>0.000000</td>\n",
       "      <td>0.000000</td>\n",
       "      <td>39.000000</td>\n",
       "      <td>0.000000</td>\n",
       "      <td>0.621622</td>\n",
       "      <td>0.254563</td>\n",
       "      <td>0.051952</td>\n",
       "      <td>0.113408</td>\n",
       "      <td>0.057143</td>\n",
       "      <td>0.430225</td>\n",
       "      <td>0.480869</td>\n",
       "      <td>0.429836</td>\n",
       "      <td>0.052097</td>\n",
       "      <td>0.773333</td>\n",
       "      <td>0.000000</td>\n",
       "    </tr>\n",
       "    <tr>\n",
       "      <th>50%</th>\n",
       "      <td>1.000000</td>\n",
       "      <td>0.000000</td>\n",
       "      <td>0.000000</td>\n",
       "      <td>0.000000</td>\n",
       "      <td>0.000000</td>\n",
       "      <td>47.000000</td>\n",
       "      <td>1.000000</td>\n",
       "      <td>0.669316</td>\n",
       "      <td>0.318924</td>\n",
       "      <td>0.071011</td>\n",
       "      <td>0.135665</td>\n",
       "      <td>0.078022</td>\n",
       "      <td>0.510055</td>\n",
       "      <td>0.553257</td>\n",
       "      <td>0.486726</td>\n",
       "      <td>0.076793</td>\n",
       "      <td>0.803333</td>\n",
       "      <td>0.000000</td>\n",
       "    </tr>\n",
       "    <tr>\n",
       "      <th>75%</th>\n",
       "      <td>1.000000</td>\n",
       "      <td>0.000000</td>\n",
       "      <td>0.000000</td>\n",
       "      <td>0.000000</td>\n",
       "      <td>0.000000</td>\n",
       "      <td>54.000000</td>\n",
       "      <td>1.000000</td>\n",
       "      <td>0.720191</td>\n",
       "      <td>0.377522</td>\n",
       "      <td>0.101752</td>\n",
       "      <td>0.167992</td>\n",
       "      <td>0.118681</td>\n",
       "      <td>0.588056</td>\n",
       "      <td>0.628749</td>\n",
       "      <td>0.556258</td>\n",
       "      <td>0.122124</td>\n",
       "      <td>0.837778</td>\n",
       "      <td>0.000000</td>\n",
       "    </tr>\n",
       "    <tr>\n",
       "      <th>max</th>\n",
       "      <td>1.000000</td>\n",
       "      <td>1.000000</td>\n",
       "      <td>1.000000</td>\n",
       "      <td>1.000000</td>\n",
       "      <td>1.000000</td>\n",
       "      <td>77.000000</td>\n",
       "      <td>1.000000</td>\n",
       "      <td>1.000000</td>\n",
       "      <td>1.000000</td>\n",
       "      <td>1.000000</td>\n",
       "      <td>1.000000</td>\n",
       "      <td>1.000000</td>\n",
       "      <td>1.000000</td>\n",
       "      <td>1.000000</td>\n",
       "      <td>0.802781</td>\n",
       "      <td>1.000000</td>\n",
       "      <td>1.000000</td>\n",
       "      <td>4.000000</td>\n",
       "    </tr>\n",
       "  </tbody>\n",
       "</table>\n",
       "</div>"
      ],
      "text/plain": [
       "       Blood Donor   Cirrhosis    Fibrosis   Hepatitis  Suspect Blood Donor  \\\n",
       "count   596.000000  596.000000  596.000000  596.000000           596.000000   \n",
       "mean      0.892617    0.025168    0.035235    0.036913             0.010067   \n",
       "std       0.309859    0.156766    0.184528    0.188706             0.099913   \n",
       "min       0.000000    0.000000    0.000000    0.000000             0.000000   \n",
       "25%       1.000000    0.000000    0.000000    0.000000             0.000000   \n",
       "50%       1.000000    0.000000    0.000000    0.000000             0.000000   \n",
       "75%       1.000000    0.000000    0.000000    0.000000             0.000000   \n",
       "max       1.000000    1.000000    1.000000    1.000000             1.000000   \n",
       "\n",
       "              Age         Sex         ALB         ALP         ALT         AST  \\\n",
       "count  596.000000  596.000000  585.000000  585.000000  585.000000  585.000000   \n",
       "mean    47.273490    0.607383    0.666591    0.322039    0.088802    0.164565   \n",
       "std     10.102202    0.488743    0.082857    0.097297    0.078305    0.114934   \n",
       "min     19.000000    0.000000    0.236884    0.054275    0.006456    0.063593   \n",
       "25%     39.000000    0.000000    0.621622    0.254563    0.051952    0.113408   \n",
       "50%     47.000000    1.000000    0.669316    0.318924    0.071011    0.135665   \n",
       "75%     54.000000    1.000000    0.720191    0.377522    0.101752    0.167992   \n",
       "max     77.000000    1.000000    1.000000    1.000000    1.000000    1.000000   \n",
       "\n",
       "              BIL         CHE        CHOL        CREA         GGT        PROT  \\\n",
       "count  585.000000  585.000000  585.000000  585.000000  585.000000  585.000000   \n",
       "mean     0.100612    0.509983    0.560510    0.492583    0.112336    0.801897   \n",
       "std      0.080498    0.124307    0.114034    0.095128    0.108863    0.056721   \n",
       "min      0.008791    0.093845    0.248190    0.050569    0.015223    0.522222   \n",
       "25%      0.057143    0.430225    0.480869    0.429836    0.052097    0.773333   \n",
       "50%      0.078022    0.510055    0.553257    0.486726    0.076793    0.803333   \n",
       "75%      0.118681    0.588056    0.628749    0.556258    0.122124    0.837778   \n",
       "max      1.000000    1.000000    1.000000    0.802781    1.000000    1.000000   \n",
       "\n",
       "         category  \n",
       "count  596.000000  \n",
       "mean     0.246644  \n",
       "std      0.774318  \n",
       "min      0.000000  \n",
       "25%      0.000000  \n",
       "50%      0.000000  \n",
       "75%      0.000000  \n",
       "max      4.000000  "
      ]
     },
     "execution_count": 25,
     "metadata": {},
     "output_type": "execute_result"
    }
   ],
   "source": [
    "from sklearn import preprocessing\n",
    "\n",
    "cols_to_scale = ['ALB', 'ALP', 'ALT', 'AST','BIL', 'CHE', 'CHOL', 'CREA', 'GGT', 'PROT']\n",
    "\n",
    "scaler = preprocessing.MaxAbsScaler()\n",
    "# scaler = preprocessing.MinMaxScaler()\n",
    "# scaler = preprocessing.StandardScaler()\n",
    "\n",
    "def scaleColumns(df, cols_to_scale):\n",
    "    for col in cols_to_scale:\n",
    "        df[col] = pd.DataFrame(scaler.fit_transform(pd.DataFrame(df[col])),columns=[col])\n",
    "    return df\n",
    "\n",
    "df = scaleColumns(df, cols_to_scale)\n",
    "\n",
    "df.describe()"
   ]
  },
  {
   "cell_type": "markdown",
   "metadata": {},
   "source": [
    "## Data visualisation"
   ]
  },
  {
   "cell_type": "code",
   "execution_count": 26,
   "metadata": {},
   "outputs": [
    {
     "data": {
      "image/png": "[encoded data removed]",
      "text/plain": [
       "<Figure size 360x360 with 1 Axes>"
      ]
     },
     "metadata": {},
     "output_type": "display_data"
    }
   ],
   "source": [
    "df_cat = df.groupby('category').count()\n",
    "\n",
    "# find the percentages in the pie plot\n",
    "import matplotlib.pyplot as plt\n",
    "\n",
    "labels = ['Blood Donor', 'Cirrhosis', 'Fibrosis', 'Hepatitis', 'Suspect Blood Donor']\n",
    "\n",
    "df_cat['Blood Donor'].plot(kind='pie', labels=labels, subplots=True, figsize=(5, 5), autopct='%.2f')\n",
    "\n",
    "\n",
    "\n",
    "plt.title('Blood Donor vs Different Liver conditions')\n",
    "plt.axis('equal')\n",
    "plt.show()"
   ]
  },
  {
   "cell_type": "code",
   "execution_count": 27,
   "metadata": {},
   "outputs": [
    {
     "name": "stdout",
     "output_type": "stream",
     "text": [
      "AxesSubplot(0.125,0.125;0.775x0.755)\n"
     ]
    },
    {
     "data": {
      "image/png": "[encoded data removed]",
      "text/plain": [
       "<Figure size 432x288 with 1 Axes>"
      ]
     },
     "metadata": {
      "needs_background": "light"
     },
     "output_type": "display_data"
    }
   ],
   "source": [
    "import matplotlib.pyplot as plt\n",
    "\n",
    "print(df.ALB.hist())"
   ]
  },
  {
   "cell_type": "code",
   "execution_count": 28,
   "metadata": {},
   "outputs": [
    {
     "data": {
      "image/png": "[encoded data removed]",
      "text/plain": [
       "<Figure size 432x432 with 1 Axes>"
      ]
     },
     "metadata": {
      "needs_background": "light"
     },
     "output_type": "display_data"
    }
   ],
   "source": [
    "import matplotlib.pyplot as plt\n",
    "\n",
    "fig, ax = plt.subplots(figsize=(6,6))\n",
    "\n",
    "ax.scatter(df['Age'], df['CHOL'])\n",
    "ax.set_xlabel('Age')\n",
    "ax.set_ylabel('Cholestrol levels')\n",
    "plt.show()"
   ]
  },
  {
   "cell_type": "code",
   "execution_count": 29,
   "metadata": {},
   "outputs": [
    {
     "data": {
      "image/png": "[encoded data removed]",
      "text/plain": [
       "<Figure size 432x432 with 1 Axes>"
      ]
     },
     "metadata": {
      "needs_background": "light"
     },
     "output_type": "display_data"
    }
   ],
   "source": [
    "import matplotlib.pyplot as plt\n",
    "\n",
    "fig, ax = plt.subplots(figsize=(6,6))\n",
    "\n",
    "ax.scatter(df['Age'], df['CREA'])\n",
    "ax.set_xlabel('Age')\n",
    "ax.set_ylabel('Creatine levels')\n",
    "plt.show()"
   ]
  },
  {
   "cell_type": "code",
   "execution_count": 30,
   "metadata": {},
   "outputs": [
    {
     "data": {
      "image/png": "[encoded data removed]",
      "text/plain": [
       "<Figure size 648x432 with 2 Axes>"
      ]
     },
     "metadata": {},
     "output_type": "display_data"
    }
   ],
   "source": [
    "import seaborn as sns\n",
    "import matplotlib.pyplot as plt\n",
    "\n",
    "# Heatmap to Invertigate Correlation in Data\n",
    "sns.set()\n",
    "fig, ax = plt.subplots(figsize=(9, 6))\n",
    "sns.heatmap(df.corr(), linewidths=.5, ax=ax, cmap='Blues')\n",
    "plt.show()"
   ]
  },
  {
   "cell_type": "code",
   "execution_count": 31,
   "metadata": {},
   "outputs": [
    {
     "data": {
      "image/png": "[encoded data removed]",
      "text/plain": [
       "<Figure size 720x360 with 2 Axes>"
      ]
     },
     "metadata": {},
     "output_type": "display_data"
    }
   ],
   "source": [
    "# Countplot for Binary Features\n",
    "sns.set_style('white') \n",
    "fig, ax = plt.subplots(1,2,figsize=(10,5))\n",
    "\n",
    "sns.countplot(df['Sex'], palette='Pastel2', ax=ax[0])\n",
    "sns.countplot(df['category'], palette='Pastel2', ax=ax[1])\n",
    "\n",
    "plt.show()"
   ]
  },
  {
   "cell_type": "markdown",
   "metadata": {},
   "source": [
    "## Part : 2"
   ]
  },
  {
   "cell_type": "markdown",
   "metadata": {},
   "source": [
    "The data set has been preprocessed and saved as csv file for convinience. This processed data set can be found at below url."
   ]
  },
  {
   "cell_type": "markdown",
   "metadata": {},
   "source": [
    "Processed data set URL : https://raw.githubusercontent.com/toshihiroryuu/Machine_learning/master/ML_004_Hepatitis/processed_unscaled_data.csv"
   ]
  },
  {
   "cell_type": "markdown",
   "metadata": {},
   "source": [
    "### Visualisation using Power Bi and  Tableau"
   ]
  },
  {
   "cell_type": "markdown",
   "metadata": {},
   "source": [
    "Power Bi : https://app.powerbi.com/groups/me/reports/a77111c3-b9cb-4d53-a7c4-72a64d21fbea/ReportSectionb6f4bcc3ec64ad39500a?bookmarkGuid=567c6dd7-d4be-43b5-b458-4e4238535ad4"
   ]
  },
  {
   "cell_type": "markdown",
   "metadata": {},
   "source": [
    "Tableau Online : https://public.tableau.com/views/Liver-Faliure/Summary?:language=en&:display_count=y&:origin=viz_share_link"
   ]
  },
  {
   "cell_type": "markdown",
   "metadata": {},
   "source": [
    "Above Tableau DashBoard embedded on Website : http://www.athulmathew.com/liverfaliure.html"
   ]
  },
  {
   "cell_type": "markdown",
   "metadata": {},
   "source": [
    "We can see that the distribution of ALP(Alkaline phosphatase) is different for people with fibrosis compared to rest of the population from the Tableau Dashboard. So lets inspect this behaviour."
   ]
  },
  {
   "cell_type": "markdown",
   "metadata": {},
   "source": [
    "### Hypothesis testing"
   ]
  },
  {
   "cell_type": "code",
   "execution_count": 32,
   "metadata": {},
   "outputs": [],
   "source": [
    "import pandas as pd\n",
    "\n",
    "# Read csv file\n",
    "df = pd.read_csv('https://raw.githubusercontent.com/toshihiroryuu/Machine_learning/master/ML_004_Hepatitis/processed_unscaled_data.csv')"
   ]
  },
  {
   "cell_type": "code",
   "execution_count": 33,
   "metadata": {},
   "outputs": [
    {
     "data": {
      "text/html": [
       "<div>\n",
       "<style scoped>\n",
       "    .dataframe tbody tr th:only-of-type {\n",
       "        vertical-align: middle;\n",
       "    }\n",
       "\n",
       "    .dataframe tbody tr th {\n",
       "        vertical-align: top;\n",
       "    }\n",
       "\n",
       "    .dataframe thead th {\n",
       "        text-align: right;\n",
       "    }\n",
       "</style>\n",
       "<table border=\"1\" class=\"dataframe\">\n",
       "  <thead>\n",
       "    <tr style=\"text-align: right;\">\n",
       "      <th></th>\n",
       "      <th>Fibrosis</th>\n",
       "      <th>ALP</th>\n",
       "    </tr>\n",
       "  </thead>\n",
       "  <tbody>\n",
       "    <tr>\n",
       "      <th>0</th>\n",
       "      <td>0</td>\n",
       "      <td>52.5</td>\n",
       "    </tr>\n",
       "    <tr>\n",
       "      <th>1</th>\n",
       "      <td>0</td>\n",
       "      <td>70.3</td>\n",
       "    </tr>\n",
       "    <tr>\n",
       "      <th>2</th>\n",
       "      <td>0</td>\n",
       "      <td>74.7</td>\n",
       "    </tr>\n",
       "    <tr>\n",
       "      <th>3</th>\n",
       "      <td>0</td>\n",
       "      <td>52.0</td>\n",
       "    </tr>\n",
       "    <tr>\n",
       "      <th>4</th>\n",
       "      <td>0</td>\n",
       "      <td>74.1</td>\n",
       "    </tr>\n",
       "  </tbody>\n",
       "</table>\n",
       "</div>"
      ],
      "text/plain": [
       "   Fibrosis   ALP\n",
       "0         0  52.5\n",
       "1         0  70.3\n",
       "2         0  74.7\n",
       "3         0  52.0\n",
       "4         0  74.1"
      ]
     },
     "execution_count": 33,
     "metadata": {},
     "output_type": "execute_result"
    }
   ],
   "source": [
    "fibrosis_and_alp = df[['Fibrosis','ALP']]\n",
    "fibrosis_and_alp.head(5)"
   ]
  },
  {
   "cell_type": "code",
   "execution_count": 34,
   "metadata": {},
   "outputs": [
    {
     "data": {
      "text/plain": [
       "576    22.900000\n",
       "577    66.935751\n",
       "578    66.935751\n",
       "579    66.935751\n",
       "580    66.935751\n",
       "Name: ALP, dtype: float64"
      ]
     },
     "execution_count": 34,
     "metadata": {},
     "output_type": "execute_result"
    }
   ],
   "source": [
    "#ALP levels of patients with Fibrosis.\n",
    "fibrosis = fibrosis_and_alp['ALP'] [fibrosis_and_alp['Fibrosis'] == True]\n",
    "fibrosis.tail(5)"
   ]
  },
  {
   "cell_type": "code",
   "execution_count": 35,
   "metadata": {},
   "outputs": [
    {
     "data": {
      "text/plain": [
       "0    52.5\n",
       "1    70.3\n",
       "2    74.7\n",
       "3    52.0\n",
       "4    74.1\n",
       "Name: ALP, dtype: float64"
      ]
     },
     "execution_count": 35,
     "metadata": {},
     "output_type": "execute_result"
    }
   ],
   "source": [
    "#ALP levels of people without Fibrosis.\n",
    "non_fibrosis = fibrosis_and_alp['ALP'] [fibrosis_and_alp['Fibrosis'] == False]\n",
    "non_fibrosis.head()"
   ]
  },
  {
   "cell_type": "code",
   "execution_count": 36,
   "metadata": {},
   "outputs": [
    {
     "data": {
      "text/plain": [
       "Text(0, 0.5, 'ALP Levels')"
      ]
     },
     "execution_count": 36,
     "metadata": {},
     "output_type": "execute_result"
    },
    {
     "data": {
      "image/png": "[encoded data removed]",
      "text/plain": [
       "<Figure size 432x288 with 2 Axes>"
      ]
     },
     "metadata": {},
     "output_type": "display_data"
    }
   ],
   "source": [
    "import matplotlib.pyplot as plt\n",
    "\n",
    "# Distibution of ALP for people with and without Fibrosis.\n",
    "fibrosis_and_alp.hist(by ='Fibrosis')\n",
    "plt.ylabel('ALP Levels',fontsize=10)"
   ]
  },
  {
   "cell_type": "markdown",
   "metadata": {},
   "source": [
    "ALP levels for people with fibrosis tend to be in between 20 and 60. The ALP levels of rest lies between 20 and 150.\n",
    "This difference in ALP distribution could be due to chance. Lets find out. "
   ]
  },
  {
   "cell_type": "raw",
   "metadata": {},
   "source": [
    "Hypothesis : \n",
    "\n",
    "    Null Hypothesis : In Population, Distribution of ALP levels for patients with fibrosis is same as people without fibrosis.\n",
    "                      The difference is due to chance.\n",
    "    Alternate Hypothesis : In population, Distribution of ALP levels for patients with fibrosis are different as people without                            fibrosis."
   ]
  },
  {
   "cell_type": "raw",
   "metadata": {},
   "source": [
    "Test Statistic:\n",
    "\n",
    "    We calculate the difference between mean ALP levels between fibrosis patients and others.\n",
    "    Larger this difference, more it indicates that the alternate hypothesis to be true."
   ]
  },
  {
   "cell_type": "code",
   "execution_count": 37,
   "metadata": {},
   "outputs": [
    {
     "data": {
      "text/html": [
       "<div>\n",
       "<style scoped>\n",
       "    .dataframe tbody tr th:only-of-type {\n",
       "        vertical-align: middle;\n",
       "    }\n",
       "\n",
       "    .dataframe tbody tr th {\n",
       "        vertical-align: top;\n",
       "    }\n",
       "\n",
       "    .dataframe thead th {\n",
       "        text-align: right;\n",
       "    }\n",
       "</style>\n",
       "<table border=\"1\" class=\"dataframe\">\n",
       "  <thead>\n",
       "    <tr style=\"text-align: right;\">\n",
       "      <th></th>\n",
       "      <th>ALP</th>\n",
       "    </tr>\n",
       "    <tr>\n",
       "      <th>Fibrosis</th>\n",
       "      <th></th>\n",
       "    </tr>\n",
       "  </thead>\n",
       "  <tbody>\n",
       "    <tr>\n",
       "      <th>0</th>\n",
       "      <td>67.542932</td>\n",
       "    </tr>\n",
       "    <tr>\n",
       "      <th>1</th>\n",
       "      <td>50.310560</td>\n",
       "    </tr>\n",
       "  </tbody>\n",
       "</table>\n",
       "</div>"
      ],
      "text/plain": [
       "                ALP\n",
       "Fibrosis           \n",
       "0         67.542932\n",
       "1         50.310560"
      ]
     },
     "execution_count": 37,
     "metadata": {},
     "output_type": "execute_result"
    }
   ],
   "source": [
    "means_df = fibrosis_and_alp.groupby('Fibrosis').mean()\n",
    "means_df"
   ]
  },
  {
   "cell_type": "code",
   "execution_count": 38,
   "metadata": {},
   "outputs": [
    {
     "data": {
      "text/plain": [
       "-17.23237211298128"
      ]
     },
     "execution_count": 38,
     "metadata": {},
     "output_type": "execute_result"
    }
   ],
   "source": [
    "observed_difference = means_df['ALP'][1] - means_df['ALP'][0]\n",
    "observed_difference"
   ]
  },
  {
   "cell_type": "markdown",
   "metadata": {},
   "source": [
    "The observed value of the test statistic is -17.23 . Which favours Alternate Hypothesis."
   ]
  },
  {
   "cell_type": "markdown",
   "metadata": {},
   "source": [
    "#### ONE SIMULATION"
   ]
  },
  {
   "cell_type": "code",
   "execution_count": 39,
   "metadata": {},
   "outputs": [
    {
     "data": {
      "text/plain": [
       "-2.565883607419096"
      ]
     },
     "execution_count": 39,
     "metadata": {},
     "output_type": "execute_result"
    }
   ],
   "source": [
    "fibrosis_and_alp = df[['Fibrosis', 'ALP']]\n",
    "shuffled = fibrosis_and_alp.sample(596,replace = False)\n",
    "shuffled_weights = shuffled['ALP']\n",
    "original_and_shuffled = fibrosis_and_alp.assign(shuffled_weights=shuffled_weights.values )\n",
    "all_group_means= original_and_shuffled.groupby('Fibrosis').mean()\n",
    "difference = all_group_means['shuffled_weights'][0]- all_group_means['shuffled_weights'][1]\n",
    "difference"
   ]
  },
  {
   "cell_type": "markdown",
   "metadata": {},
   "source": [
    "#### PERMUTATION TEST"
   ]
  },
  {
   "cell_type": "code",
   "execution_count": 40,
   "metadata": {},
   "outputs": [],
   "source": [
    "import numpy as np\n",
    "import array\n",
    "\n",
    "differences = np.zeros(5000)\n",
    "\n",
    "for i in np.arange(5000):\n",
    "    fibrosis_and_alp = df[['Fibrosis', 'ALP']]\n",
    "    shuffled = fibrosis_and_alp.sample(596, replace = False)\n",
    "    shuffled_weights = shuffled['ALP']\n",
    "    original_and_shuffled = fibrosis_and_alp.assign(shuffled_weights = shuffled_weights.values )\n",
    "    all_group_means = original_and_shuffled.groupby('Fibrosis').mean()\n",
    "    difference = all_group_means['shuffled_weights'][0]- all_group_means['shuffled_weights'][1]\n",
    "    differences[i] = difference"
   ]
  },
  {
   "cell_type": "code",
   "execution_count": 41,
   "metadata": {},
   "outputs": [
    {
     "data": {
      "text/html": [
       "<div>\n",
       "<style scoped>\n",
       "    .dataframe tbody tr th:only-of-type {\n",
       "        vertical-align: middle;\n",
       "    }\n",
       "\n",
       "    .dataframe tbody tr th {\n",
       "        vertical-align: top;\n",
       "    }\n",
       "\n",
       "    .dataframe thead th {\n",
       "        text-align: right;\n",
       "    }\n",
       "</style>\n",
       "<table border=\"1\" class=\"dataframe\">\n",
       "  <thead>\n",
       "    <tr style=\"text-align: right;\">\n",
       "      <th></th>\n",
       "      <th>0</th>\n",
       "    </tr>\n",
       "  </thead>\n",
       "  <tbody>\n",
       "    <tr>\n",
       "      <th>0</th>\n",
       "      <td>-0.362744</td>\n",
       "    </tr>\n",
       "    <tr>\n",
       "      <th>1</th>\n",
       "      <td>-10.130728</td>\n",
       "    </tr>\n",
       "    <tr>\n",
       "      <th>2</th>\n",
       "      <td>-8.398256</td>\n",
       "    </tr>\n",
       "    <tr>\n",
       "      <th>3</th>\n",
       "      <td>1.792444</td>\n",
       "    </tr>\n",
       "    <tr>\n",
       "      <th>4</th>\n",
       "      <td>0.071608</td>\n",
       "    </tr>\n",
       "  </tbody>\n",
       "</table>\n",
       "</div>"
      ],
      "text/plain": [
       "           0\n",
       "0  -0.362744\n",
       "1 -10.130728\n",
       "2  -8.398256\n",
       "3   1.792444\n",
       "4   0.071608"
      ]
     },
     "execution_count": 41,
     "metadata": {},
     "output_type": "execute_result"
    }
   ],
   "source": [
    "differences_df = pd.DataFrame(differences)\n",
    "differences_df.head(5)"
   ]
  },
  {
   "cell_type": "code",
   "execution_count": 42,
   "metadata": {},
   "outputs": [
    {
     "name": "stdout",
     "output_type": "stream",
     "text": [
      "Observed Difference: -17.23237211298128\n"
     ]
    },
    {
     "data": {
      "image/png": "[encoded data removed]",
      "text/plain": [
       "<Figure size 432x288 with 1 Axes>"
      ]
     },
     "metadata": {},
     "output_type": "display_data"
    }
   ],
   "source": [
    "import matplotlib.pyplot as plt\n",
    "\n",
    "differences_df.hist(bins = np.arange(-5, 5, 0.5))\n",
    "plt.title('Prediction Under Null Hypotheses');\n",
    "plt.xlabel('Differences between Group Averages', fontsize = 15)\n",
    "plt.ylabel('Units', fontsize = 15);\n",
    "print('Observed Difference:', observed_difference)"
   ]
  },
  {
   "cell_type": "raw",
   "metadata": {},
   "source": [
    "The observed difference in the original sample is -17.23 units, which doesnt appear on the x - axis of the histogram.\n",
    "Therefore, the data supports alternate hypothesis more than the Null hypothesis.\n",
    "\n",
    "Conclusion :\n",
    "    In population, Distribution of ALP levels for patients with fibrosis are different compared to people without                    fibrosis. Its not because of pure chance."
   ]
  },
  {
   "cell_type": "code",
   "execution_count": 43,
   "metadata": {},
   "outputs": [
    {
     "data": {
      "text/plain": [
       "0.0002"
      ]
     },
     "execution_count": 43,
     "metadata": {},
     "output_type": "execute_result"
    }
   ],
   "source": [
    "# Empirical P-Value\n",
    "np.count_nonzero(differences <= observed_difference)/differences.size"
   ]
  },
  {
   "cell_type": "markdown",
   "metadata": {},
   "source": [
    "The empirical P-value is approximately  0, \n",
    "meaning that none of the 5,000 observed samples resulted in a difference of -17.23 units or lower. \n",
    "That is, the exact chance of getting a difference in that range is not 0 but it is vanishingly small."
   ]
  },
  {
   "cell_type": "markdown",
   "metadata": {},
   "source": [
    "### Student T-test"
   ]
  },
  {
   "cell_type": "raw",
   "metadata": {},
   "source": [
    "Null Hypothesis : Age distribution is same in the dataset.\n",
    "Alternate Hypothesis : Age distribution in the dataset is the different."
   ]
  },
  {
   "cell_type": "code",
   "execution_count": 44,
   "metadata": {},
   "outputs": [
    {
     "data": {
      "text/plain": [
       "596"
      ]
     },
     "execution_count": 44,
     "metadata": {},
     "output_type": "execute_result"
    }
   ],
   "source": [
    "ages = df['Age']\n",
    "len(ages)"
   ]
  },
  {
   "cell_type": "code",
   "execution_count": 45,
   "metadata": {},
   "outputs": [
    {
     "name": "stdout",
     "output_type": "stream",
     "text": [
      "Mean Age of Sample is : 47.27348993288591\n"
     ]
    }
   ],
   "source": [
    "import statistics\n",
    "\n",
    "print(\"Mean Age of Sample is :\", statistics.mean(ages)) "
   ]
  },
  {
   "cell_type": "code",
   "execution_count": 46,
   "metadata": {},
   "outputs": [
    {
     "data": {
      "text/plain": [
       "array([54, 50, 39, 50, 45, 38, 45, 60, 48, 59], dtype=int64)"
      ]
     },
     "execution_count": 46,
     "metadata": {},
     "output_type": "execute_result"
    }
   ],
   "source": [
    "import numpy as np\n",
    "\n",
    "sample_size = 10\n",
    "age_sample = np.random.choice(ages, sample_size)\n",
    "age_sample"
   ]
  },
  {
   "cell_type": "code",
   "execution_count": 47,
   "metadata": {},
   "outputs": [
    {
     "data": {
      "text/plain": [
       "0.5340251503249411"
      ]
     },
     "execution_count": 47,
     "metadata": {},
     "output_type": "execute_result"
    }
   ],
   "source": [
    "from scipy.stats import ttest_1samp\n",
    "\n",
    "ttest, p_value = ttest_1samp(age_sample, statistics.mean(ages))\n",
    "p_value"
   ]
  },
  {
   "cell_type": "code",
   "execution_count": 48,
   "metadata": {},
   "outputs": [
    {
     "name": "stdout",
     "output_type": "stream",
     "text": [
      "Accepting Null hypothesis\n"
     ]
    }
   ],
   "source": [
    "if p_value < 0.05:    # Alpha value is 0.05 or 5%\n",
    "    print(\" Rejecting Null hypothesis\")\n",
    "else:\n",
    "    print(\"Accepting Null hypothesis\")"
   ]
  },
  {
   "cell_type": "markdown",
   "metadata": {},
   "source": [
    "### Classification Models"
   ]
  },
  {
   "cell_type": "markdown",
   "metadata": {},
   "source": [
    "#### 1. Naive Bayes - Classification (Model1 - Manual)"
   ]
  },
  {
   "cell_type": "code",
   "execution_count": 49,
   "metadata": {},
   "outputs": [
    {
     "data": {
      "text/html": [
       "<div>\n",
       "<style scoped>\n",
       "    .dataframe tbody tr th:only-of-type {\n",
       "        vertical-align: middle;\n",
       "    }\n",
       "\n",
       "    .dataframe tbody tr th {\n",
       "        vertical-align: top;\n",
       "    }\n",
       "\n",
       "    .dataframe thead th {\n",
       "        text-align: right;\n",
       "    }\n",
       "</style>\n",
       "<table border=\"1\" class=\"dataframe\">\n",
       "  <thead>\n",
       "    <tr style=\"text-align: right;\">\n",
       "      <th></th>\n",
       "      <th>Age</th>\n",
       "      <th>Sex</th>\n",
       "      <th>ALB</th>\n",
       "      <th>ALP</th>\n",
       "      <th>ALT</th>\n",
       "      <th>AST</th>\n",
       "      <th>BIL</th>\n",
       "      <th>CHE</th>\n",
       "      <th>CHOL</th>\n",
       "      <th>CREA</th>\n",
       "      <th>GGT</th>\n",
       "      <th>PROT</th>\n",
       "    </tr>\n",
       "  </thead>\n",
       "  <tbody>\n",
       "    <tr>\n",
       "      <th>0</th>\n",
       "      <td>32</td>\n",
       "      <td>1</td>\n",
       "      <td>38.5</td>\n",
       "      <td>52.5</td>\n",
       "      <td>7.7</td>\n",
       "      <td>22.1</td>\n",
       "      <td>7.5</td>\n",
       "      <td>6.93</td>\n",
       "      <td>3.23</td>\n",
       "      <td>106.0</td>\n",
       "      <td>12.1</td>\n",
       "      <td>69.0</td>\n",
       "    </tr>\n",
       "    <tr>\n",
       "      <th>1</th>\n",
       "      <td>32</td>\n",
       "      <td>1</td>\n",
       "      <td>38.5</td>\n",
       "      <td>70.3</td>\n",
       "      <td>18.0</td>\n",
       "      <td>24.7</td>\n",
       "      <td>3.9</td>\n",
       "      <td>11.17</td>\n",
       "      <td>4.80</td>\n",
       "      <td>74.0</td>\n",
       "      <td>15.6</td>\n",
       "      <td>76.5</td>\n",
       "    </tr>\n",
       "    <tr>\n",
       "      <th>2</th>\n",
       "      <td>32</td>\n",
       "      <td>1</td>\n",
       "      <td>46.9</td>\n",
       "      <td>74.7</td>\n",
       "      <td>36.2</td>\n",
       "      <td>52.6</td>\n",
       "      <td>6.1</td>\n",
       "      <td>8.84</td>\n",
       "      <td>5.20</td>\n",
       "      <td>86.0</td>\n",
       "      <td>33.2</td>\n",
       "      <td>79.3</td>\n",
       "    </tr>\n",
       "    <tr>\n",
       "      <th>3</th>\n",
       "      <td>32</td>\n",
       "      <td>1</td>\n",
       "      <td>43.2</td>\n",
       "      <td>52.0</td>\n",
       "      <td>30.6</td>\n",
       "      <td>22.6</td>\n",
       "      <td>18.9</td>\n",
       "      <td>7.33</td>\n",
       "      <td>4.74</td>\n",
       "      <td>80.0</td>\n",
       "      <td>33.8</td>\n",
       "      <td>75.7</td>\n",
       "    </tr>\n",
       "    <tr>\n",
       "      <th>4</th>\n",
       "      <td>32</td>\n",
       "      <td>1</td>\n",
       "      <td>39.2</td>\n",
       "      <td>74.1</td>\n",
       "      <td>32.6</td>\n",
       "      <td>24.8</td>\n",
       "      <td>9.6</td>\n",
       "      <td>9.15</td>\n",
       "      <td>4.32</td>\n",
       "      <td>76.0</td>\n",
       "      <td>29.9</td>\n",
       "      <td>68.7</td>\n",
       "    </tr>\n",
       "  </tbody>\n",
       "</table>\n",
       "</div>"
      ],
      "text/plain": [
       "   Age  Sex   ALB   ALP   ALT   AST   BIL    CHE  CHOL   CREA   GGT  PROT\n",
       "0   32    1  38.5  52.5   7.7  22.1   7.5   6.93  3.23  106.0  12.1  69.0\n",
       "1   32    1  38.5  70.3  18.0  24.7   3.9  11.17  4.80   74.0  15.6  76.5\n",
       "2   32    1  46.9  74.7  36.2  52.6   6.1   8.84  5.20   86.0  33.2  79.3\n",
       "3   32    1  43.2  52.0  30.6  22.6  18.9   7.33  4.74   80.0  33.8  75.7\n",
       "4   32    1  39.2  74.1  32.6  24.8   9.6   9.15  4.32   76.0  29.9  68.7"
      ]
     },
     "execution_count": 49,
     "metadata": {},
     "output_type": "execute_result"
    }
   ],
   "source": [
    "import pandas as pd\n",
    "\n",
    "# Read csv file\n",
    "df = pd.read_csv('https://raw.githubusercontent.com/toshihiroryuu/Machine_learning/master/ML_004_Hepatitis/processed_unscaled_data.csv')\n",
    "\n",
    "Y = df['category']\n",
    "X = df[['Age', 'Sex', 'ALB', 'ALP', 'ALT', 'AST', 'BIL', 'CHE', 'CHOL', 'CREA', 'GGT', 'PROT']]\n",
    "\n",
    "X.head()"
   ]
  },
  {
   "cell_type": "code",
   "execution_count": 50,
   "metadata": {},
   "outputs": [
    {
     "name": "stdout",
     "output_type": "stream",
     "text": [
      "Shape of X_train: (476, 12)\n",
      "Shape of X_test: (120, 12)\n",
      "Shape of Y_train: (476,)\n",
      "Shape of Y_test: (120,)\n"
     ]
    }
   ],
   "source": [
    "from sklearn.model_selection import train_test_split\n",
    "\n",
    "X_train, X_test, Y_train, Y_test = train_test_split(X, Y, stratify = Y, test_size=0.2, random_state=52)\n",
    "\n",
    "print('Shape of X_train:', X_train.shape)\n",
    "print('Shape of X_test:', X_test.shape)\n",
    "print('Shape of Y_train:', Y_train.shape)\n",
    "print('Shape of Y_test:', Y_test.shape)"
   ]
  },
  {
   "cell_type": "code",
   "execution_count": 51,
   "metadata": {},
   "outputs": [
    {
     "data": {
      "text/plain": [
       "array([0, 0, 0, 0, 0, 0, 2, 1, 0, 0], dtype=int64)"
      ]
     },
     "execution_count": 51,
     "metadata": {},
     "output_type": "execute_result"
    }
   ],
   "source": [
    "from sklearn.naive_bayes import GaussianNB\n",
    "from sklearn.metrics import accuracy_score\n",
    "\n",
    "modelnb1 = GaussianNB()\n",
    "modelnb1.fit(X_train, Y_train)\n",
    "\n",
    "Y_pred = modelnb1.predict(X_test)\n",
    "Y_pred[:10]"
   ]
  },
  {
   "cell_type": "markdown",
   "metadata": {},
   "source": [
    "#### Accuracy"
   ]
  },
  {
   "cell_type": "code",
   "execution_count": 52,
   "metadata": {},
   "outputs": [
    {
     "data": {
      "text/plain": [
       "89.17"
      ]
     },
     "execution_count": 52,
     "metadata": {},
     "output_type": "execute_result"
    }
   ],
   "source": [
    "acc = round(accuracy_score(Y_test,Y_pred) * 100, 2)\n",
    "acc"
   ]
  },
  {
   "cell_type": "code",
   "execution_count": 53,
   "metadata": {},
   "outputs": [
    {
     "name": "stdout",
     "output_type": "stream",
     "text": [
      "              precision    recall  f1-score   support\n",
      "\n",
      "           0       0.98      0.93      0.95       107\n",
      "           1       0.75      1.00      0.86         3\n",
      "           2       0.22      0.50      0.31         4\n",
      "           3       0.50      0.60      0.55         5\n",
      "           4       0.00      0.00      0.00         1\n",
      "\n",
      "    accuracy                           0.89       120\n",
      "   macro avg       0.49      0.61      0.53       120\n",
      "weighted avg       0.92      0.89      0.90       120\n",
      "\n"
     ]
    },
    {
     "name": "stderr",
     "output_type": "stream",
     "text": [
      "C:\\Users\\athul\\anaconda3\\lib\\site-packages\\sklearn\\metrics\\_classification.py:1245: UndefinedMetricWarning: Precision and F-score are ill-defined and being set to 0.0 in labels with no predicted samples. Use `zero_division` parameter to control this behavior.\n",
      "  _warn_prf(average, modifier, msg_start, len(result))\n",
      "C:\\Users\\athul\\anaconda3\\lib\\site-packages\\sklearn\\metrics\\_classification.py:1245: UndefinedMetricWarning: Precision and F-score are ill-defined and being set to 0.0 in labels with no predicted samples. Use `zero_division` parameter to control this behavior.\n",
      "  _warn_prf(average, modifier, msg_start, len(result))\n",
      "C:\\Users\\athul\\anaconda3\\lib\\site-packages\\sklearn\\metrics\\_classification.py:1245: UndefinedMetricWarning: Precision and F-score are ill-defined and being set to 0.0 in labels with no predicted samples. Use `zero_division` parameter to control this behavior.\n",
      "  _warn_prf(average, modifier, msg_start, len(result))\n"
     ]
    }
   ],
   "source": [
    "from sklearn.metrics import classification_report\n",
    "\n",
    "print(classification_report(Y_test,Y_pred))"
   ]
  },
  {
   "cell_type": "markdown",
   "metadata": {},
   "source": [
    "#### Confusion Matrix"
   ]
  },
  {
   "cell_type": "code",
   "execution_count": 54,
   "metadata": {},
   "outputs": [
    {
     "data": {
      "text/plain": [
       "<matplotlib.axes._subplots.AxesSubplot at 0x2117b102fa0>"
      ]
     },
     "execution_count": 54,
     "metadata": {},
     "output_type": "execute_result"
    },
    {
     "data": {
      "image/png": "[encoded data removed]",
      "text/plain": [
       "<Figure size 432x432 with 2 Axes>"
      ]
     },
     "metadata": {},
     "output_type": "display_data"
    }
   ],
   "source": [
    "import scikitplot as skplt\n",
    "\n",
    "skplt.metrics.plot_confusion_matrix(Y_test, Y_pred, figsize=(6,6), \n",
    "                                title='Confusion Matrix: Naive Bayes',\n",
    "                                normalize=True,\n",
    "                                cmap='Blues')"
   ]
  },
  {
   "cell_type": "raw",
   "metadata": {},
   "source": [
    "# 0 - Blood donor\n",
    "# 1 - Cirrhosis\n",
    "# 2 - Fibrosis\n",
    "# 3 - Hepatits\n",
    "# 4 - Suspect Blood Donor"
   ]
  },
  {
   "cell_type": "markdown",
   "metadata": {},
   "source": [
    "#### 10 Fold cross validation"
   ]
  },
  {
   "cell_type": "code",
   "execution_count": 55,
   "metadata": {},
   "outputs": [
    {
     "name": "stdout",
     "output_type": "stream",
     "text": [
      "Train Index:  [ 60  61  62  63  64  65  66  67  68  69  70  71  72  73  74  75  76  77\n",
      "  78  79  80  81  82  83  84  85  86  87  88  89  90  91  92  93  94  95\n",
      "  96  97  98  99 100 101 102 103 104 105 106 107 108 109 110 111 112 113\n",
      " 114 115 116 117 118 119 120 121 122 123 124 125 126 127 128 129 130 131\n",
      " 132 133 134 135 136 137 138 139 140 141 142 143 144 145 146 147 148 149\n",
      " 150 151 152 153 154 155 156 157 158 159 160 161 162 163 164 165 166 167\n",
      " 168 169 170 171 172 173 174 175 176 177 178 179 180 181 182 183 184 185\n",
      " 186 187 188 189 190 191 192 193 194 195 196 197 198 199 200 201 202 203\n",
      " 204 205 206 207 208 209 210 211 212 213 214 215 216 217 218 219 220 221\n",
      " 222 223 224 225 226 227 228 229 230 231 232 233 234 235 236 237 238 239\n",
      " 240 241 242 243 244 245 246 247 248 249 250 251 252 253 254 255 256 257\n",
      " 258 259 260 261 262 263 264 265 266 267 268 269 270 271 272 273 274 275\n",
      " 276 277 278 279 280 281 282 283 284 285 286 287 288 289 290 291 292 293\n",
      " 294 295 296 297 298 299 300 301 302 303 304 305 306 307 308 309 310 311\n",
      " 312 313 314 315 316 317 318 319 320 321 322 323 324 325 326 327 328 329\n",
      " 330 331 332 333 334 335 336 337 338 339 340 341 342 343 344 345 346 347\n",
      " 348 349 350 351 352 353 354 355 356 357 358 359 360 361 362 363 364 365\n",
      " 366 367 368 369 370 371 372 373 374 375 376 377 378 379 380 381 382 383\n",
      " 384 385 386 387 388 389 390 391 392 393 394 395 396 397 398 399 400 401\n",
      " 402 403 404 405 406 407 408 409 410 411 412 413 414 415 416 417 418 419\n",
      " 420 421 422 423 424 425 426 427 428 429 430 431 432 433 434 435 436 437\n",
      " 438 439 440 441 442 443 444 445 446 447 448 449 450 451 452 453 454 455\n",
      " 456 457 458 459 460 461 462 463 464 465 466 467 468 469 470 471 472 473\n",
      " 474 475 476 477 478 479 480 481 482 483 484 485 486 487 488 489 490 491\n",
      " 492 493 494 495 496 497 498 499 500 501 502 503 504 505 506 507 508 509\n",
      " 510 511 512 513 514 515 516 517 518 519 520 521 522 523 524 525 526 527\n",
      " 528 529 530 531 532 533 534 535 536 537 538 539 540 541 542 543 544 545\n",
      " 546 547 548 549 550 551 552 553 554 555 556 557 558 559 560 561 562 563\n",
      " 564 565 566 567 568 569 570 571 572 573 574 575 576 577 578 579 580 581\n",
      " 582 583 584 585 586 587 588 589 590 591 592 593 594 595] \n",
      "\n",
      "Test Index:  [ 0  1  2  3  4  5  6  7  8  9 10 11 12 13 14 15 16 17 18 19 20 21 22 23\n",
      " 24 25 26 27 28 29 30 31 32 33 34 35 36 37 38 39 40 41 42 43 44 45 46 47\n",
      " 48 49 50 51 52 53 54 55 56 57 58 59]\n",
      "Train Index:  [  0   1   2   3   4   5   6   7   8   9  10  11  12  13  14  15  16  17\n",
      "  18  19  20  21  22  23  24  25  26  27  28  29  30  31  32  33  34  35\n",
      "  36  37  38  39  40  41  42  43  44  45  46  47  48  49  50  51  52  53\n",
      "  54  55  56  57  58  59 120 121 122 123 124 125 126 127 128 129 130 131\n",
      " 132 133 134 135 136 137 138 139 140 141 142 143 144 145 146 147 148 149\n",
      " 150 151 152 153 154 155 156 157 158 159 160 161 162 163 164 165 166 167\n",
      " 168 169 170 171 172 173 174 175 176 177 178 179 180 181 182 183 184 185\n",
      " 186 187 188 189 190 191 192 193 194 195 196 197 198 199 200 201 202 203\n",
      " 204 205 206 207 208 209 210 211 212 213 214 215 216 217 218 219 220 221\n",
      " 222 223 224 225 226 227 228 229 230 231 232 233 234 235 236 237 238 239\n",
      " 240 241 242 243 244 245 246 247 248 249 250 251 252 253 254 255 256 257\n",
      " 258 259 260 261 262 263 264 265 266 267 268 269 270 271 272 273 274 275\n",
      " 276 277 278 279 280 281 282 283 284 285 286 287 288 289 290 291 292 293\n",
      " 294 295 296 297 298 299 300 301 302 303 304 305 306 307 308 309 310 311\n",
      " 312 313 314 315 316 317 318 319 320 321 322 323 324 325 326 327 328 329\n",
      " 330 331 332 333 334 335 336 337 338 339 340 341 342 343 344 345 346 347\n",
      " 348 349 350 351 352 353 354 355 356 357 358 359 360 361 362 363 364 365\n",
      " 366 367 368 369 370 371 372 373 374 375 376 377 378 379 380 381 382 383\n",
      " 384 385 386 387 388 389 390 391 392 393 394 395 396 397 398 399 400 401\n",
      " 402 403 404 405 406 407 408 409 410 411 412 413 414 415 416 417 418 419\n",
      " 420 421 422 423 424 425 426 427 428 429 430 431 432 433 434 435 436 437\n",
      " 438 439 440 441 442 443 444 445 446 447 448 449 450 451 452 453 454 455\n",
      " 456 457 458 459 460 461 462 463 464 465 466 467 468 469 470 471 472 473\n",
      " 474 475 476 477 478 479 480 481 482 483 484 485 486 487 488 489 490 491\n",
      " 492 493 494 495 496 497 498 499 500 501 502 503 504 505 506 507 508 509\n",
      " 510 511 512 513 514 515 516 517 518 519 520 521 522 523 524 525 526 527\n",
      " 528 529 530 531 532 533 534 535 536 537 538 539 540 541 542 543 544 545\n",
      " 546 547 548 549 550 551 552 553 554 555 556 557 558 559 560 561 562 563\n",
      " 564 565 566 567 568 569 570 571 572 573 574 575 576 577 578 579 580 581\n",
      " 582 583 584 585 586 587 588 589 590 591 592 593 594 595] \n",
      "\n",
      "Test Index:  [ 60  61  62  63  64  65  66  67  68  69  70  71  72  73  74  75  76  77\n",
      "  78  79  80  81  82  83  84  85  86  87  88  89  90  91  92  93  94  95\n",
      "  96  97  98  99 100 101 102 103 104 105 106 107 108 109 110 111 112 113\n",
      " 114 115 116 117 118 119]\n",
      "Train Index:  [  0   1   2   3   4   5   6   7   8   9  10  11  12  13  14  15  16  17\n",
      "  18  19  20  21  22  23  24  25  26  27  28  29  30  31  32  33  34  35\n",
      "  36  37  38  39  40  41  42  43  44  45  46  47  48  49  50  51  52  53\n",
      "  54  55  56  57  58  59  60  61  62  63  64  65  66  67  68  69  70  71\n",
      "  72  73  74  75  76  77  78  79  80  81  82  83  84  85  86  87  88  89\n",
      "  90  91  92  93  94  95  96  97  98  99 100 101 102 103 104 105 106 107\n",
      " 108 109 110 111 112 113 114 115 116 117 118 119 180 181 182 183 184 185\n",
      " 186 187 188 189 190 191 192 193 194 195 196 197 198 199 200 201 202 203\n",
      " 204 205 206 207 208 209 210 211 212 213 214 215 216 217 218 219 220 221\n",
      " 222 223 224 225 226 227 228 229 230 231 232 233 234 235 236 237 238 239\n",
      " 240 241 242 243 244 245 246 247 248 249 250 251 252 253 254 255 256 257\n",
      " 258 259 260 261 262 263 264 265 266 267 268 269 270 271 272 273 274 275\n",
      " 276 277 278 279 280 281 282 283 284 285 286 287 288 289 290 291 292 293\n",
      " 294 295 296 297 298 299 300 301 302 303 304 305 306 307 308 309 310 311\n",
      " 312 313 314 315 316 317 318 319 320 321 322 323 324 325 326 327 328 329\n",
      " 330 331 332 333 334 335 336 337 338 339 340 341 342 343 344 345 346 347\n",
      " 348 349 350 351 352 353 354 355 356 357 358 359 360 361 362 363 364 365\n",
      " 366 367 368 369 370 371 372 373 374 375 376 377 378 379 380 381 382 383\n",
      " 384 385 386 387 388 389 390 391 392 393 394 395 396 397 398 399 400 401\n",
      " 402 403 404 405 406 407 408 409 410 411 412 413 414 415 416 417 418 419\n",
      " 420 421 422 423 424 425 426 427 428 429 430 431 432 433 434 435 436 437\n",
      " 438 439 440 441 442 443 444 445 446 447 448 449 450 451 452 453 454 455\n",
      " 456 457 458 459 460 461 462 463 464 465 466 467 468 469 470 471 472 473\n",
      " 474 475 476 477 478 479 480 481 482 483 484 485 486 487 488 489 490 491\n",
      " 492 493 494 495 496 497 498 499 500 501 502 503 504 505 506 507 508 509\n",
      " 510 511 512 513 514 515 516 517 518 519 520 521 522 523 524 525 526 527\n",
      " 528 529 530 531 532 533 534 535 536 537 538 539 540 541 542 543 544 545\n",
      " 546 547 548 549 550 551 552 553 554 555 556 557 558 559 560 561 562 563\n",
      " 564 565 566 567 568 569 570 571 572 573 574 575 576 577 578 579 580 581\n",
      " 582 583 584 585 586 587 588 589 590 591 592 593 594 595] \n",
      "\n",
      "Test Index:  [120 121 122 123 124 125 126 127 128 129 130 131 132 133 134 135 136 137\n",
      " 138 139 140 141 142 143 144 145 146 147 148 149 150 151 152 153 154 155\n",
      " 156 157 158 159 160 161 162 163 164 165 166 167 168 169 170 171 172 173\n",
      " 174 175 176 177 178 179]\n",
      "Train Index:  [  0   1   2   3   4   5   6   7   8   9  10  11  12  13  14  15  16  17\n",
      "  18  19  20  21  22  23  24  25  26  27  28  29  30  31  32  33  34  35\n",
      "  36  37  38  39  40  41  42  43  44  45  46  47  48  49  50  51  52  53\n",
      "  54  55  56  57  58  59  60  61  62  63  64  65  66  67  68  69  70  71\n",
      "  72  73  74  75  76  77  78  79  80  81  82  83  84  85  86  87  88  89\n",
      "  90  91  92  93  94  95  96  97  98  99 100 101 102 103 104 105 106 107\n",
      " 108 109 110 111 112 113 114 115 116 117 118 119 120 121 122 123 124 125\n",
      " 126 127 128 129 130 131 132 133 134 135 136 137 138 139 140 141 142 143\n",
      " 144 145 146 147 148 149 150 151 152 153 154 155 156 157 158 159 160 161\n",
      " 162 163 164 165 166 167 168 169 170 171 172 173 174 175 176 177 178 179\n",
      " 240 241 242 243 244 245 246 247 248 249 250 251 252 253 254 255 256 257\n",
      " 258 259 260 261 262 263 264 265 266 267 268 269 270 271 272 273 274 275\n",
      " 276 277 278 279 280 281 282 283 284 285 286 287 288 289 290 291 292 293\n",
      " 294 295 296 297 298 299 300 301 302 303 304 305 306 307 308 309 310 311\n",
      " 312 313 314 315 316 317 318 319 320 321 322 323 324 325 326 327 328 329\n",
      " 330 331 332 333 334 335 336 337 338 339 340 341 342 343 344 345 346 347\n",
      " 348 349 350 351 352 353 354 355 356 357 358 359 360 361 362 363 364 365\n",
      " 366 367 368 369 370 371 372 373 374 375 376 377 378 379 380 381 382 383\n",
      " 384 385 386 387 388 389 390 391 392 393 394 395 396 397 398 399 400 401\n",
      " 402 403 404 405 406 407 408 409 410 411 412 413 414 415 416 417 418 419\n",
      " 420 421 422 423 424 425 426 427 428 429 430 431 432 433 434 435 436 437\n",
      " 438 439 440 441 442 443 444 445 446 447 448 449 450 451 452 453 454 455\n",
      " 456 457 458 459 460 461 462 463 464 465 466 467 468 469 470 471 472 473\n",
      " 474 475 476 477 478 479 480 481 482 483 484 485 486 487 488 489 490 491\n",
      " 492 493 494 495 496 497 498 499 500 501 502 503 504 505 506 507 508 509\n",
      " 510 511 512 513 514 515 516 517 518 519 520 521 522 523 524 525 526 527\n",
      " 528 529 530 531 532 533 534 535 536 537 538 539 540 541 542 543 544 545\n",
      " 546 547 548 549 550 551 552 553 554 555 556 557 558 559 560 561 562 563\n",
      " 564 565 566 567 568 569 570 571 572 573 574 575 576 577 578 579 580 581\n",
      " 582 583 584 585 586 587 588 589 590 591 592 593 594 595] \n",
      "\n",
      "Test Index:  [180 181 182 183 184 185 186 187 188 189 190 191 192 193 194 195 196 197\n",
      " 198 199 200 201 202 203 204 205 206 207 208 209 210 211 212 213 214 215\n",
      " 216 217 218 219 220 221 222 223 224 225 226 227 228 229 230 231 232 233\n",
      " 234 235 236 237 238 239]\n",
      "Train Index:  [  0   1   2   3   4   5   6   7   8   9  10  11  12  13  14  15  16  17\n",
      "  18  19  20  21  22  23  24  25  26  27  28  29  30  31  32  33  34  35\n",
      "  36  37  38  39  40  41  42  43  44  45  46  47  48  49  50  51  52  53\n",
      "  54  55  56  57  58  59  60  61  62  63  64  65  66  67  68  69  70  71\n",
      "  72  73  74  75  76  77  78  79  80  81  82  83  84  85  86  87  88  89\n",
      "  90  91  92  93  94  95  96  97  98  99 100 101 102 103 104 105 106 107\n",
      " 108 109 110 111 112 113 114 115 116 117 118 119 120 121 122 123 124 125\n",
      " 126 127 128 129 130 131 132 133 134 135 136 137 138 139 140 141 142 143\n",
      " 144 145 146 147 148 149 150 151 152 153 154 155 156 157 158 159 160 161\n",
      " 162 163 164 165 166 167 168 169 170 171 172 173 174 175 176 177 178 179\n",
      " 180 181 182 183 184 185 186 187 188 189 190 191 192 193 194 195 196 197\n",
      " 198 199 200 201 202 203 204 205 206 207 208 209 210 211 212 213 214 215\n",
      " 216 217 218 219 220 221 222 223 224 225 226 227 228 229 230 231 232 233\n",
      " 234 235 236 237 238 239 300 301 302 303 304 305 306 307 308 309 310 311\n",
      " 312 313 314 315 316 317 318 319 320 321 322 323 324 325 326 327 328 329\n",
      " 330 331 332 333 334 335 336 337 338 339 340 341 342 343 344 345 346 347\n",
      " 348 349 350 351 352 353 354 355 356 357 358 359 360 361 362 363 364 365\n",
      " 366 367 368 369 370 371 372 373 374 375 376 377 378 379 380 381 382 383\n",
      " 384 385 386 387 388 389 390 391 392 393 394 395 396 397 398 399 400 401\n",
      " 402 403 404 405 406 407 408 409 410 411 412 413 414 415 416 417 418 419\n",
      " 420 421 422 423 424 425 426 427 428 429 430 431 432 433 434 435 436 437\n",
      " 438 439 440 441 442 443 444 445 446 447 448 449 450 451 452 453 454 455\n",
      " 456 457 458 459 460 461 462 463 464 465 466 467 468 469 470 471 472 473\n",
      " 474 475 476 477 478 479 480 481 482 483 484 485 486 487 488 489 490 491\n",
      " 492 493 494 495 496 497 498 499 500 501 502 503 504 505 506 507 508 509\n",
      " 510 511 512 513 514 515 516 517 518 519 520 521 522 523 524 525 526 527\n",
      " 528 529 530 531 532 533 534 535 536 537 538 539 540 541 542 543 544 545\n",
      " 546 547 548 549 550 551 552 553 554 555 556 557 558 559 560 561 562 563\n",
      " 564 565 566 567 568 569 570 571 572 573 574 575 576 577 578 579 580 581\n",
      " 582 583 584 585 586 587 588 589 590 591 592 593 594 595] \n",
      "\n",
      "Test Index:  [240 241 242 243 244 245 246 247 248 249 250 251 252 253 254 255 256 257\n",
      " 258 259 260 261 262 263 264 265 266 267 268 269 270 271 272 273 274 275\n",
      " 276 277 278 279 280 281 282 283 284 285 286 287 288 289 290 291 292 293\n",
      " 294 295 296 297 298 299]\n",
      "Train Index:  [  0   1   2   3   4   5   6   7   8   9  10  11  12  13  14  15  16  17\n",
      "  18  19  20  21  22  23  24  25  26  27  28  29  30  31  32  33  34  35\n",
      "  36  37  38  39  40  41  42  43  44  45  46  47  48  49  50  51  52  53\n",
      "  54  55  56  57  58  59  60  61  62  63  64  65  66  67  68  69  70  71\n",
      "  72  73  74  75  76  77  78  79  80  81  82  83  84  85  86  87  88  89\n",
      "  90  91  92  93  94  95  96  97  98  99 100 101 102 103 104 105 106 107\n",
      " 108 109 110 111 112 113 114 115 116 117 118 119 120 121 122 123 124 125\n",
      " 126 127 128 129 130 131 132 133 134 135 136 137 138 139 140 141 142 143\n",
      " 144 145 146 147 148 149 150 151 152 153 154 155 156 157 158 159 160 161\n",
      " 162 163 164 165 166 167 168 169 170 171 172 173 174 175 176 177 178 179\n",
      " 180 181 182 183 184 185 186 187 188 189 190 191 192 193 194 195 196 197\n",
      " 198 199 200 201 202 203 204 205 206 207 208 209 210 211 212 213 214 215\n",
      " 216 217 218 219 220 221 222 223 224 225 226 227 228 229 230 231 232 233\n",
      " 234 235 236 237 238 239 240 241 242 243 244 245 246 247 248 249 250 251\n",
      " 252 253 254 255 256 257 258 259 260 261 262 263 264 265 266 267 268 269\n",
      " 270 271 272 273 274 275 276 277 278 279 280 281 282 283 284 285 286 287\n",
      " 288 289 290 291 292 293 294 295 296 297 298 299 360 361 362 363 364 365\n",
      " 366 367 368 369 370 371 372 373 374 375 376 377 378 379 380 381 382 383\n",
      " 384 385 386 387 388 389 390 391 392 393 394 395 396 397 398 399 400 401\n",
      " 402 403 404 405 406 407 408 409 410 411 412 413 414 415 416 417 418 419\n",
      " 420 421 422 423 424 425 426 427 428 429 430 431 432 433 434 435 436 437\n",
      " 438 439 440 441 442 443 444 445 446 447 448 449 450 451 452 453 454 455\n",
      " 456 457 458 459 460 461 462 463 464 465 466 467 468 469 470 471 472 473\n",
      " 474 475 476 477 478 479 480 481 482 483 484 485 486 487 488 489 490 491\n",
      " 492 493 494 495 496 497 498 499 500 501 502 503 504 505 506 507 508 509\n",
      " 510 511 512 513 514 515 516 517 518 519 520 521 522 523 524 525 526 527\n",
      " 528 529 530 531 532 533 534 535 536 537 538 539 540 541 542 543 544 545\n",
      " 546 547 548 549 550 551 552 553 554 555 556 557 558 559 560 561 562 563\n",
      " 564 565 566 567 568 569 570 571 572 573 574 575 576 577 578 579 580 581\n",
      " 582 583 584 585 586 587 588 589 590 591 592 593 594 595] \n",
      "\n",
      "Test Index:  [300 301 302 303 304 305 306 307 308 309 310 311 312 313 314 315 316 317\n",
      " 318 319 320 321 322 323 324 325 326 327 328 329 330 331 332 333 334 335\n",
      " 336 337 338 339 340 341 342 343 344 345 346 347 348 349 350 351 352 353\n",
      " 354 355 356 357 358 359]\n",
      "Train Index:  [  0   1   2   3   4   5   6   7   8   9  10  11  12  13  14  15  16  17\n",
      "  18  19  20  21  22  23  24  25  26  27  28  29  30  31  32  33  34  35\n",
      "  36  37  38  39  40  41  42  43  44  45  46  47  48  49  50  51  52  53\n",
      "  54  55  56  57  58  59  60  61  62  63  64  65  66  67  68  69  70  71\n",
      "  72  73  74  75  76  77  78  79  80  81  82  83  84  85  86  87  88  89\n",
      "  90  91  92  93  94  95  96  97  98  99 100 101 102 103 104 105 106 107\n",
      " 108 109 110 111 112 113 114 115 116 117 118 119 120 121 122 123 124 125\n",
      " 126 127 128 129 130 131 132 133 134 135 136 137 138 139 140 141 142 143\n",
      " 144 145 146 147 148 149 150 151 152 153 154 155 156 157 158 159 160 161\n",
      " 162 163 164 165 166 167 168 169 170 171 172 173 174 175 176 177 178 179\n",
      " 180 181 182 183 184 185 186 187 188 189 190 191 192 193 194 195 196 197\n",
      " 198 199 200 201 202 203 204 205 206 207 208 209 210 211 212 213 214 215\n",
      " 216 217 218 219 220 221 222 223 224 225 226 227 228 229 230 231 232 233\n",
      " 234 235 236 237 238 239 240 241 242 243 244 245 246 247 248 249 250 251\n",
      " 252 253 254 255 256 257 258 259 260 261 262 263 264 265 266 267 268 269\n",
      " 270 271 272 273 274 275 276 277 278 279 280 281 282 283 284 285 286 287\n",
      " 288 289 290 291 292 293 294 295 296 297 298 299 300 301 302 303 304 305\n",
      " 306 307 308 309 310 311 312 313 314 315 316 317 318 319 320 321 322 323\n",
      " 324 325 326 327 328 329 330 331 332 333 334 335 336 337 338 339 340 341\n",
      " 342 343 344 345 346 347 348 349 350 351 352 353 354 355 356 357 358 359\n",
      " 419 420 421 422 423 424 425 426 427 428 429 430 431 432 433 434 435 436\n",
      " 437 438 439 440 441 442 443 444 445 446 447 448 449 450 451 452 453 454\n",
      " 455 456 457 458 459 460 461 462 463 464 465 466 467 468 469 470 471 472\n",
      " 473 474 475 476 477 478 479 480 481 482 483 484 485 486 487 488 489 490\n",
      " 491 492 493 494 495 496 497 498 499 500 501 502 503 504 505 506 507 508\n",
      " 509 510 511 512 513 514 515 516 517 518 519 520 521 522 523 524 525 526\n",
      " 527 528 529 530 531 532 533 534 535 536 537 538 539 540 541 542 543 544\n",
      " 545 546 547 548 549 550 551 552 553 554 555 556 557 558 559 560 561 562\n",
      " 563 564 565 566 567 568 569 570 571 572 573 574 575 576 577 578 579 580\n",
      " 581 582 583 584 585 586 587 588 589 590 591 592 593 594 595] \n",
      "\n",
      "Test Index:  [360 361 362 363 364 365 366 367 368 369 370 371 372 373 374 375 376 377\n",
      " 378 379 380 381 382 383 384 385 386 387 388 389 390 391 392 393 394 395\n",
      " 396 397 398 399 400 401 402 403 404 405 406 407 408 409 410 411 412 413\n",
      " 414 415 416 417 418]\n",
      "Train Index:  [  0   1   2   3   4   5   6   7   8   9  10  11  12  13  14  15  16  17\n",
      "  18  19  20  21  22  23  24  25  26  27  28  29  30  31  32  33  34  35\n",
      "  36  37  38  39  40  41  42  43  44  45  46  47  48  49  50  51  52  53\n",
      "  54  55  56  57  58  59  60  61  62  63  64  65  66  67  68  69  70  71\n",
      "  72  73  74  75  76  77  78  79  80  81  82  83  84  85  86  87  88  89\n",
      "  90  91  92  93  94  95  96  97  98  99 100 101 102 103 104 105 106 107\n",
      " 108 109 110 111 112 113 114 115 116 117 118 119 120 121 122 123 124 125\n",
      " 126 127 128 129 130 131 132 133 134 135 136 137 138 139 140 141 142 143\n",
      " 144 145 146 147 148 149 150 151 152 153 154 155 156 157 158 159 160 161\n",
      " 162 163 164 165 166 167 168 169 170 171 172 173 174 175 176 177 178 179\n",
      " 180 181 182 183 184 185 186 187 188 189 190 191 192 193 194 195 196 197\n",
      " 198 199 200 201 202 203 204 205 206 207 208 209 210 211 212 213 214 215\n",
      " 216 217 218 219 220 221 222 223 224 225 226 227 228 229 230 231 232 233\n",
      " 234 235 236 237 238 239 240 241 242 243 244 245 246 247 248 249 250 251\n",
      " 252 253 254 255 256 257 258 259 260 261 262 263 264 265 266 267 268 269\n",
      " 270 271 272 273 274 275 276 277 278 279 280 281 282 283 284 285 286 287\n",
      " 288 289 290 291 292 293 294 295 296 297 298 299 300 301 302 303 304 305\n",
      " 306 307 308 309 310 311 312 313 314 315 316 317 318 319 320 321 322 323\n",
      " 324 325 326 327 328 329 330 331 332 333 334 335 336 337 338 339 340 341\n",
      " 342 343 344 345 346 347 348 349 350 351 352 353 354 355 356 357 358 359\n",
      " 360 361 362 363 364 365 366 367 368 369 370 371 372 373 374 375 376 377\n",
      " 378 379 380 381 382 383 384 385 386 387 388 389 390 391 392 393 394 395\n",
      " 396 397 398 399 400 401 402 403 404 405 406 407 408 409 410 411 412 413\n",
      " 414 415 416 417 418 478 479 480 481 482 483 484 485 486 487 488 489 490\n",
      " 491 492 493 494 495 496 497 498 499 500 501 502 503 504 505 506 507 508\n",
      " 509 510 511 512 513 514 515 516 517 518 519 520 521 522 523 524 525 526\n",
      " 527 528 529 530 531 532 533 534 535 536 537 538 539 540 541 542 543 544\n",
      " 545 546 547 548 549 550 551 552 553 554 555 556 557 558 559 560 561 562\n",
      " 563 564 565 566 567 568 569 570 571 572 573 574 575 576 577 578 579 580\n",
      " 581 582 583 584 585 586 587 588 589 590 591 592 593 594 595] \n",
      "\n",
      "Test Index:  [419 420 421 422 423 424 425 426 427 428 429 430 431 432 433 434 435 436\n",
      " 437 438 439 440 441 442 443 444 445 446 447 448 449 450 451 452 453 454\n",
      " 455 456 457 458 459 460 461 462 463 464 465 466 467 468 469 470 471 472\n",
      " 473 474 475 476 477]\n",
      "Train Index:  [  0   1   2   3   4   5   6   7   8   9  10  11  12  13  14  15  16  17\n",
      "  18  19  20  21  22  23  24  25  26  27  28  29  30  31  32  33  34  35\n",
      "  36  37  38  39  40  41  42  43  44  45  46  47  48  49  50  51  52  53\n",
      "  54  55  56  57  58  59  60  61  62  63  64  65  66  67  68  69  70  71\n",
      "  72  73  74  75  76  77  78  79  80  81  82  83  84  85  86  87  88  89\n",
      "  90  91  92  93  94  95  96  97  98  99 100 101 102 103 104 105 106 107\n",
      " 108 109 110 111 112 113 114 115 116 117 118 119 120 121 122 123 124 125\n",
      " 126 127 128 129 130 131 132 133 134 135 136 137 138 139 140 141 142 143\n",
      " 144 145 146 147 148 149 150 151 152 153 154 155 156 157 158 159 160 161\n",
      " 162 163 164 165 166 167 168 169 170 171 172 173 174 175 176 177 178 179\n",
      " 180 181 182 183 184 185 186 187 188 189 190 191 192 193 194 195 196 197\n",
      " 198 199 200 201 202 203 204 205 206 207 208 209 210 211 212 213 214 215\n",
      " 216 217 218 219 220 221 222 223 224 225 226 227 228 229 230 231 232 233\n",
      " 234 235 236 237 238 239 240 241 242 243 244 245 246 247 248 249 250 251\n",
      " 252 253 254 255 256 257 258 259 260 261 262 263 264 265 266 267 268 269\n",
      " 270 271 272 273 274 275 276 277 278 279 280 281 282 283 284 285 286 287\n",
      " 288 289 290 291 292 293 294 295 296 297 298 299 300 301 302 303 304 305\n",
      " 306 307 308 309 310 311 312 313 314 315 316 317 318 319 320 321 322 323\n",
      " 324 325 326 327 328 329 330 331 332 333 334 335 336 337 338 339 340 341\n",
      " 342 343 344 345 346 347 348 349 350 351 352 353 354 355 356 357 358 359\n",
      " 360 361 362 363 364 365 366 367 368 369 370 371 372 373 374 375 376 377\n",
      " 378 379 380 381 382 383 384 385 386 387 388 389 390 391 392 393 394 395\n",
      " 396 397 398 399 400 401 402 403 404 405 406 407 408 409 410 411 412 413\n",
      " 414 415 416 417 418 419 420 421 422 423 424 425 426 427 428 429 430 431\n",
      " 432 433 434 435 436 437 438 439 440 441 442 443 444 445 446 447 448 449\n",
      " 450 451 452 453 454 455 456 457 458 459 460 461 462 463 464 465 466 467\n",
      " 468 469 470 471 472 473 474 475 476 477 537 538 539 540 541 542 543 544\n",
      " 545 546 547 548 549 550 551 552 553 554 555 556 557 558 559 560 561 562\n",
      " 563 564 565 566 567 568 569 570 571 572 573 574 575 576 577 578 579 580\n",
      " 581 582 583 584 585 586 587 588 589 590 591 592 593 594 595] \n",
      "\n",
      "Test Index:  [478 479 480 481 482 483 484 485 486 487 488 489 490 491 492 493 494 495\n",
      " 496 497 498 499 500 501 502 503 504 505 506 507 508 509 510 511 512 513\n",
      " 514 515 516 517 518 519 520 521 522 523 524 525 526 527 528 529 530 531\n",
      " 532 533 534 535 536]\n",
      "Train Index:  [  0   1   2   3   4   5   6   7   8   9  10  11  12  13  14  15  16  17\n",
      "  18  19  20  21  22  23  24  25  26  27  28  29  30  31  32  33  34  35\n",
      "  36  37  38  39  40  41  42  43  44  45  46  47  48  49  50  51  52  53\n",
      "  54  55  56  57  58  59  60  61  62  63  64  65  66  67  68  69  70  71\n",
      "  72  73  74  75  76  77  78  79  80  81  82  83  84  85  86  87  88  89\n",
      "  90  91  92  93  94  95  96  97  98  99 100 101 102 103 104 105 106 107\n",
      " 108 109 110 111 112 113 114 115 116 117 118 119 120 121 122 123 124 125\n",
      " 126 127 128 129 130 131 132 133 134 135 136 137 138 139 140 141 142 143\n",
      " 144 145 146 147 148 149 150 151 152 153 154 155 156 157 158 159 160 161\n",
      " 162 163 164 165 166 167 168 169 170 171 172 173 174 175 176 177 178 179\n",
      " 180 181 182 183 184 185 186 187 188 189 190 191 192 193 194 195 196 197\n",
      " 198 199 200 201 202 203 204 205 206 207 208 209 210 211 212 213 214 215\n",
      " 216 217 218 219 220 221 222 223 224 225 226 227 228 229 230 231 232 233\n",
      " 234 235 236 237 238 239 240 241 242 243 244 245 246 247 248 249 250 251\n",
      " 252 253 254 255 256 257 258 259 260 261 262 263 264 265 266 267 268 269\n",
      " 270 271 272 273 274 275 276 277 278 279 280 281 282 283 284 285 286 287\n",
      " 288 289 290 291 292 293 294 295 296 297 298 299 300 301 302 303 304 305\n",
      " 306 307 308 309 310 311 312 313 314 315 316 317 318 319 320 321 322 323\n",
      " 324 325 326 327 328 329 330 331 332 333 334 335 336 337 338 339 340 341\n",
      " 342 343 344 345 346 347 348 349 350 351 352 353 354 355 356 357 358 359\n",
      " 360 361 362 363 364 365 366 367 368 369 370 371 372 373 374 375 376 377\n",
      " 378 379 380 381 382 383 384 385 386 387 388 389 390 391 392 393 394 395\n",
      " 396 397 398 399 400 401 402 403 404 405 406 407 408 409 410 411 412 413\n",
      " 414 415 416 417 418 419 420 421 422 423 424 425 426 427 428 429 430 431\n",
      " 432 433 434 435 436 437 438 439 440 441 442 443 444 445 446 447 448 449\n",
      " 450 451 452 453 454 455 456 457 458 459 460 461 462 463 464 465 466 467\n",
      " 468 469 470 471 472 473 474 475 476 477 478 479 480 481 482 483 484 485\n",
      " 486 487 488 489 490 491 492 493 494 495 496 497 498 499 500 501 502 503\n",
      " 504 505 506 507 508 509 510 511 512 513 514 515 516 517 518 519 520 521\n",
      " 522 523 524 525 526 527 528 529 530 531 532 533 534 535 536] \n",
      "\n",
      "Test Index:  [537 538 539 540 541 542 543 544 545 546 547 548 549 550 551 552 553 554\n",
      " 555 556 557 558 559 560 561 562 563 564 565 566 567 568 569 570 571 572\n",
      " 573 574 575 576 577 578 579 580 581 582 583 584 585 586 587 588 589 590\n",
      " 591 592 593 594 595]\n"
     ]
    }
   ],
   "source": [
    "from sklearn.model_selection import KFold\n",
    "import numpy as np\n",
    "\n",
    "scores = []\n",
    "best_nb = GaussianNB()\n",
    "\n",
    "Y = df['category'].to_numpy()\n",
    "X = df[['Age', 'Sex', 'ALB', 'ALP', 'ALT', 'AST', 'BIL', 'CHE', 'CHOL', 'CREA', 'GGT', 'PROT']].to_numpy()\n",
    "\n",
    "cv = KFold(n_splits = 10,  shuffle = False)\n",
    "\n",
    "for train_index, test_index in cv.split(X):\n",
    "    print(\"Train Index: \", train_index, \"\\n\")\n",
    "    print(\"Test Index: \", test_index)\n",
    "\n",
    "    X_train, X_test, Y_train, Y_test = X[train_index], X[test_index], Y[train_index], Y[test_index]\n",
    "    \n",
    "    best_nb.fit(X_train, Y_train)\n",
    "    scores.append(best_nb.score(X_test, Y_test))"
   ]
  },
  {
   "cell_type": "code",
   "execution_count": 56,
   "metadata": {},
   "outputs": [
    {
     "data": {
      "text/plain": [
       "[0.9333333333333333,\n",
       " 0.8666666666666667,\n",
       " 0.9666666666666667,\n",
       " 0.9666666666666667,\n",
       " 0.9666666666666667,\n",
       " 0.9666666666666667,\n",
       " 1.0,\n",
       " 0.9661016949152542,\n",
       " 0.864406779661017,\n",
       " 0.0,\n",
       " 0.0]"
      ]
     },
     "execution_count": 56,
     "metadata": {},
     "output_type": "execute_result"
    }
   ],
   "source": [
    "best_nb.fit(X_train, Y_train)\n",
    "scores.append(best_nb.score(X_test, Y_test))\n",
    "scores"
   ]
  },
  {
   "cell_type": "code",
   "execution_count": 57,
   "metadata": {},
   "outputs": [
    {
     "name": "stderr",
     "output_type": "stream",
     "text": [
      "C:\\Users\\athul\\anaconda3\\lib\\site-packages\\sklearn\\model_selection\\_split.py:666: UserWarning: The least populated class in y has only 1 members, which is less than n_splits=10.\n",
      "  warnings.warn((\"The least populated class in y has only %d\"\n"
     ]
    },
    {
     "data": {
      "text/plain": [
       "array([0.16666667, 0.5       , 0.66666667, 0.66666667, 0.66666667,\n",
       "       0.83333333, 0.66666667, 0.66666667, 0.66666667, 0.4       ])"
      ]
     },
     "execution_count": 57,
     "metadata": {},
     "output_type": "execute_result"
    }
   ],
   "source": [
    "from sklearn.model_selection import cross_val_score\n",
    "cross_val_score(best_nb, X_test, Y_test, cv=10)"
   ]
  },
  {
   "cell_type": "markdown",
   "metadata": {},
   "source": [
    "Cross validation score is really less. The least populated class has less number of members than 10."
   ]
  },
  {
   "cell_type": "markdown",
   "metadata": {},
   "source": [
    "We have find some method to balance this class imbalance in the data set."
   ]
  },
  {
   "cell_type": "markdown",
   "metadata": {},
   "source": [
    "#### 1. Naive Bayes - Classification (Model2 - using SMOTE)"
   ]
  },
  {
   "cell_type": "markdown",
   "metadata": {},
   "source": [
    "SMOTE - Synthetic Minority Oversampling Technique. \n",
    "This is a statistical technique for increasing the number of cases in your dataset in a balanced way."
   ]
  },
  {
   "cell_type": "code",
   "execution_count": 58,
   "metadata": {},
   "outputs": [],
   "source": [
    "import pandas as pd\n",
    "from imblearn.over_sampling import SMOTE\n",
    "\n",
    "# Read csv file into dataframe\n",
    "df = pd.read_csv('https://raw.githubusercontent.com/toshihiroryuu/Machine_learning/master/ML_004_Hepatitis/processed_unscaled_data.csv')\n",
    "\n",
    "Y = df['category']\n",
    "X = df[['Age', 'Sex', 'ALB', 'ALP', 'ALT', 'AST', 'BIL', 'CHE', 'CHOL', 'CREA', 'GGT', 'PROT']]\n",
    "\n",
    "X_smote,Y_smote = SMOTE().fit_sample(X, Y)\n",
    "\n",
    "X_train, X_test, Y_train, Y_test = train_test_split(X_smote, Y_smote, stratify = Y_smote, test_size=0.2, random_state=52)"
   ]
  },
  {
   "cell_type": "code",
   "execution_count": 59,
   "metadata": {
    "scrolled": true
   },
   "outputs": [
    {
     "name": "stdout",
     "output_type": "stream",
     "text": [
      "Shape of X_train: (2128, 12)\n",
      "Shape of X_test: (532, 12)\n",
      "Shape of Y_train: (2128,)\n",
      "Shape of Y_test: (532,)\n"
     ]
    }
   ],
   "source": [
    "print('Shape of X_train:', X_train.shape)\n",
    "print('Shape of X_test:', X_test.shape)\n",
    "print('Shape of Y_train:', Y_train.shape)\n",
    "print('Shape of Y_test:', Y_test.shape)"
   ]
  },
  {
   "cell_type": "code",
   "execution_count": 60,
   "metadata": {},
   "outputs": [
    {
     "data": {
      "text/plain": [
       "GaussianNB()"
      ]
     },
     "execution_count": 60,
     "metadata": {},
     "output_type": "execute_result"
    }
   ],
   "source": [
    "from sklearn.naive_bayes import GaussianNB\n",
    "from sklearn.metrics import accuracy_score\n",
    "\n",
    "modelnb2 = GaussianNB()\n",
    "modelnb2.fit(X_train, Y_train)"
   ]
  },
  {
   "cell_type": "code",
   "execution_count": 61,
   "metadata": {},
   "outputs": [
    {
     "data": {
      "text/plain": [
       "87.78"
      ]
     },
     "execution_count": 61,
     "metadata": {},
     "output_type": "execute_result"
    }
   ],
   "source": [
    "Y_pred = modelnb2.predict(X_test)\n",
    "acc = round(accuracy_score(Y_test,Y_pred) * 100, 2)\n",
    "acc"
   ]
  },
  {
   "cell_type": "code",
   "execution_count": 62,
   "metadata": {},
   "outputs": [
    {
     "name": "stdout",
     "output_type": "stream",
     "text": [
      "              precision    recall  f1-score   support\n",
      "\n",
      "           0       0.90      0.90      0.90       106\n",
      "           1       0.98      0.88      0.93       106\n",
      "           2       0.76      0.76      0.76       106\n",
      "           3       0.77      0.85      0.81       107\n",
      "           4       1.00      1.00      1.00       107\n",
      "\n",
      "    accuracy                           0.88       532\n",
      "   macro avg       0.88      0.88      0.88       532\n",
      "weighted avg       0.88      0.88      0.88       532\n",
      "\n"
     ]
    }
   ],
   "source": [
    "from sklearn.metrics import classification_report\n",
    "\n",
    "print(classification_report(Y_test,Y_pred))"
   ]
  },
  {
   "cell_type": "code",
   "execution_count": 63,
   "metadata": {},
   "outputs": [
    {
     "data": {
      "text/plain": [
       "<matplotlib.axes._subplots.AxesSubplot at 0x21179ac8850>"
      ]
     },
     "execution_count": 63,
     "metadata": {},
     "output_type": "execute_result"
    },
    {
     "data": {
      "image/png": "[encoded data removed]",
      "text/plain": [
       "<Figure size 432x432 with 2 Axes>"
      ]
     },
     "metadata": {},
     "output_type": "display_data"
    }
   ],
   "source": [
    "import scikitplot as skplt\n",
    "\n",
    "skplt.metrics.plot_confusion_matrix(Y_test, Y_pred, figsize=(6,6), \n",
    "                                title='Confusion Matrix: Naive Bayes',\n",
    "                                normalize=True,\n",
    "                                cmap='Blues')"
   ]
  },
  {
   "cell_type": "markdown",
   "metadata": {},
   "source": [
    "All True positive rates are aboce 75%. This is a good model with 88% Accuracy."
   ]
  },
  {
   "cell_type": "markdown",
   "metadata": {},
   "source": [
    "#### 2. Decision Tree Classifier (Model1 - Manual)"
   ]
  },
  {
   "cell_type": "code",
   "execution_count": 64,
   "metadata": {},
   "outputs": [],
   "source": [
    "from sklearn.tree import DecisionTreeClassifier\n",
    "\n",
    "modeldt1 = DecisionTreeClassifier()\n",
    "modeldt1.fit(X_train, Y_train)\n",
    "\n",
    "DecisionTreeClassifier()\n",
    "\n",
    "Y_pred = modeldt1.predict(X_test)"
   ]
  },
  {
   "cell_type": "code",
   "execution_count": 65,
   "metadata": {},
   "outputs": [
    {
     "data": {
      "text/plain": [
       "96.8"
      ]
     },
     "execution_count": 65,
     "metadata": {},
     "output_type": "execute_result"
    }
   ],
   "source": [
    "acc = round(accuracy_score(Y_test,Y_pred) * 100, 2)\n",
    "acc"
   ]
  },
  {
   "cell_type": "code",
   "execution_count": 66,
   "metadata": {},
   "outputs": [
    {
     "name": "stdout",
     "output_type": "stream",
     "text": [
      "              precision    recall  f1-score   support\n",
      "\n",
      "           0       1.00      0.93      0.97       106\n",
      "           1       0.97      1.00      0.99       106\n",
      "           2       0.97      0.92      0.95       106\n",
      "           3       0.91      0.98      0.95       107\n",
      "           4       0.99      1.00      1.00       107\n",
      "\n",
      "    accuracy                           0.97       532\n",
      "   macro avg       0.97      0.97      0.97       532\n",
      "weighted avg       0.97      0.97      0.97       532\n",
      "\n"
     ]
    }
   ],
   "source": [
    "from sklearn.metrics import classification_report \n",
    "\n",
    "print(classification_report(Y_test, Y_pred))"
   ]
  },
  {
   "cell_type": "code",
   "execution_count": 67,
   "metadata": {},
   "outputs": [
    {
     "data": {
      "image/png": "[encoded data removed]",
      "text/plain": [
       "<Figure size 576x576 with 2 Axes>"
      ]
     },
     "metadata": {},
     "output_type": "display_data"
    }
   ],
   "source": [
    "import scikitplot as skplt\n",
    "\n",
    "skplt.metrics.plot_confusion_matrix(Y_test, Y_pred, figsize=(8,8), \n",
    "                                    title='Confusion Matrix: Decision Tree',\n",
    "                                    normalize=True,\n",
    "                                    cmap='Blues')\n",
    "\n",
    "plt.show()"
   ]
  },
  {
   "cell_type": "markdown",
   "metadata": {},
   "source": [
    "#### 2. Decision Tree Classifier (Model2 - GridSearchCV)"
   ]
  },
  {
   "cell_type": "code",
   "execution_count": 68,
   "metadata": {},
   "outputs": [],
   "source": [
    "from sklearn import tree\n",
    "from sklearn.pipeline import Pipeline\n",
    "from sklearn.model_selection import GridSearchCV\n",
    "\n",
    "criterion = ['gini', 'entropy']\n",
    "max_depth = [2,4,6,8,10,12]\n",
    "\n",
    "min_samples_leaf = [0.10, 0.2, 0.3, 0.4, 0.5]\n",
    "min_samples_split = [0.1, 0.2, 0.3, 0.4, 0.5, 0.6, 0.7, 0.8, 0.9 ]\n",
    "\n",
    "dec_tree = tree.DecisionTreeClassifier()"
   ]
  },
  {
   "cell_type": "code",
   "execution_count": 69,
   "metadata": {},
   "outputs": [],
   "source": [
    "parameters = dict(dec_tree__criterion=criterion,\n",
    "                dec_tree__max_depth=max_depth,\n",
    "                dec_tree__min_samples_leaf = min_samples_leaf,\n",
    "                dec_tree__min_samples_split = min_samples_split)"
   ]
  },
  {
   "cell_type": "code",
   "execution_count": 70,
   "metadata": {},
   "outputs": [],
   "source": [
    "pipe = Pipeline(steps=[('dec_tree', dec_tree)])"
   ]
  },
  {
   "cell_type": "code",
   "execution_count": 71,
   "metadata": {},
   "outputs": [
    {
     "data": {
      "text/plain": [
       "GridSearchCV(estimator=Pipeline(steps=[('dec_tree', DecisionTreeClassifier())]),\n",
       "             param_grid={'dec_tree__criterion': ['gini', 'entropy'],\n",
       "                         'dec_tree__max_depth': [2, 4, 6, 8, 10, 12],\n",
       "                         'dec_tree__min_samples_leaf': [0.1, 0.2, 0.3, 0.4,\n",
       "                                                        0.5],\n",
       "                         'dec_tree__min_samples_split': [0.1, 0.2, 0.3, 0.4,\n",
       "                                                         0.5, 0.6, 0.7, 0.8,\n",
       "                                                         0.9]})"
      ]
     },
     "execution_count": 71,
     "metadata": {},
     "output_type": "execute_result"
    }
   ],
   "source": [
    "clf_GS = GridSearchCV(pipe, parameters)\n",
    "clf_GS.fit(X_smote, Y_smote)"
   ]
  },
  {
   "cell_type": "code",
   "execution_count": 72,
   "metadata": {},
   "outputs": [
    {
     "name": "stdout",
     "output_type": "stream",
     "text": [
      "Best Criterion: gini\n",
      "Best max_depth: 6\n",
      "min_samples_leaf: 0.1\n",
      "min_samples_split: 0.1\n",
      "\n",
      "DecisionTreeClassifier(max_depth=6, min_samples_leaf=0.1, min_samples_split=0.1)\n"
     ]
    }
   ],
   "source": [
    "print('Best Criterion:', clf_GS.best_estimator_.get_params()['dec_tree__criterion'])\n",
    "print('Best max_depth:', clf_GS.best_estimator_.get_params()['dec_tree__max_depth'])\n",
    "\n",
    "\n",
    "print('min_samples_leaf:', clf_GS.best_estimator_.get_params()['dec_tree__min_samples_leaf'])\n",
    "print('min_samples_split:', clf_GS.best_estimator_.get_params()['dec_tree__min_samples_split'])\n",
    "print()\n",
    "print(clf_GS.best_estimator_.get_params()['dec_tree'])"
   ]
  },
  {
   "cell_type": "code",
   "execution_count": 73,
   "metadata": {},
   "outputs": [],
   "source": [
    "from sklearn.tree import DecisionTreeClassifier\n",
    "\n",
    "modeldt2 = DecisionTreeClassifier()\n",
    "modeldt2.fit(X_train, Y_train)\n",
    "\n",
    "DecisionTreeClassifier(criterion=\"gini\", \n",
    "                       max_depth=6, min_samples_leaf=0.1,\n",
    "                       min_samples_split=0.1)\n",
    "\n",
    "Y_pred = modeldt2.predict(X_test)"
   ]
  },
  {
   "cell_type": "code",
   "execution_count": 74,
   "metadata": {},
   "outputs": [
    {
     "data": {
      "text/plain": [
       "96.99"
      ]
     },
     "execution_count": 74,
     "metadata": {},
     "output_type": "execute_result"
    }
   ],
   "source": [
    "acc = round(accuracy_score(Y_test,Y_pred) * 100, 2)\n",
    "acc"
   ]
  },
  {
   "cell_type": "code",
   "execution_count": 75,
   "metadata": {},
   "outputs": [
    {
     "name": "stdout",
     "output_type": "stream",
     "text": [
      "              precision    recall  f1-score   support\n",
      "\n",
      "           0       0.99      0.92      0.95       106\n",
      "           1       0.98      1.00      0.99       106\n",
      "           2       0.94      0.94      0.94       106\n",
      "           3       0.94      0.99      0.96       107\n",
      "           4       1.00      1.00      1.00       107\n",
      "\n",
      "    accuracy                           0.97       532\n",
      "   macro avg       0.97      0.97      0.97       532\n",
      "weighted avg       0.97      0.97      0.97       532\n",
      "\n"
     ]
    }
   ],
   "source": [
    "from sklearn.metrics import classification_report \n",
    "\n",
    "print(classification_report(Y_test, Y_pred))"
   ]
  },
  {
   "cell_type": "code",
   "execution_count": 76,
   "metadata": {},
   "outputs": [
    {
     "data": {
      "image/png": "[encoded data removed]",
      "text/plain": [
       "<Figure size 576x576 with 2 Axes>"
      ]
     },
     "metadata": {},
     "output_type": "display_data"
    }
   ],
   "source": [
    "import scikitplot as skplt\n",
    "\n",
    "skplt.metrics.plot_confusion_matrix(Y_test, Y_pred, figsize=(8,8), \n",
    "                                    title='Confusion Matrix: Decision Tree',\n",
    "                                    normalize=True,\n",
    "                                    cmap='Blues')\n",
    "\n",
    "plt.show()"
   ]
  },
  {
   "cell_type": "markdown",
   "metadata": {},
   "source": [
    "All True positive rates are aboce 90%. This is a good model with 98% Accuracy. This model is better than the Naive Bayes model."
   ]
  },
  {
   "cell_type": "code",
   "execution_count": 77,
   "metadata": {},
   "outputs": [
    {
     "name": "stdout",
     "output_type": "stream",
     "text": [
      "|--- PROT <= 56.86\n",
      "|   |--- Age <= 41.00\n",
      "|   |   |--- class: 0\n",
      "|   |--- Age >  41.00\n",
      "|   |   |--- ALP <= 52.55\n",
      "|   |   |   |--- Age <= 57.00\n",
      "|   |   |   |   |--- class: 4\n",
      "|   |   |   |--- Age >  57.00\n",
      "|   |   |   |   |--- class: 0\n",
      "|   |   |--- ALP >  52.55\n",
      "|   |   |   |--- class: 4\n",
      "|--- PROT >  56.86\n",
      "|   |--- AST <= 31.33\n",
      "|   |   |--- ALP <= 34.23\n",
      "|   |   |   |--- PROT <= 72.15\n",
      "|   |   |   |   |--- class: 0\n",
      "|   |   |   |--- PROT >  72.15\n",
      "|   |   |   |   |--- class: 3\n",
      "|   |   |--- ALP >  34.23\n",
      "|   |   |   |--- ALT <= 4.59\n",
      "|   |   |   |   |--- class: 1\n",
      "|   |   |   |--- ALT >  4.59\n",
      "|   |   |   |   |--- class: 0\n",
      "|   |--- AST >  31.33\n",
      "|   |   |--- CHE <= 6.29\n",
      "|   |   |   |--- ALT <= 134.17\n",
      "|   |   |   |   |--- BIL <= 7.65\n",
      "|   |   |   |   |   |--- class: 0\n",
      "|   |   |   |   |--- BIL >  7.65\n",
      "|   |   |   |   |   |--- AST <= 184.75\n",
      "|   |   |   |   |   |   |--- class: 1\n",
      "|   |   |   |   |   |--- AST >  184.75\n",
      "|   |   |   |   |   |   |--- class: 3\n",
      "|   |   |   |--- ALT >  134.17\n",
      "|   |   |   |   |--- ALB <= 39.91\n",
      "|   |   |   |   |   |--- class: 2\n",
      "|   |   |   |   |--- ALB >  39.91\n",
      "|   |   |   |   |   |--- class: 1\n",
      "|   |   |--- CHE >  6.29\n",
      "|   |   |   |--- Age <= 48.50\n",
      "|   |   |   |   |--- AST <= 65.11\n",
      "|   |   |   |   |   |--- ALP <= 67.57\n",
      "|   |   |   |   |   |   |--- CREA <= 87.00\n",
      "|   |   |   |   |   |   |   |--- Age <= 44.50\n",
      "|   |   |   |   |   |   |   |   |--- BIL <= 5.65\n",
      "|   |   |   |   |   |   |   |   |   |--- class: 0\n",
      "|   |   |   |   |   |   |   |   |--- BIL >  5.65\n",
      "|   |   |   |   |   |   |   |   |   |--- GGT <= 98.32\n",
      "|   |   |   |   |   |   |   |   |   |   |--- CHE <= 14.62\n",
      "|   |   |   |   |   |   |   |   |   |   |   |--- truncated branch of depth 5\n",
      "|   |   |   |   |   |   |   |   |   |   |--- CHE >  14.62\n",
      "|   |   |   |   |   |   |   |   |   |   |   |--- class: 0\n",
      "|   |   |   |   |   |   |   |   |   |--- GGT >  98.32\n",
      "|   |   |   |   |   |   |   |   |   |   |--- CHE <= 10.92\n",
      "|   |   |   |   |   |   |   |   |   |   |   |--- class: 2\n",
      "|   |   |   |   |   |   |   |   |   |   |--- CHE >  10.92\n",
      "|   |   |   |   |   |   |   |   |   |   |   |--- class: 3\n",
      "|   |   |   |   |   |   |   |--- Age >  44.50\n",
      "|   |   |   |   |   |   |   |   |--- AST <= 48.03\n",
      "|   |   |   |   |   |   |   |   |   |--- ALT <= 26.66\n",
      "|   |   |   |   |   |   |   |   |   |   |--- class: 3\n",
      "|   |   |   |   |   |   |   |   |   |--- ALT >  26.66\n",
      "|   |   |   |   |   |   |   |   |   |   |--- AST <= 39.21\n",
      "|   |   |   |   |   |   |   |   |   |   |   |--- class: 0\n",
      "|   |   |   |   |   |   |   |   |   |   |--- AST >  39.21\n",
      "|   |   |   |   |   |   |   |   |   |   |   |--- class: 2\n",
      "|   |   |   |   |   |   |   |   |--- AST >  48.03\n",
      "|   |   |   |   |   |   |   |   |   |--- Sex <= 0.50\n",
      "|   |   |   |   |   |   |   |   |   |   |--- class: 2\n",
      "|   |   |   |   |   |   |   |   |   |--- Sex >  0.50\n",
      "|   |   |   |   |   |   |   |   |   |   |--- class: 3\n",
      "|   |   |   |   |   |   |--- CREA >  87.00\n",
      "|   |   |   |   |   |   |   |--- ALT <= 26.89\n",
      "|   |   |   |   |   |   |   |   |--- class: 2\n",
      "|   |   |   |   |   |   |   |--- ALT >  26.89\n",
      "|   |   |   |   |   |   |   |   |--- class: 0\n",
      "|   |   |   |   |   |--- ALP >  67.57\n",
      "|   |   |   |   |   |   |--- class: 0\n",
      "|   |   |   |   |--- AST >  65.11\n",
      "|   |   |   |   |   |--- ALT <= 24.03\n",
      "|   |   |   |   |   |   |--- CHOL <= 5.60\n",
      "|   |   |   |   |   |   |   |--- CREA <= 71.09\n",
      "|   |   |   |   |   |   |   |   |--- CHE <= 12.45\n",
      "|   |   |   |   |   |   |   |   |   |--- class: 2\n",
      "|   |   |   |   |   |   |   |   |--- CHE >  12.45\n",
      "|   |   |   |   |   |   |   |   |   |--- class: 3\n",
      "|   |   |   |   |   |   |   |--- CREA >  71.09\n",
      "|   |   |   |   |   |   |   |   |--- ALP <= 41.30\n",
      "|   |   |   |   |   |   |   |   |   |--- class: 3\n",
      "|   |   |   |   |   |   |   |   |--- ALP >  41.30\n",
      "|   |   |   |   |   |   |   |   |   |--- class: 2\n",
      "|   |   |   |   |   |   |--- CHOL >  5.60\n",
      "|   |   |   |   |   |   |   |--- class: 3\n",
      "|   |   |   |   |   |--- ALT >  24.03\n",
      "|   |   |   |   |   |   |--- Age <= 35.50\n",
      "|   |   |   |   |   |   |   |--- class: 3\n",
      "|   |   |   |   |   |   |--- Age >  35.50\n",
      "|   |   |   |   |   |   |   |--- ALP <= 39.77\n",
      "|   |   |   |   |   |   |   |   |--- ALT <= 40.09\n",
      "|   |   |   |   |   |   |   |   |   |--- CHE <= 7.52\n",
      "|   |   |   |   |   |   |   |   |   |   |--- class: 2\n",
      "|   |   |   |   |   |   |   |   |   |--- CHE >  7.52\n",
      "|   |   |   |   |   |   |   |   |   |   |--- class: 3\n",
      "|   |   |   |   |   |   |   |   |--- ALT >  40.09\n",
      "|   |   |   |   |   |   |   |   |   |--- class: 2\n",
      "|   |   |   |   |   |   |   |--- ALP >  39.77\n",
      "|   |   |   |   |   |   |   |   |--- class: 2\n",
      "|   |   |   |--- Age >  48.50\n",
      "|   |   |   |   |--- ALP <= 69.67\n",
      "|   |   |   |   |   |--- CREA <= 69.89\n",
      "|   |   |   |   |   |   |--- ALP <= 65.62\n",
      "|   |   |   |   |   |   |   |--- CHE <= 9.53\n",
      "|   |   |   |   |   |   |   |   |--- BIL <= 17.96\n",
      "|   |   |   |   |   |   |   |   |   |--- GGT <= 26.11\n",
      "|   |   |   |   |   |   |   |   |   |   |--- ALP <= 43.86\n",
      "|   |   |   |   |   |   |   |   |   |   |   |--- class: 3\n",
      "|   |   |   |   |   |   |   |   |   |   |--- ALP >  43.86\n",
      "|   |   |   |   |   |   |   |   |   |   |   |--- class: 0\n",
      "|   |   |   |   |   |   |   |   |   |--- GGT >  26.11\n",
      "|   |   |   |   |   |   |   |   |   |   |--- PROT <= 66.11\n",
      "|   |   |   |   |   |   |   |   |   |   |   |--- class: 1\n",
      "|   |   |   |   |   |   |   |   |   |   |--- PROT >  66.11\n",
      "|   |   |   |   |   |   |   |   |   |   |   |--- class: 2\n",
      "|   |   |   |   |   |   |   |   |--- BIL >  17.96\n",
      "|   |   |   |   |   |   |   |   |   |--- class: 3\n",
      "|   |   |   |   |   |   |   |--- CHE >  9.53\n",
      "|   |   |   |   |   |   |   |   |--- class: 3\n",
      "|   |   |   |   |   |   |--- ALP >  65.62\n",
      "|   |   |   |   |   |   |   |--- AST <= 101.42\n",
      "|   |   |   |   |   |   |   |   |--- CHOL <= 4.58\n",
      "|   |   |   |   |   |   |   |   |   |--- class: 2\n",
      "|   |   |   |   |   |   |   |   |--- CHOL >  4.58\n",
      "|   |   |   |   |   |   |   |   |   |--- class: 1\n",
      "|   |   |   |   |   |   |   |--- AST >  101.42\n",
      "|   |   |   |   |   |   |   |   |--- class: 2\n",
      "|   |   |   |   |   |--- CREA >  69.89\n",
      "|   |   |   |   |   |   |--- CREA <= 93.05\n",
      "|   |   |   |   |   |   |   |--- CHOL <= 6.26\n",
      "|   |   |   |   |   |   |   |   |--- BIL <= 6.33\n",
      "|   |   |   |   |   |   |   |   |   |--- PROT <= 74.60\n",
      "|   |   |   |   |   |   |   |   |   |   |--- class: 0\n",
      "|   |   |   |   |   |   |   |   |   |--- PROT >  74.60\n",
      "|   |   |   |   |   |   |   |   |   |   |--- class: 3\n",
      "|   |   |   |   |   |   |   |   |--- BIL >  6.33\n",
      "|   |   |   |   |   |   |   |   |   |--- AST <= 33.38\n",
      "|   |   |   |   |   |   |   |   |   |   |--- class: 0\n",
      "|   |   |   |   |   |   |   |   |   |--- AST >  33.38\n",
      "|   |   |   |   |   |   |   |   |   |   |--- BIL <= 8.88\n",
      "|   |   |   |   |   |   |   |   |   |   |   |--- truncated branch of depth 2\n",
      "|   |   |   |   |   |   |   |   |   |   |--- BIL >  8.88\n",
      "|   |   |   |   |   |   |   |   |   |   |   |--- truncated branch of depth 4\n",
      "|   |   |   |   |   |   |   |--- CHOL >  6.26\n",
      "|   |   |   |   |   |   |   |   |--- PROT <= 75.24\n",
      "|   |   |   |   |   |   |   |   |   |--- class: 3\n",
      "|   |   |   |   |   |   |   |   |--- PROT >  75.24\n",
      "|   |   |   |   |   |   |   |   |   |--- class: 0\n",
      "|   |   |   |   |   |   |--- CREA >  93.05\n",
      "|   |   |   |   |   |   |   |--- PROT <= 78.64\n",
      "|   |   |   |   |   |   |   |   |--- BIL <= 9.42\n",
      "|   |   |   |   |   |   |   |   |   |--- class: 0\n",
      "|   |   |   |   |   |   |   |   |--- BIL >  9.42\n",
      "|   |   |   |   |   |   |   |   |   |--- class: 2\n",
      "|   |   |   |   |   |   |   |--- PROT >  78.64\n",
      "|   |   |   |   |   |   |   |   |--- class: 1\n",
      "|   |   |   |   |--- ALP >  69.67\n",
      "|   |   |   |   |   |--- ALT <= 89.20\n",
      "|   |   |   |   |   |   |--- BIL <= 12.89\n",
      "|   |   |   |   |   |   |   |--- ALB <= 33.82\n",
      "|   |   |   |   |   |   |   |   |--- class: 4\n",
      "|   |   |   |   |   |   |   |--- ALB >  33.82\n",
      "|   |   |   |   |   |   |   |   |--- class: 0\n",
      "|   |   |   |   |   |   |--- BIL >  12.89\n",
      "|   |   |   |   |   |   |   |--- class: 1\n",
      "|   |   |   |   |   |--- ALT >  89.20\n",
      "|   |   |   |   |   |   |--- class: 4\n",
      "\n"
     ]
    }
   ],
   "source": [
    "from sklearn import tree\n",
    "\n",
    "text_rep = tree.export_text(modeldt2, feature_names=['Age', 'Sex', 'ALB', 'ALP', 'ALT', 'AST', 'BIL', 'CHE', 'CHOL', 'CREA', 'GGT', 'PROT'])\n",
    "print(text_rep)"
   ]
  },
  {
   "cell_type": "markdown",
   "metadata": {},
   "source": [
    "#### 3. KNN Classifier (Model1)"
   ]
  },
  {
   "cell_type": "code",
   "execution_count": 78,
   "metadata": {},
   "outputs": [
    {
     "data": {
      "text/plain": [
       "array([1, 2, 0, 0, 0, 1, 2, 4, 2, 1], dtype=int64)"
      ]
     },
     "execution_count": 78,
     "metadata": {},
     "output_type": "execute_result"
    }
   ],
   "source": [
    "from sklearn.neighbors import KNeighborsClassifier\n",
    "\n",
    "classifier = KNeighborsClassifier(n_neighbors=5)\n",
    "classifier.fit(X_train, Y_train)\n",
    "\n",
    "Y_pred = classifier.predict(X_test)\n",
    "Y_pred[:10]"
   ]
  },
  {
   "cell_type": "code",
   "execution_count": 79,
   "metadata": {},
   "outputs": [
    {
     "data": {
      "text/plain": [
       "98.31"
      ]
     },
     "execution_count": 79,
     "metadata": {},
     "output_type": "execute_result"
    }
   ],
   "source": [
    "acc = round(accuracy_score(Y_test,Y_pred) * 100, 2)\n",
    "acc"
   ]
  },
  {
   "cell_type": "code",
   "execution_count": 80,
   "metadata": {},
   "outputs": [
    {
     "name": "stdout",
     "output_type": "stream",
     "text": [
      "              precision    recall  f1-score   support\n",
      "\n",
      "           0       1.00      0.94      0.97       106\n",
      "           1       0.97      1.00      0.99       106\n",
      "           2       0.98      0.98      0.98       106\n",
      "           3       0.96      0.99      0.98       107\n",
      "           4       1.00      1.00      1.00       107\n",
      "\n",
      "    accuracy                           0.98       532\n",
      "   macro avg       0.98      0.98      0.98       532\n",
      "weighted avg       0.98      0.98      0.98       532\n",
      "\n"
     ]
    }
   ],
   "source": [
    "print(classification_report(Y_test, Y_pred))"
   ]
  },
  {
   "cell_type": "code",
   "execution_count": 81,
   "metadata": {},
   "outputs": [
    {
     "data": {
      "text/plain": [
       "<matplotlib.axes._subplots.AxesSubplot at 0x2117adc5bb0>"
      ]
     },
     "execution_count": 81,
     "metadata": {},
     "output_type": "execute_result"
    },
    {
     "data": {
      "image/png": "[encoded data removed]",
      "text/plain": [
       "<Figure size 576x576 with 2 Axes>"
      ]
     },
     "metadata": {},
     "output_type": "display_data"
    }
   ],
   "source": [
    "from sklearn.metrics import classification_report, confusion_matrix\n",
    "import scikitplot as skplt\n",
    "\n",
    "skplt.metrics.plot_confusion_matrix(Y_test, Y_pred, figsize=(8,8), \n",
    "                                    title='Confusion Matrix: Decision Tree',\n",
    "                                    normalize=True,\n",
    "                                    cmap='Blues')"
   ]
  },
  {
   "cell_type": "markdown",
   "metadata": {},
   "source": [
    "#### 10 Fold Cross Validation - KNN"
   ]
  },
  {
   "cell_type": "code",
   "execution_count": 82,
   "metadata": {},
   "outputs": [],
   "source": [
    "from sklearn.model_selection import KFold\n",
    "import numpy as np"
   ]
  },
  {
   "cell_type": "code",
   "execution_count": 83,
   "metadata": {},
   "outputs": [],
   "source": [
    "from sklearn.neighbors import KNeighborsClassifier\n",
    "from imblearn.over_sampling import SMOTE\n",
    "\n",
    "# Read csv file into dataframe\n",
    "df = pd.read_csv('https://raw.githubusercontent.com/toshihiroryuu/Machine_learning/master/ML_004_Hepatitis/processed_unscaled_data.csv')\n",
    "\n",
    "Y = df['category'].to_numpy()\n",
    "X = df[['Age', 'Sex', 'ALB', 'ALP', 'ALT', 'AST', 'BIL', 'CHE', 'CHOL', 'CREA', 'GGT', 'PROT']].to_numpy()\n",
    "\n",
    "X_smote,Y_smote = SMOTE().fit_sample(X, Y)\n",
    "\n",
    "X_train, X_test, Y_train, Y_test = train_test_split(X_smote, Y_smote, stratify = Y_smote, test_size=0.2, random_state=52)"
   ]
  },
  {
   "cell_type": "code",
   "execution_count": 84,
   "metadata": {},
   "outputs": [
    {
     "name": "stdout",
     "output_type": "stream",
     "text": [
      "Train Index:  [ 266  267  268 ... 2657 2658 2659] \n",
      "\n",
      "Test Index:  [  0   1   2   3   4   5   6   7   8   9  10  11  12  13  14  15  16  17\n",
      "  18  19  20  21  22  23  24  25  26  27  28  29  30  31  32  33  34  35\n",
      "  36  37  38  39  40  41  42  43  44  45  46  47  48  49  50  51  52  53\n",
      "  54  55  56  57  58  59  60  61  62  63  64  65  66  67  68  69  70  71\n",
      "  72  73  74  75  76  77  78  79  80  81  82  83  84  85  86  87  88  89\n",
      "  90  91  92  93  94  95  96  97  98  99 100 101 102 103 104 105 106 107\n",
      " 108 109 110 111 112 113 114 115 116 117 118 119 120 121 122 123 124 125\n",
      " 126 127 128 129 130 131 132 133 134 135 136 137 138 139 140 141 142 143\n",
      " 144 145 146 147 148 149 150 151 152 153 154 155 156 157 158 159 160 161\n",
      " 162 163 164 165 166 167 168 169 170 171 172 173 174 175 176 177 178 179\n",
      " 180 181 182 183 184 185 186 187 188 189 190 191 192 193 194 195 196 197\n",
      " 198 199 200 201 202 203 204 205 206 207 208 209 210 211 212 213 214 215\n",
      " 216 217 218 219 220 221 222 223 224 225 226 227 228 229 230 231 232 233\n",
      " 234 235 236 237 238 239 240 241 242 243 244 245 246 247 248 249 250 251\n",
      " 252 253 254 255 256 257 258 259 260 261 262 263 264 265]\n",
      "Train Index:  [   0    1    2 ... 2657 2658 2659] \n",
      "\n",
      "Test Index:  [266 267 268 269 270 271 272 273 274 275 276 277 278 279 280 281 282 283\n",
      " 284 285 286 287 288 289 290 291 292 293 294 295 296 297 298 299 300 301\n",
      " 302 303 304 305 306 307 308 309 310 311 312 313 314 315 316 317 318 319\n",
      " 320 321 322 323 324 325 326 327 328 329 330 331 332 333 334 335 336 337\n",
      " 338 339 340 341 342 343 344 345 346 347 348 349 350 351 352 353 354 355\n",
      " 356 357 358 359 360 361 362 363 364 365 366 367 368 369 370 371 372 373\n",
      " 374 375 376 377 378 379 380 381 382 383 384 385 386 387 388 389 390 391\n",
      " 392 393 394 395 396 397 398 399 400 401 402 403 404 405 406 407 408 409\n",
      " 410 411 412 413 414 415 416 417 418 419 420 421 422 423 424 425 426 427\n",
      " 428 429 430 431 432 433 434 435 436 437 438 439 440 441 442 443 444 445\n",
      " 446 447 448 449 450 451 452 453 454 455 456 457 458 459 460 461 462 463\n",
      " 464 465 466 467 468 469 470 471 472 473 474 475 476 477 478 479 480 481\n",
      " 482 483 484 485 486 487 488 489 490 491 492 493 494 495 496 497 498 499\n",
      " 500 501 502 503 504 505 506 507 508 509 510 511 512 513 514 515 516 517\n",
      " 518 519 520 521 522 523 524 525 526 527 528 529 530 531]\n",
      "Train Index:  [   0    1    2 ... 2657 2658 2659] \n",
      "\n",
      "Test Index:  [532 533 534 535 536 537 538 539 540 541 542 543 544 545 546 547 548 549\n",
      " 550 551 552 553 554 555 556 557 558 559 560 561 562 563 564 565 566 567\n",
      " 568 569 570 571 572 573 574 575 576 577 578 579 580 581 582 583 584 585\n",
      " 586 587 588 589 590 591 592 593 594 595 596 597 598 599 600 601 602 603\n",
      " 604 605 606 607 608 609 610 611 612 613 614 615 616 617 618 619 620 621\n",
      " 622 623 624 625 626 627 628 629 630 631 632 633 634 635 636 637 638 639\n",
      " 640 641 642 643 644 645 646 647 648 649 650 651 652 653 654 655 656 657\n",
      " 658 659 660 661 662 663 664 665 666 667 668 669 670 671 672 673 674 675\n",
      " 676 677 678 679 680 681 682 683 684 685 686 687 688 689 690 691 692 693\n",
      " 694 695 696 697 698 699 700 701 702 703 704 705 706 707 708 709 710 711\n",
      " 712 713 714 715 716 717 718 719 720 721 722 723 724 725 726 727 728 729\n",
      " 730 731 732 733 734 735 736 737 738 739 740 741 742 743 744 745 746 747\n",
      " 748 749 750 751 752 753 754 755 756 757 758 759 760 761 762 763 764 765\n",
      " 766 767 768 769 770 771 772 773 774 775 776 777 778 779 780 781 782 783\n",
      " 784 785 786 787 788 789 790 791 792 793 794 795 796 797]\n",
      "Train Index:  [   0    1    2 ... 2657 2658 2659] \n",
      "\n",
      "Test Index:  [ 798  799  800  801  802  803  804  805  806  807  808  809  810  811\n",
      "  812  813  814  815  816  817  818  819  820  821  822  823  824  825\n",
      "  826  827  828  829  830  831  832  833  834  835  836  837  838  839\n",
      "  840  841  842  843  844  845  846  847  848  849  850  851  852  853\n",
      "  854  855  856  857  858  859  860  861  862  863  864  865  866  867\n",
      "  868  869  870  871  872  873  874  875  876  877  878  879  880  881\n",
      "  882  883  884  885  886  887  888  889  890  891  892  893  894  895\n",
      "  896  897  898  899  900  901  902  903  904  905  906  907  908  909\n",
      "  910  911  912  913  914  915  916  917  918  919  920  921  922  923\n",
      "  924  925  926  927  928  929  930  931  932  933  934  935  936  937\n",
      "  938  939  940  941  942  943  944  945  946  947  948  949  950  951\n",
      "  952  953  954  955  956  957  958  959  960  961  962  963  964  965\n",
      "  966  967  968  969  970  971  972  973  974  975  976  977  978  979\n",
      "  980  981  982  983  984  985  986  987  988  989  990  991  992  993\n",
      "  994  995  996  997  998  999 1000 1001 1002 1003 1004 1005 1006 1007\n",
      " 1008 1009 1010 1011 1012 1013 1014 1015 1016 1017 1018 1019 1020 1021\n",
      " 1022 1023 1024 1025 1026 1027 1028 1029 1030 1031 1032 1033 1034 1035\n",
      " 1036 1037 1038 1039 1040 1041 1042 1043 1044 1045 1046 1047 1048 1049\n",
      " 1050 1051 1052 1053 1054 1055 1056 1057 1058 1059 1060 1061 1062 1063]\n",
      "Train Index:  [   0    1    2 ... 2657 2658 2659] \n",
      "\n",
      "Test Index:  [1064 1065 1066 1067 1068 1069 1070 1071 1072 1073 1074 1075 1076 1077\n",
      " 1078 1079 1080 1081 1082 1083 1084 1085 1086 1087 1088 1089 1090 1091\n",
      " 1092 1093 1094 1095 1096 1097 1098 1099 1100 1101 1102 1103 1104 1105\n",
      " 1106 1107 1108 1109 1110 1111 1112 1113 1114 1115 1116 1117 1118 1119\n",
      " 1120 1121 1122 1123 1124 1125 1126 1127 1128 1129 1130 1131 1132 1133\n",
      " 1134 1135 1136 1137 1138 1139 1140 1141 1142 1143 1144 1145 1146 1147\n",
      " 1148 1149 1150 1151 1152 1153 1154 1155 1156 1157 1158 1159 1160 1161\n",
      " 1162 1163 1164 1165 1166 1167 1168 1169 1170 1171 1172 1173 1174 1175\n",
      " 1176 1177 1178 1179 1180 1181 1182 1183 1184 1185 1186 1187 1188 1189\n",
      " 1190 1191 1192 1193 1194 1195 1196 1197 1198 1199 1200 1201 1202 1203\n",
      " 1204 1205 1206 1207 1208 1209 1210 1211 1212 1213 1214 1215 1216 1217\n",
      " 1218 1219 1220 1221 1222 1223 1224 1225 1226 1227 1228 1229 1230 1231\n",
      " 1232 1233 1234 1235 1236 1237 1238 1239 1240 1241 1242 1243 1244 1245\n",
      " 1246 1247 1248 1249 1250 1251 1252 1253 1254 1255 1256 1257 1258 1259\n",
      " 1260 1261 1262 1263 1264 1265 1266 1267 1268 1269 1270 1271 1272 1273\n",
      " 1274 1275 1276 1277 1278 1279 1280 1281 1282 1283 1284 1285 1286 1287\n",
      " 1288 1289 1290 1291 1292 1293 1294 1295 1296 1297 1298 1299 1300 1301\n",
      " 1302 1303 1304 1305 1306 1307 1308 1309 1310 1311 1312 1313 1314 1315\n",
      " 1316 1317 1318 1319 1320 1321 1322 1323 1324 1325 1326 1327 1328 1329]\n",
      "Train Index:  [   0    1    2 ... 2657 2658 2659] \n",
      "\n",
      "Test Index:  [1330 1331 1332 1333 1334 1335 1336 1337 1338 1339 1340 1341 1342 1343\n",
      " 1344 1345 1346 1347 1348 1349 1350 1351 1352 1353 1354 1355 1356 1357\n",
      " 1358 1359 1360 1361 1362 1363 1364 1365 1366 1367 1368 1369 1370 1371\n",
      " 1372 1373 1374 1375 1376 1377 1378 1379 1380 1381 1382 1383 1384 1385\n",
      " 1386 1387 1388 1389 1390 1391 1392 1393 1394 1395 1396 1397 1398 1399\n",
      " 1400 1401 1402 1403 1404 1405 1406 1407 1408 1409 1410 1411 1412 1413\n",
      " 1414 1415 1416 1417 1418 1419 1420 1421 1422 1423 1424 1425 1426 1427\n",
      " 1428 1429 1430 1431 1432 1433 1434 1435 1436 1437 1438 1439 1440 1441\n",
      " 1442 1443 1444 1445 1446 1447 1448 1449 1450 1451 1452 1453 1454 1455\n",
      " 1456 1457 1458 1459 1460 1461 1462 1463 1464 1465 1466 1467 1468 1469\n",
      " 1470 1471 1472 1473 1474 1475 1476 1477 1478 1479 1480 1481 1482 1483\n",
      " 1484 1485 1486 1487 1488 1489 1490 1491 1492 1493 1494 1495 1496 1497\n",
      " 1498 1499 1500 1501 1502 1503 1504 1505 1506 1507 1508 1509 1510 1511\n",
      " 1512 1513 1514 1515 1516 1517 1518 1519 1520 1521 1522 1523 1524 1525\n",
      " 1526 1527 1528 1529 1530 1531 1532 1533 1534 1535 1536 1537 1538 1539\n",
      " 1540 1541 1542 1543 1544 1545 1546 1547 1548 1549 1550 1551 1552 1553\n",
      " 1554 1555 1556 1557 1558 1559 1560 1561 1562 1563 1564 1565 1566 1567\n",
      " 1568 1569 1570 1571 1572 1573 1574 1575 1576 1577 1578 1579 1580 1581\n",
      " 1582 1583 1584 1585 1586 1587 1588 1589 1590 1591 1592 1593 1594 1595]\n",
      "Train Index:  [   0    1    2 ... 2657 2658 2659] \n",
      "\n",
      "Test Index:  [1596 1597 1598 1599 1600 1601 1602 1603 1604 1605 1606 1607 1608 1609\n",
      " 1610 1611 1612 1613 1614 1615 1616 1617 1618 1619 1620 1621 1622 1623\n",
      " 1624 1625 1626 1627 1628 1629 1630 1631 1632 1633 1634 1635 1636 1637\n",
      " 1638 1639 1640 1641 1642 1643 1644 1645 1646 1647 1648 1649 1650 1651\n",
      " 1652 1653 1654 1655 1656 1657 1658 1659 1660 1661 1662 1663 1664 1665\n",
      " 1666 1667 1668 1669 1670 1671 1672 1673 1674 1675 1676 1677 1678 1679\n",
      " 1680 1681 1682 1683 1684 1685 1686 1687 1688 1689 1690 1691 1692 1693\n",
      " 1694 1695 1696 1697 1698 1699 1700 1701 1702 1703 1704 1705 1706 1707\n",
      " 1708 1709 1710 1711 1712 1713 1714 1715 1716 1717 1718 1719 1720 1721\n",
      " 1722 1723 1724 1725 1726 1727 1728 1729 1730 1731 1732 1733 1734 1735\n",
      " 1736 1737 1738 1739 1740 1741 1742 1743 1744 1745 1746 1747 1748 1749\n",
      " 1750 1751 1752 1753 1754 1755 1756 1757 1758 1759 1760 1761 1762 1763\n",
      " 1764 1765 1766 1767 1768 1769 1770 1771 1772 1773 1774 1775 1776 1777\n",
      " 1778 1779 1780 1781 1782 1783 1784 1785 1786 1787 1788 1789 1790 1791\n",
      " 1792 1793 1794 1795 1796 1797 1798 1799 1800 1801 1802 1803 1804 1805\n",
      " 1806 1807 1808 1809 1810 1811 1812 1813 1814 1815 1816 1817 1818 1819\n",
      " 1820 1821 1822 1823 1824 1825 1826 1827 1828 1829 1830 1831 1832 1833\n",
      " 1834 1835 1836 1837 1838 1839 1840 1841 1842 1843 1844 1845 1846 1847\n",
      " 1848 1849 1850 1851 1852 1853 1854 1855 1856 1857 1858 1859 1860 1861]\n",
      "Train Index:  [   0    1    2 ... 2657 2658 2659] \n",
      "\n",
      "Test Index:  [1862 1863 1864 1865 1866 1867 1868 1869 1870 1871 1872 1873 1874 1875\n",
      " 1876 1877 1878 1879 1880 1881 1882 1883 1884 1885 1886 1887 1888 1889\n",
      " 1890 1891 1892 1893 1894 1895 1896 1897 1898 1899 1900 1901 1902 1903\n",
      " 1904 1905 1906 1907 1908 1909 1910 1911 1912 1913 1914 1915 1916 1917\n",
      " 1918 1919 1920 1921 1922 1923 1924 1925 1926 1927 1928 1929 1930 1931\n",
      " 1932 1933 1934 1935 1936 1937 1938 1939 1940 1941 1942 1943 1944 1945\n",
      " 1946 1947 1948 1949 1950 1951 1952 1953 1954 1955 1956 1957 1958 1959\n",
      " 1960 1961 1962 1963 1964 1965 1966 1967 1968 1969 1970 1971 1972 1973\n",
      " 1974 1975 1976 1977 1978 1979 1980 1981 1982 1983 1984 1985 1986 1987\n",
      " 1988 1989 1990 1991 1992 1993 1994 1995 1996 1997 1998 1999 2000 2001\n",
      " 2002 2003 2004 2005 2006 2007 2008 2009 2010 2011 2012 2013 2014 2015\n",
      " 2016 2017 2018 2019 2020 2021 2022 2023 2024 2025 2026 2027 2028 2029\n",
      " 2030 2031 2032 2033 2034 2035 2036 2037 2038 2039 2040 2041 2042 2043\n",
      " 2044 2045 2046 2047 2048 2049 2050 2051 2052 2053 2054 2055 2056 2057\n",
      " 2058 2059 2060 2061 2062 2063 2064 2065 2066 2067 2068 2069 2070 2071\n",
      " 2072 2073 2074 2075 2076 2077 2078 2079 2080 2081 2082 2083 2084 2085\n",
      " 2086 2087 2088 2089 2090 2091 2092 2093 2094 2095 2096 2097 2098 2099\n",
      " 2100 2101 2102 2103 2104 2105 2106 2107 2108 2109 2110 2111 2112 2113\n",
      " 2114 2115 2116 2117 2118 2119 2120 2121 2122 2123 2124 2125 2126 2127]\n",
      "Train Index:  [   0    1    2 ... 2657 2658 2659] \n",
      "\n",
      "Test Index:  [2128 2129 2130 2131 2132 2133 2134 2135 2136 2137 2138 2139 2140 2141\n",
      " 2142 2143 2144 2145 2146 2147 2148 2149 2150 2151 2152 2153 2154 2155\n",
      " 2156 2157 2158 2159 2160 2161 2162 2163 2164 2165 2166 2167 2168 2169\n",
      " 2170 2171 2172 2173 2174 2175 2176 2177 2178 2179 2180 2181 2182 2183\n",
      " 2184 2185 2186 2187 2188 2189 2190 2191 2192 2193 2194 2195 2196 2197\n",
      " 2198 2199 2200 2201 2202 2203 2204 2205 2206 2207 2208 2209 2210 2211\n",
      " 2212 2213 2214 2215 2216 2217 2218 2219 2220 2221 2222 2223 2224 2225\n",
      " 2226 2227 2228 2229 2230 2231 2232 2233 2234 2235 2236 2237 2238 2239\n",
      " 2240 2241 2242 2243 2244 2245 2246 2247 2248 2249 2250 2251 2252 2253\n",
      " 2254 2255 2256 2257 2258 2259 2260 2261 2262 2263 2264 2265 2266 2267\n",
      " 2268 2269 2270 2271 2272 2273 2274 2275 2276 2277 2278 2279 2280 2281\n",
      " 2282 2283 2284 2285 2286 2287 2288 2289 2290 2291 2292 2293 2294 2295\n",
      " 2296 2297 2298 2299 2300 2301 2302 2303 2304 2305 2306 2307 2308 2309\n",
      " 2310 2311 2312 2313 2314 2315 2316 2317 2318 2319 2320 2321 2322 2323\n",
      " 2324 2325 2326 2327 2328 2329 2330 2331 2332 2333 2334 2335 2336 2337\n",
      " 2338 2339 2340 2341 2342 2343 2344 2345 2346 2347 2348 2349 2350 2351\n",
      " 2352 2353 2354 2355 2356 2357 2358 2359 2360 2361 2362 2363 2364 2365\n",
      " 2366 2367 2368 2369 2370 2371 2372 2373 2374 2375 2376 2377 2378 2379\n",
      " 2380 2381 2382 2383 2384 2385 2386 2387 2388 2389 2390 2391 2392 2393]\n",
      "Train Index:  [   0    1    2 ... 2391 2392 2393] \n",
      "\n",
      "Test Index:  [2394 2395 2396 2397 2398 2399 2400 2401 2402 2403 2404 2405 2406 2407\n",
      " 2408 2409 2410 2411 2412 2413 2414 2415 2416 2417 2418 2419 2420 2421\n",
      " 2422 2423 2424 2425 2426 2427 2428 2429 2430 2431 2432 2433 2434 2435\n",
      " 2436 2437 2438 2439 2440 2441 2442 2443 2444 2445 2446 2447 2448 2449\n",
      " 2450 2451 2452 2453 2454 2455 2456 2457 2458 2459 2460 2461 2462 2463\n",
      " 2464 2465 2466 2467 2468 2469 2470 2471 2472 2473 2474 2475 2476 2477\n",
      " 2478 2479 2480 2481 2482 2483 2484 2485 2486 2487 2488 2489 2490 2491\n",
      " 2492 2493 2494 2495 2496 2497 2498 2499 2500 2501 2502 2503 2504 2505\n",
      " 2506 2507 2508 2509 2510 2511 2512 2513 2514 2515 2516 2517 2518 2519\n",
      " 2520 2521 2522 2523 2524 2525 2526 2527 2528 2529 2530 2531 2532 2533\n",
      " 2534 2535 2536 2537 2538 2539 2540 2541 2542 2543 2544 2545 2546 2547\n",
      " 2548 2549 2550 2551 2552 2553 2554 2555 2556 2557 2558 2559 2560 2561\n",
      " 2562 2563 2564 2565 2566 2567 2568 2569 2570 2571 2572 2573 2574 2575\n",
      " 2576 2577 2578 2579 2580 2581 2582 2583 2584 2585 2586 2587 2588 2589\n",
      " 2590 2591 2592 2593 2594 2595 2596 2597 2598 2599 2600 2601 2602 2603\n",
      " 2604 2605 2606 2607 2608 2609 2610 2611 2612 2613 2614 2615 2616 2617\n",
      " 2618 2619 2620 2621 2622 2623 2624 2625 2626 2627 2628 2629 2630 2631\n",
      " 2632 2633 2634 2635 2636 2637 2638 2639 2640 2641 2642 2643 2644 2645\n",
      " 2646 2647 2648 2649 2650 2651 2652 2653 2654 2655 2656 2657 2658 2659]\n"
     ]
    }
   ],
   "source": [
    "scores = []\n",
    "best_knn = KNeighborsClassifier(n_neighbors=5)\n",
    "\n",
    "cv = KFold(n_splits=10,  shuffle=False)\n",
    "for train_index, test_index in cv.split(X_smote):\n",
    "    print(\"Train Index: \", train_index, \"\\n\")\n",
    "    print(\"Test Index: \", test_index)\n",
    "\n",
    "    X_train, X_test, Y_train, Y_test = X_smote[train_index], X_smote[test_index], Y_smote[train_index], Y_smote[test_index]\n",
    "    best_knn.fit(X_train, Y_train)\n",
    "    scores.append(best_knn.score(X_test, Y_test))"
   ]
  },
  {
   "cell_type": "code",
   "execution_count": 85,
   "metadata": {},
   "outputs": [
    {
     "data": {
      "text/plain": [
       "[0.7030075187969925,\n",
       " 0.9135338345864662,\n",
       " 0.9924812030075187,\n",
       " 0.9736842105263158,\n",
       " 0.9849624060150376,\n",
       " 0.9285714285714286,\n",
       " 0.9774436090225563,\n",
       " 0.9473684210526315,\n",
       " 1.0,\n",
       " 0.9962406015037594,\n",
       " 0.9962406015037594]"
      ]
     },
     "execution_count": 85,
     "metadata": {},
     "output_type": "execute_result"
    }
   ],
   "source": [
    "best_knn.fit(X_train, Y_train)\n",
    "scores.append(best_knn.score(X_test, Y_test))\n",
    "scores"
   ]
  },
  {
   "cell_type": "code",
   "execution_count": 86,
   "metadata": {},
   "outputs": [
    {
     "name": "stdout",
     "output_type": "stream",
     "text": [
      "0.946684894053315\n"
     ]
    }
   ],
   "source": [
    "print(np.mean(scores))"
   ]
  },
  {
   "cell_type": "markdown",
   "metadata": {},
   "source": [
    "Good cross validation score."
   ]
  },
  {
   "cell_type": "code",
   "execution_count": 87,
   "metadata": {},
   "outputs": [
    {
     "data": {
      "text/plain": [
       "array([0.98120301, 0.94360902, 0.96992481, 0.97368421, 0.97368421,\n",
       "       0.96992481, 0.97368421, 0.9887218 , 0.9887218 , 0.9887218 ])"
      ]
     },
     "execution_count": 87,
     "metadata": {},
     "output_type": "execute_result"
    }
   ],
   "source": [
    "from sklearn.model_selection import cross_val_score\n",
    "cross_val_score(best_knn, X_smote, Y_smote, cv=10)"
   ]
  },
  {
   "cell_type": "markdown",
   "metadata": {},
   "source": [
    "#### 4. SVM (Model1-GridSearch)"
   ]
  },
  {
   "cell_type": "code",
   "execution_count": 88,
   "metadata": {},
   "outputs": [],
   "source": [
    "import pandas as pd\n",
    "from imblearn.over_sampling import SMOTE\n",
    "\n",
    "# Read csv file into dataframe\n",
    "df = pd.read_csv('https://raw.githubusercontent.com/toshihiroryuu/Machine_learning/master/ML_004_Hepatitis/processed_unscaled_data.csv')\n",
    "\n",
    "Y = df['category']\n",
    "X = df[['Age', 'Sex', 'ALB', 'ALP', 'ALT', 'AST', 'BIL', 'CHE', 'CHOL', 'CREA', 'GGT', 'PROT']]\n",
    "\n",
    "X_smote,Y_smote = SMOTE().fit_sample(X, Y)\n",
    "\n",
    "X_train, X_test, Y_train, Y_test = train_test_split(X_smote, Y_smote, stratify = Y_smote, test_size=0.2, random_state=52)"
   ]
  },
  {
   "cell_type": "markdown",
   "metadata": {},
   "source": [
    "Apply Grid search to find the best parameters for SVC"
   ]
  },
  {
   "cell_type": "code",
   "execution_count": 89,
   "metadata": {},
   "outputs": [],
   "source": [
    "# from sklearn.svm import SVC\n",
    "# from sklearn.model_selection import GridSearchCV \n",
    "  \n",
    "# # defining parameter range \n",
    "# param_grid = {'C': [0.01, 0.1, 0.2, 0.5, 1, 10, 100],  \n",
    "#               'gamma': [1, 0.1, 0.01, 0.001], \n",
    "#               'kernel': ['rbf', 'linear', 'poly', 'sigmoid']}  \n",
    "  \n",
    "# grid = GridSearchCV(SVC(), param_grid, refit = True, verbose = 3) \n",
    "  \n",
    "# # fitting the model for grid search \n",
    "# grid.fit(X_train, Y_train)"
   ]
  },
  {
   "cell_type": "code",
   "execution_count": 90,
   "metadata": {},
   "outputs": [],
   "source": [
    "# # print best parameter after tuning \n",
    "# print(grid.best_params_) \n",
    "  \n",
    "# # print how our model looks after hyper-parameter tuning \n",
    "# print(grid.best_estimator_)"
   ]
  },
  {
   "cell_type": "markdown",
   "metadata": {},
   "source": [
    "Best SVC model using Grdi Search."
   ]
  },
  {
   "cell_type": "code",
   "execution_count": 91,
   "metadata": {},
   "outputs": [],
   "source": [
    "from sklearn.svm import SVC\n",
    " \n",
    "svm_model = SVC(C=10, gamma=0.001, kernel='poly')\n",
    "svm_model.fit(X_train, Y_train)\n",
    "\n",
    "Y_pred = svm_model.predict(X_test)"
   ]
  },
  {
   "cell_type": "code",
   "execution_count": 92,
   "metadata": {},
   "outputs": [
    {
     "data": {
      "text/plain": [
       "0.9906015037593985"
      ]
     },
     "execution_count": 92,
     "metadata": {},
     "output_type": "execute_result"
    }
   ],
   "source": [
    "from sklearn.metrics import accuracy_score\n",
    "acc = accuracy_score(Y_test, Y_pred)\n",
    "acc"
   ]
  },
  {
   "cell_type": "code",
   "execution_count": 93,
   "metadata": {},
   "outputs": [
    {
     "name": "stdout",
     "output_type": "stream",
     "text": [
      "              precision    recall  f1-score   support\n",
      "\n",
      "           0       1.00      0.95      0.98       106\n",
      "           1       0.99      1.00      1.00       106\n",
      "           2       0.98      1.00      0.99       106\n",
      "           3       0.98      1.00      0.99       107\n",
      "           4       1.00      1.00      1.00       107\n",
      "\n",
      "    accuracy                           0.99       532\n",
      "   macro avg       0.99      0.99      0.99       532\n",
      "weighted avg       0.99      0.99      0.99       532\n",
      "\n"
     ]
    }
   ],
   "source": [
    "from sklearn.metrics import classification_report\n",
    "\n",
    "print(classification_report(Y_test, Y_pred))"
   ]
  },
  {
   "cell_type": "code",
   "execution_count": 94,
   "metadata": {},
   "outputs": [
    {
     "data": {
      "image/png": "[encoded data removed]",
      "text/plain": [
       "<Figure size 432x432 with 2 Axes>"
      ]
     },
     "metadata": {},
     "output_type": "display_data"
    }
   ],
   "source": [
    "skplt.metrics.plot_confusion_matrix(Y_test, Y_pred, figsize=(6,6), \n",
    "                                    title='Confusion Matrix: SVM',\n",
    "                                    normalize=True,\n",
    "                                    cmap='Blues')\n",
    "plt.show()"
   ]
  },
  {
   "cell_type": "markdown",
   "metadata": {},
   "source": [
    "#### 5. Logistic Regression(Model1)"
   ]
  },
  {
   "cell_type": "code",
   "execution_count": 95,
   "metadata": {},
   "outputs": [
    {
     "name": "stderr",
     "output_type": "stream",
     "text": [
      "C:\\Users\\athul\\anaconda3\\lib\\site-packages\\sklearn\\linear_model\\_logistic.py:763: ConvergenceWarning: lbfgs failed to converge (status=1):\n",
      "STOP: TOTAL NO. of ITERATIONS REACHED LIMIT.\n",
      "\n",
      "Increase the number of iterations (max_iter) or scale the data as shown in:\n",
      "    https://scikit-learn.org/stable/modules/preprocessing.html\n",
      "Please also refer to the documentation for alternative solver options:\n",
      "    https://scikit-learn.org/stable/modules/linear_model.html#logistic-regression\n",
      "  n_iter_i = _check_optimize_result(\n"
     ]
    }
   ],
   "source": [
    "from sklearn.linear_model import LogisticRegression\n",
    "from sklearn.metrics import classification_report, confusion_matrix, accuracy_score\n",
    "\n",
    "log_reg = LogisticRegression(max_iter=1000)\n",
    "log_reg.fit(X_train, Y_train)\n",
    "Y_pred = log_reg.predict(X_test)"
   ]
  },
  {
   "cell_type": "code",
   "execution_count": 96,
   "metadata": {},
   "outputs": [
    {
     "data": {
      "text/plain": [
       "0.9097744360902256"
      ]
     },
     "execution_count": 96,
     "metadata": {},
     "output_type": "execute_result"
    }
   ],
   "source": [
    "from sklearn.metrics import accuracy_score\n",
    "\n",
    "acc = accuracy_score(Y_test,Y_pred)\n",
    "acc"
   ]
  },
  {
   "cell_type": "code",
   "execution_count": 97,
   "metadata": {},
   "outputs": [
    {
     "name": "stdout",
     "output_type": "stream",
     "text": [
      "              precision    recall  f1-score   support\n",
      "\n",
      "           0       0.90      0.95      0.93       106\n",
      "           1       0.95      0.92      0.93       106\n",
      "           2       0.80      0.86      0.83       106\n",
      "           3       0.92      0.82      0.87       107\n",
      "           4       0.99      1.00      1.00       107\n",
      "\n",
      "    accuracy                           0.91       532\n",
      "   macro avg       0.91      0.91      0.91       532\n",
      "weighted avg       0.91      0.91      0.91       532\n",
      "\n"
     ]
    }
   ],
   "source": [
    "from sklearn.metrics import classification_report\n",
    "\n",
    "print(classification_report(Y_test, Y_pred))"
   ]
  },
  {
   "cell_type": "code",
   "execution_count": 98,
   "metadata": {},
   "outputs": [
    {
     "data": {
      "image/png": "[encoded data removed]",
      "text/plain": [
       "<Figure size 432x432 with 2 Axes>"
      ]
     },
     "metadata": {},
     "output_type": "display_data"
    }
   ],
   "source": [
    "skplt.metrics.plot_confusion_matrix(Y_test, Y_pred, figsize=(6,6), \n",
    "                                    title='Confusion Matrix: SVM',\n",
    "                                    normalize=True,\n",
    "                                    cmap='Blues')\n",
    "plt.show()"
   ]
  },
  {
   "cell_type": "markdown",
   "metadata": {},
   "source": [
    "### Regression Models"
   ]
  },
  {
   "cell_type": "markdown",
   "metadata": {},
   "source": [
    "#### Linear Regression (Model1)"
   ]
  },
  {
   "cell_type": "code",
   "execution_count": 99,
   "metadata": {},
   "outputs": [
    {
     "data": {
      "text/plain": [
       "LinearRegression()"
      ]
     },
     "execution_count": 99,
     "metadata": {},
     "output_type": "execute_result"
    }
   ],
   "source": [
    "from sklearn.linear_model import LinearRegression\n",
    "\n",
    "# Read csv file into dataframe\n",
    "df = pd.read_csv('https://raw.githubusercontent.com/toshihiroryuu/Machine_learning/master/ML_004_Hepatitis/processed_unscaled_data.csv')\n",
    "\n",
    "Y = df['CREA']\n",
    "X = df[['Age', 'Sex', 'category']]\n",
    "\n",
    "\n",
    "X_train, X_test, Y_train, Y_test = train_test_split(X, Y, test_size=0.2, random_state=52)\n",
    "\n",
    "linear = LinearRegression()\n",
    "linear.fit(X_train, Y_train)"
   ]
  },
  {
   "cell_type": "code",
   "execution_count": 100,
   "metadata": {},
   "outputs": [
    {
     "data": {
      "text/plain": [
       "0.27285523932471223"
      ]
     },
     "execution_count": 100,
     "metadata": {},
     "output_type": "execute_result"
    }
   ],
   "source": [
    "from sklearn.metrics import r2_score\n",
    "\n",
    "Y_pred = linear.predict(X_test)\n",
    "score = r2_score(Y_test, Y_pred)\n",
    "score"
   ]
  },
  {
   "cell_type": "code",
   "execution_count": 101,
   "metadata": {},
   "outputs": [
    {
     "name": "stdout",
     "output_type": "stream",
     "text": [
      "The linear model is: Y =  70.77934074280283 + -0.011260691654346058 X1 +  15.042858148318977 X2 +  -5.721602677490149 X3\n"
     ]
    }
   ],
   "source": [
    "print(\"The linear model is: Y = \",linear.intercept_, \"+\", linear.coef_[0], \"X1 + \", linear.coef_[1], \"X2 + \", linear.coef_[2], \"X3\")"
   ]
  },
  {
   "cell_type": "code",
   "execution_count": 102,
   "metadata": {},
   "outputs": [
    {
     "data": {
      "text/plain": [
       "array([0.33690404, 0.05109544, 0.35084828, 0.40717718, 0.18269247,\n",
       "       0.27461192, 0.07991234, 0.23845648, 0.52623569, 0.2541711 ])"
      ]
     },
     "execution_count": 102,
     "metadata": {},
     "output_type": "execute_result"
    }
   ],
   "source": [
    "# KFold cross validation\n",
    "folds = KFold(n_splits = 10, shuffle = True, random_state = 100)\n",
    "scores = cross_val_score(linear, X_train, Y_train, scoring='r2', cv=folds)\n",
    "scores "
   ]
  },
  {
   "cell_type": "markdown",
   "metadata": {},
   "source": [
    "#### SVR (Model1)"
   ]
  },
  {
   "cell_type": "code",
   "execution_count": 103,
   "metadata": {},
   "outputs": [],
   "source": [
    "from sklearn.model_selection import train_test_split\n",
    "\n",
    "import pandas as pd\n",
    "from imblearn.over_sampling import SMOTE\n",
    "\n",
    "# Read csv file into dataframe\n",
    "df = pd.read_csv('https://raw.githubusercontent.com/toshihiroryuu/Machine_learning/master/ML_004_Hepatitis/processed_unscaled_data.csv')\n",
    "\n",
    "Y = df['category']\n",
    "X = df[['Age', 'Sex', 'ALB', 'ALP', 'ALT', 'AST', 'BIL', 'CHE', 'CHOL', 'CREA', 'GGT', 'PROT']]\n",
    "\n",
    "X_smote,Y_smote = SMOTE().fit_sample(X, Y)\n",
    "\n",
    "X_train, X_test, Y_train, Y_test = train_test_split(X_smote, Y_smote, stratify = Y_smote, test_size=0.2, random_state=52)\n"
   ]
  },
  {
   "cell_type": "code",
   "execution_count": 104,
   "metadata": {},
   "outputs": [
    {
     "data": {
      "text/plain": [
       "array([ 1.67950523,  2.31524868,  1.10915748, -0.0639416 ,  1.95720136,\n",
       "        0.98939607,  2.63425701,  3.6400287 ,  3.79639221,  2.3461906 ])"
      ]
     },
     "execution_count": 104,
     "metadata": {},
     "output_type": "execute_result"
    }
   ],
   "source": [
    "from sklearn.svm import SVR\n",
    "\n",
    "sv_regressor = SVR(kernel='linear', degree=3)\n",
    "\n",
    "sv_regressor.fit(X_train,Y_train)\n",
    "Y_pred = sv_regressor.predict(X_test)\n",
    "Y_pred[:10]"
   ]
  },
  {
   "cell_type": "code",
   "execution_count": 105,
   "metadata": {},
   "outputs": [],
   "source": [
    "# class to convert regression values to Class\n",
    "def reg_to_class(val):\n",
    "    cc = 0\n",
    "    if val<=0.5:\n",
    "        cc = 0\n",
    "    elif val<=1.5 and val>0.5:\n",
    "        cc = 1\n",
    "    elif val<=2.5 and val>1.5:\n",
    "        cc = 2\n",
    "    elif val<=3.5 and val>2.5:\n",
    "        cc = 3\n",
    "    else:\n",
    "        cc = 4\n",
    "    return cc"
   ]
  },
  {
   "cell_type": "code",
   "execution_count": 106,
   "metadata": {},
   "outputs": [
    {
     "data": {
      "text/plain": [
       "[2, 2, 1, 0, 2, 1, 3, 4, 4, 2]"
      ]
     },
     "execution_count": 106,
     "metadata": {},
     "output_type": "execute_result"
    }
   ],
   "source": [
    "pred = []\n",
    "\n",
    "for i in Y_pred:\n",
    "    pred.append(reg_to_class(i))\n",
    " \n",
    "pred[:10]"
   ]
  },
  {
   "cell_type": "code",
   "execution_count": 107,
   "metadata": {},
   "outputs": [
    {
     "name": "stdout",
     "output_type": "stream",
     "text": [
      "0.5808632799289852\n"
     ]
    }
   ],
   "source": [
    "print(sv_regressor.score(X_test, Y_test))"
   ]
  },
  {
   "cell_type": "code",
   "execution_count": 108,
   "metadata": {},
   "outputs": [
    {
     "data": {
      "text/plain": [
       "array([0.50555549, 0.48480191, 0.5425871 , 0.50872056, 0.54500515,\n",
       "       0.54517047, 0.48240305, 0.59030217, 0.57416951, 0.52922106])"
      ]
     },
     "execution_count": 108,
     "metadata": {},
     "output_type": "execute_result"
    }
   ],
   "source": [
    "# create a KFold object with 5 splits \n",
    "folds = KFold(n_splits = 10, shuffle = True, random_state = 100)\n",
    "scores = cross_val_score(sv_regressor, X_train, Y_train, scoring='r2', cv=folds)\n",
    "scores "
   ]
  },
  {
   "cell_type": "markdown",
   "metadata": {},
   "source": [
    "### ROC Tests"
   ]
  },
  {
   "cell_type": "code",
   "execution_count": 109,
   "metadata": {},
   "outputs": [],
   "source": [
    "from sklearn.linear_model import LogisticRegression\n",
    "from sklearn.naive_bayes import GaussianNB\n",
    "from sklearn.svm import SVC\n",
    "from sklearn.tree import DecisionTreeClassifier"
   ]
  },
  {
   "cell_type": "code",
   "execution_count": 110,
   "metadata": {},
   "outputs": [],
   "source": [
    "log_model = LogisticRegression()\n",
    "nb_model = GaussianNB()\n",
    "svc_model = SVC()\n",
    "des_model = DecisionTreeClassifier(class_weight=None, criterion=\"gini\", \n",
    "                       max_depth=6, min_samples_leaf=0.1,\n",
    "                       min_samples_split=0.1)"
   ]
  },
  {
   "cell_type": "code",
   "execution_count": 111,
   "metadata": {},
   "outputs": [],
   "source": [
    "# Multi-class classification\n",
    "from sklearn.multiclass import OneVsRestClassifier\n",
    "from sklearn.model_selection import train_test_split\n",
    "from sklearn.metrics import auc\n",
    "from sklearn.metrics import roc_curve\n",
    "from sklearn.metrics import roc_auc_score\n",
    "\n",
    "# Read csv file into dataframe\n",
    "df = pd.read_csv('https://raw.githubusercontent.com/toshihiroryuu/Machine_learning/master/ML_004_Hepatitis/processed_unscaled_data.csv')\n",
    "\n",
    "Y = df['category'].to_numpy()\n",
    "X = df[['Age', 'Sex', 'ALB', 'ALP', 'ALT', 'AST', 'BIL', 'CHE', 'CHOL', 'CREA', 'GGT', 'PROT']].to_numpy()\n",
    "\n",
    "X_smote,Y_smote = SMOTE().fit_sample(X, Y)\n",
    "\n",
    "X_train, X_test, Y_train, Y_test = train_test_split(X_smote, Y_smote, stratify = Y_smote, test_size=0.2, random_state=52)\n",
    "\n",
    "label_dict = {0: 'Blood donor',1 :'Cirrhosis', 2: 'Fibrosis', 3 :'Hepatits', 4 : 'Suspect Blood Donor'}\n",
    "\n",
    "def find_roc(classifier):\n",
    "    # fit model\n",
    "    clf = OneVsRestClassifier(classifier)\n",
    "    clf.fit(X_train, Y_train)\n",
    "    pred = clf.predict(X_test)\n",
    "    pred_prob = clf.predict_proba(X_test)\n",
    "\n",
    "    fpr = {}\n",
    "    tpr = {}\n",
    "    thresh ={}\n",
    "\n",
    "    n_class = 5\n",
    "\n",
    "    for i in range(n_class):    \n",
    "        fpr[i], tpr[i], thresh[i] = roc_curve(Y_test, pred_prob[:,i], pos_label=i)\n",
    "        roc_auc  = auc(fpr[i], tpr[i])\n",
    "        plt.plot(fpr[i], tpr[i], linestyle='--', label='%s ROC (area = %0.2f)' % (label_dict[i], roc_auc))\n",
    "\n",
    "    plt.title(str(classifier) + ' Multiclass ROC curve')\n",
    "    plt.xlabel('False Positive Rate')\n",
    "    plt.ylabel('True Positive rate')\n",
    "    plt.legend(loc='best')"
   ]
  },
  {
   "cell_type": "code",
   "execution_count": 112,
   "metadata": {},
   "outputs": [
    {
     "data": {
      "image/png": "[encoded data removed]",
      "text/plain": [
       "<Figure size 432x288 with 1 Axes>"
      ]
     },
     "metadata": {},
     "output_type": "display_data"
    }
   ],
   "source": [
    "# Logistic Regression\n",
    "log_model.max_iter=1000\n",
    "find_roc(log_model)"
   ]
  },
  {
   "cell_type": "code",
   "execution_count": 113,
   "metadata": {},
   "outputs": [
    {
     "data": {
      "image/png": "[encoded data removed]",
      "text/plain": [
       "<Figure size 432x288 with 1 Axes>"
      ]
     },
     "metadata": {},
     "output_type": "display_data"
    }
   ],
   "source": [
    "# Naive Bayes Model\n",
    "find_roc(nb_model)"
   ]
  },
  {
   "cell_type": "code",
   "execution_count": 114,
   "metadata": {},
   "outputs": [
    {
     "data": {
      "image/png": "[encoded data removed]",
      "text/plain": [
       "<Figure size 432x288 with 1 Axes>"
      ]
     },
     "metadata": {},
     "output_type": "display_data"
    }
   ],
   "source": [
    "# SVC Model\n",
    "svc_model = SVC()\n",
    "svc_model.probability = True\n",
    "find_roc(svc_model)"
   ]
  },
  {
   "cell_type": "code",
   "execution_count": 115,
   "metadata": {},
   "outputs": [
    {
     "data": {
      "image/png": "[encoded data removed]",
      "text/plain": [
       "<Figure size 432x288 with 1 Axes>"
      ]
     },
     "metadata": {},
     "output_type": "display_data"
    }
   ],
   "source": [
    "# Decision Tree\n",
    "find_roc(des_model)"
   ]
  },
  {
   "cell_type": "raw",
   "metadata": {},
   "source": [
    "SUMMARY:\n",
    "    ---------------------------------------------------------\n",
    "    |  Model             |    Accuracy    |    F-measure    | \n",
    "    ---------------------------------------------------------\n",
    "    |Niave Bayes         |    87.22       |       0.87      |\n",
    "    ---------------------------------------------------------\n",
    "    |Decision Tree       |    96.05       |       0.96      |\n",
    "    ---------------------------------------------------------\n",
    "    |KNN                 |    97.37       |       0.98      |\n",
    "    ---------------------------------------------------------\n",
    "    |SVM                 |    98.6        |       0.97      |           \n",
    "    ---------------------------------------------------------\n",
    "    |Logistic Regression |    93.7        |       0.94      |\n",
    "    ---------------------------------------------------------"
   ]
  },
  {
   "cell_type": "markdown",
   "metadata": {},
   "source": [
    "#### Gradio UI (User Interface)"
   ]
  },
  {
   "cell_type": "code",
   "execution_count": 116,
   "metadata": {},
   "outputs": [],
   "source": [
    "# !pip install gradio"
   ]
  },
  {
   "cell_type": "code",
   "execution_count": 117,
   "metadata": {},
   "outputs": [],
   "source": [
    "def convert(opt):\n",
    "    if opt==0:\n",
    "        strr = \"Blood Donor\"\n",
    "    elif opt == 1:\n",
    "        strr= \"Cirrhosis\"\n",
    "    elif opt == 2:\n",
    "        strr = \"Fibrosis\"\n",
    "    elif opt == 3:\n",
    "        strr = \"Hepatitis\"\n",
    "    else:\n",
    "        strr = \"Suspected Blood Donor\"\n",
    "    return strr"
   ]
  },
  {
   "cell_type": "code",
   "execution_count": 118,
   "metadata": {},
   "outputs": [],
   "source": [
    "import gradio as gr\n",
    "\n",
    "import pandas as pd\n",
    "\n",
    "def gpredict(Age, Sex, ALB, ALP, ALT, AST, BIL, CHE, CHOL, CREA, GGT, PROT):\n",
    "    \n",
    "    if Sex == \"Male\":\n",
    "        Sex = 1\n",
    "    else:\n",
    "        Sex = 0\n",
    "        \n",
    "    test = [[Age, Sex, ALB, ALP, ALT, AST, BIL, CHE, CHOL, CREA, GGT, PROT]]\n",
    "    test = pd.DataFrame(test, columns =['Age', 'Sex', 'ALB', 'ALP', 'ALT', 'AST', 'BIL', 'CHE', 'CHOL', 'CREA', 'GGT', 'PROT'], dtype = float)\n",
    "\n",
    "    opt1 = int(svm_model.predict(test))\n",
    "    opt2 = int(classifier.predict(test))\n",
    "    opt3 = int(modelnb2.predict(test))\n",
    "    opt4 = int(modeldt2.predict(test))\n",
    "    opt5 = int(log_reg.predict(test))\n",
    "    \n",
    "    listt = [opt1, opt2, opt3, opt4, opt5]\n",
    "    \n",
    "    opt = max(set(listt), key=listt.count)\n",
    " \n",
    "    return convert(opt1), convert(opt2), convert(opt3), convert(opt4), convert(opt5), convert(opt)\n"
   ]
  },
  {
   "cell_type": "code",
   "execution_count": 119,
   "metadata": {},
   "outputs": [
    {
     "name": "stdout",
     "output_type": "stream",
     "text": [
      "Running locally at: http://127.0.0.1:7860/\n",
      "To get a public link for a hosted model, set Share=True\n",
      "Interface loading below...\n"
     ]
    },
    {
     "data": {
      "text/html": [
       "\n",
       "        <iframe\n",
       "            width=\"1000\"\n",
       "            height=\"500\"\n",
       "            src=\"http://127.0.0.1:7860/\"\n",
       "            frameborder=\"0\"\n",
       "            allowfullscreen\n",
       "        ></iframe>\n",
       "        "
      ],
      "text/plain": [
       "<IPython.lib.display.IFrame at 0x2117db04ee0>"
      ]
     },
     "metadata": {},
     "output_type": "display_data"
    },
    {
     "data": {
      "text/plain": [
       "(<Flask 'gradio.networking'>, 'http://127.0.0.1:7860/', None)"
      ]
     },
     "execution_count": 119,
     "metadata": {},
     "output_type": "execute_result"
    }
   ],
   "source": [
    "iface = gr.Interface(\n",
    "  fn=gpredict, \n",
    "    \n",
    "  inputs=[gr.inputs.Slider(0, 80, default=42), gr.inputs.Radio(['female', 'male'], label=\"Sex\"), \n",
    "          gr.inputs.Slider(0, 70), gr.inputs.Slider(0, 210),\n",
    "          gr.inputs.Slider(0, 330), gr.inputs.Slider(0, 190),\n",
    "          gr.inputs.Slider(0, 100), gr.inputs.Slider(0, 18),\n",
    "          gr.inputs.Slider(0, 10), gr.inputs.Slider(0, 160),\n",
    "          gr.inputs.Slider(0, 300), gr.inputs.Slider(0, 90)],\n",
    "    \n",
    "  outputs=[gr.outputs.Textbox(label=\"SVM (98%)\"), \n",
    "           gr.outputs.Textbox(label=\"KNN (97%)\"), \n",
    "           gr.outputs.Textbox(label=\"Naive Bayes (87%)\"), \n",
    "           gr.outputs.Textbox(label=\"Decision Tree (96%)\"),\n",
    "           gr.outputs.Textbox(label=\"Logistic Regression (94%)\"),\n",
    "           gr.outputs.Textbox(label=\"Final Result\")],\n",
    "\n",
    "  live=True)\n",
    "\n",
    "iface.launch()"
   ]
  },
  {
   "cell_type": "code",
   "execution_count": null,
   "metadata": {},
   "outputs": [],
   "source": []
  }
 ],
 "metadata": {
  "kernelspec": {
   "display_name": "Python 3",
   "language": "python",
   "name": "python3"
  },
  "language_info": {
   "codemirror_mode": {
    "name": "ipython",
    "version": 3
   },
   "file_extension": ".py",
   "mimetype": "text/x-python",
   "name": "python",
   "nbconvert_exporter": "python",
   "pygments_lexer": "ipython3",
   "version": "3.8.3"
  }
 },
 "nbformat": 4,
 "nbformat_minor": 4
}
